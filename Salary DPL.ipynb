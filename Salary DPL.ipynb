{
 "cells": [
  {
   "cell_type": "code",
   "execution_count": 1,
   "id": "adce857b-b891-4c48-a4b5-a32cd9dd920f",
   "metadata": {},
   "outputs": [],
   "source": [
    "import pandas as pd\n",
    "import numpy as np\n",
    "\n",
    "from sklearn.preprocessing import StandardScaler\n",
    "from sklearn.model_selection import train_test_split, KFold, StratifiedKFold, RandomizedSearchCV, GridSearchCV\n",
    "from sklearn.linear_model import SGDRegressor, SGDClassifier\n",
    "from sklearn.metrics import mean_absolute_error,mean_squared_error,accuracy_score,classification_report,roc_auc_score, roc_curve\n",
    "#from sklearn.datasets import load_boston\n",
    "#from sklearn.datasets import load_breast_cancer\n",
    "from sklearn.tree import DecisionTreeClassifier, export_graphviz\n",
    "from sklearn import tree\n",
    "\n",
    "import matplotlib.pyplot as plt"
   ]
  },
  {
   "cell_type": "code",
   "execution_count": 103,
   "id": "d53c8d10-23c2-4ee6-9909-12599412bf08",
   "metadata": {},
   "outputs": [],
   "source": [
    "df = pd.read_csv('C:\\\\Users\\\\kandanulus\\\\MyTestlab\\\\DPL\\\\Salary\\\\Salary_Data.csv')"
   ]
  },
  {
   "cell_type": "code",
   "execution_count": 104,
   "id": "3ba7fc2e-971d-4b1f-bb92-3425618ef9a0",
   "metadata": {},
   "outputs": [
    {
     "data": {
      "text/html": [
       "<div>\n",
       "<style scoped>\n",
       "    .dataframe tbody tr th:only-of-type {\n",
       "        vertical-align: middle;\n",
       "    }\n",
       "\n",
       "    .dataframe tbody tr th {\n",
       "        vertical-align: top;\n",
       "    }\n",
       "\n",
       "    .dataframe thead th {\n",
       "        text-align: right;\n",
       "    }\n",
       "</style>\n",
       "<table border=\"1\" class=\"dataframe\">\n",
       "  <thead>\n",
       "    <tr style=\"text-align: right;\">\n",
       "      <th></th>\n",
       "      <th>YearsExperience</th>\n",
       "      <th>Salary</th>\n",
       "    </tr>\n",
       "  </thead>\n",
       "  <tbody>\n",
       "    <tr>\n",
       "      <th>0</th>\n",
       "      <td>1.1</td>\n",
       "      <td>39343.0</td>\n",
       "    </tr>\n",
       "    <tr>\n",
       "      <th>1</th>\n",
       "      <td>1.3</td>\n",
       "      <td>46205.0</td>\n",
       "    </tr>\n",
       "    <tr>\n",
       "      <th>2</th>\n",
       "      <td>1.5</td>\n",
       "      <td>37731.0</td>\n",
       "    </tr>\n",
       "    <tr>\n",
       "      <th>3</th>\n",
       "      <td>2.0</td>\n",
       "      <td>43525.0</td>\n",
       "    </tr>\n",
       "    <tr>\n",
       "      <th>4</th>\n",
       "      <td>2.2</td>\n",
       "      <td>39891.0</td>\n",
       "    </tr>\n",
       "  </tbody>\n",
       "</table>\n",
       "</div>"
      ],
      "text/plain": [
       "   YearsExperience   Salary\n",
       "0              1.1  39343.0\n",
       "1              1.3  46205.0\n",
       "2              1.5  37731.0\n",
       "3              2.0  43525.0\n",
       "4              2.2  39891.0"
      ]
     },
     "execution_count": 104,
     "metadata": {},
     "output_type": "execute_result"
    }
   ],
   "source": [
    "df.head()"
   ]
  },
  {
   "cell_type": "code",
   "execution_count": 105,
   "id": "bfd8cfae-35bc-4868-bfdd-04511fd97e46",
   "metadata": {},
   "outputs": [],
   "source": [
    "import tensorflow as tf"
   ]
  },
  {
   "cell_type": "code",
   "execution_count": 106,
   "id": "e87533a7-4eac-4efd-972f-2c0ff52e565f",
   "metadata": {},
   "outputs": [
    {
     "data": {
      "text/plain": [
       "(31, 2)"
      ]
     },
     "execution_count": 106,
     "metadata": {},
     "output_type": "execute_result"
    }
   ],
   "source": [
    "df.shape"
   ]
  },
  {
   "cell_type": "code",
   "execution_count": 107,
   "id": "0dd7f90a-1994-4d1e-afb4-a3304ad8bcb6",
   "metadata": {},
   "outputs": [
    {
     "data": {
      "text/plain": [
       "YearsExperience    1\n",
       "Salary             1\n",
       "dtype: int64"
      ]
     },
     "execution_count": 107,
     "metadata": {},
     "output_type": "execute_result"
    }
   ],
   "source": [
    "df.isnull().sum()"
   ]
  },
  {
   "cell_type": "code",
   "execution_count": 108,
   "id": "88f6dca9-3482-4f0b-b52c-9c4a28c0598b",
   "metadata": {},
   "outputs": [],
   "source": [
    "df.dropna(inplace=True)"
   ]
  },
  {
   "cell_type": "code",
   "execution_count": 109,
   "id": "85a3f81b-c19a-496d-9ec4-09d33fd10739",
   "metadata": {},
   "outputs": [
    {
     "data": {
      "text/html": [
       "<div>\n",
       "<style scoped>\n",
       "    .dataframe tbody tr th:only-of-type {\n",
       "        vertical-align: middle;\n",
       "    }\n",
       "\n",
       "    .dataframe tbody tr th {\n",
       "        vertical-align: top;\n",
       "    }\n",
       "\n",
       "    .dataframe thead th {\n",
       "        text-align: right;\n",
       "    }\n",
       "</style>\n",
       "<table border=\"1\" class=\"dataframe\">\n",
       "  <thead>\n",
       "    <tr style=\"text-align: right;\">\n",
       "      <th></th>\n",
       "      <th>YearsExperience</th>\n",
       "      <th>Salary</th>\n",
       "    </tr>\n",
       "  </thead>\n",
       "  <tbody>\n",
       "    <tr>\n",
       "      <th>0</th>\n",
       "      <td>1.1</td>\n",
       "      <td>39343.0</td>\n",
       "    </tr>\n",
       "    <tr>\n",
       "      <th>1</th>\n",
       "      <td>1.3</td>\n",
       "      <td>46205.0</td>\n",
       "    </tr>\n",
       "    <tr>\n",
       "      <th>2</th>\n",
       "      <td>1.5</td>\n",
       "      <td>37731.0</td>\n",
       "    </tr>\n",
       "    <tr>\n",
       "      <th>3</th>\n",
       "      <td>2.0</td>\n",
       "      <td>43525.0</td>\n",
       "    </tr>\n",
       "    <tr>\n",
       "      <th>4</th>\n",
       "      <td>2.2</td>\n",
       "      <td>39891.0</td>\n",
       "    </tr>\n",
       "  </tbody>\n",
       "</table>\n",
       "</div>"
      ],
      "text/plain": [
       "   YearsExperience   Salary\n",
       "0              1.1  39343.0\n",
       "1              1.3  46205.0\n",
       "2              1.5  37731.0\n",
       "3              2.0  43525.0\n",
       "4              2.2  39891.0"
      ]
     },
     "execution_count": 109,
     "metadata": {},
     "output_type": "execute_result"
    }
   ],
   "source": [
    "df.head()"
   ]
  },
  {
   "cell_type": "code",
   "execution_count": 110,
   "id": "11ef616b-067f-463a-95cb-47bf3bfbfd1d",
   "metadata": {},
   "outputs": [
    {
     "data": {
      "text/plain": [
       "(30, 2)"
      ]
     },
     "execution_count": 110,
     "metadata": {},
     "output_type": "execute_result"
    }
   ],
   "source": [
    "df.shape"
   ]
  },
  {
   "cell_type": "markdown",
   "id": "ad7a6bb9-c152-4061-ba5a-9c797622fcf3",
   "metadata": {},
   "source": [
    "\n",
    "# X (feature) : Standard Scaler\n",
    "# Y(label) : MinMaxScaler [0 to 1]\n"
   ]
  },
  {
   "cell_type": "code",
   "execution_count": 111,
   "id": "6d656d68-25e2-4e24-bbf9-bfdb81c82527",
   "metadata": {},
   "outputs": [],
   "source": [
    "X=df.iloc[:,[0]].values\n",
    "y=df.iloc[:,[1]].values"
   ]
  },
  {
   "cell_type": "code",
   "execution_count": 112,
   "id": "76818433-7ad9-447d-9113-a70d906ad90f",
   "metadata": {},
   "outputs": [
    {
     "data": {
      "text/plain": [
       "array([[ 1.1],\n",
       "       [ 1.3],\n",
       "       [ 1.5],\n",
       "       [ 2. ],\n",
       "       [ 2.2],\n",
       "       [ 2.9],\n",
       "       [ 3. ],\n",
       "       [ 3.2],\n",
       "       [ 3.2],\n",
       "       [ 3.7],\n",
       "       [ 3.9],\n",
       "       [ 4. ],\n",
       "       [ 4. ],\n",
       "       [ 4.1],\n",
       "       [ 4.5],\n",
       "       [ 4.9],\n",
       "       [ 5.1],\n",
       "       [ 5.3],\n",
       "       [ 5.9],\n",
       "       [ 6. ],\n",
       "       [ 6.8],\n",
       "       [ 7.1],\n",
       "       [ 7.9],\n",
       "       [ 8.2],\n",
       "       [ 8.7],\n",
       "       [ 9. ],\n",
       "       [ 9.5],\n",
       "       [ 9.6],\n",
       "       [10.3],\n",
       "       [10.5]])"
      ]
     },
     "execution_count": 112,
     "metadata": {},
     "output_type": "execute_result"
    }
   ],
   "source": [
    "X"
   ]
  },
  {
   "cell_type": "code",
   "execution_count": 113,
   "id": "e9a69126-8070-4990-bb86-c3202b7b62a2",
   "metadata": {},
   "outputs": [
    {
     "data": {
      "text/plain": [
       "array([[ 39343.],\n",
       "       [ 46205.],\n",
       "       [ 37731.],\n",
       "       [ 43525.],\n",
       "       [ 39891.],\n",
       "       [ 56642.],\n",
       "       [ 60150.],\n",
       "       [ 54445.],\n",
       "       [ 64445.],\n",
       "       [ 57189.],\n",
       "       [ 63218.],\n",
       "       [ 55794.],\n",
       "       [ 56957.],\n",
       "       [ 57081.],\n",
       "       [ 61111.],\n",
       "       [ 67938.],\n",
       "       [ 66029.],\n",
       "       [ 83088.],\n",
       "       [ 81363.],\n",
       "       [ 93940.],\n",
       "       [ 91738.],\n",
       "       [ 98273.],\n",
       "       [101302.],\n",
       "       [113812.],\n",
       "       [109431.],\n",
       "       [105582.],\n",
       "       [116969.],\n",
       "       [112635.],\n",
       "       [122391.],\n",
       "       [121872.]])"
      ]
     },
     "execution_count": 113,
     "metadata": {},
     "output_type": "execute_result"
    }
   ],
   "source": [
    "y"
   ]
  },
  {
   "cell_type": "markdown",
   "id": "d2810b38-5eb4-4466-b265-887139898faa",
   "metadata": {},
   "source": [
    "# scale the features and labels"
   ]
  },
  {
   "cell_type": "code",
   "execution_count": 114,
   "id": "0670ca5e-3818-4639-91d4-4c7dd46b300e",
   "metadata": {},
   "outputs": [],
   "source": [
    "from sklearn.preprocessing import StandardScaler\n",
    "stdscl = StandardScaler()\n",
    "X_scaled = stdscl.fit_transform(X)\n",
    "from sklearn.preprocessing import MinMaxScaler\n",
    "minmax = MinMaxScaler()\n",
    "y_label = minmax.fit_transform(y)"
   ]
  },
  {
   "cell_type": "code",
   "execution_count": 115,
   "id": "870143a1-187b-41a3-a255-10a0d5f9be1a",
   "metadata": {},
   "outputs": [
    {
     "data": {
      "text/plain": [
       "array([[0.01904087],\n",
       "       [0.1000945 ],\n",
       "       [0.        ],\n",
       "       [0.06843846],\n",
       "       [0.02551382],\n",
       "       [0.22337586],\n",
       "       [0.26481219],\n",
       "       [0.19742499],\n",
       "       [0.31554453],\n",
       "       [0.229837  ],\n",
       "       [0.30105126],\n",
       "       [0.21335932],\n",
       "       [0.22709662],\n",
       "       [0.2285613 ],\n",
       "       [0.27616348],\n",
       "       [0.35680369],\n",
       "       [0.33425467],\n",
       "       [0.53575478],\n",
       "       [0.51537916],\n",
       "       [0.66393811],\n",
       "       [0.63792818],\n",
       "       [0.7151193 ],\n",
       "       [0.75089771],\n",
       "       [0.89866525],\n",
       "       [0.84691708],\n",
       "       [0.80145287],\n",
       "       [0.93595559],\n",
       "       [0.88476258],\n",
       "       [1.        ],\n",
       "       [0.9938696 ]])"
      ]
     },
     "execution_count": 115,
     "metadata": {},
     "output_type": "execute_result"
    }
   ],
   "source": [
    "y_label"
   ]
  },
  {
   "cell_type": "code",
   "execution_count": 116,
   "id": "b40714ae-3c7e-4d7c-a9b6-fe658b8004c4",
   "metadata": {},
   "outputs": [
    {
     "data": {
      "text/plain": [
       "array([[121872.000336]])"
      ]
     },
     "execution_count": 116,
     "metadata": {},
     "output_type": "execute_result"
    }
   ],
   "source": [
    "minmax.inverse_transform(np.array([[0.9938696]]))"
   ]
  },
  {
   "cell_type": "code",
   "execution_count": 126,
   "id": "29135528-8fff-40c5-beec-b262465eb0c7",
   "metadata": {},
   "outputs": [],
   "source": [
    "# split the data in train and test\n",
    "from sklearn.model_selection import train_test_split\n",
    "X_train,X_test,y_train,y_test = train_test_split(X_scaled,y_label, test_size = 0.30, random_state = 10)"
   ]
  },
  {
   "cell_type": "code",
   "execution_count": 127,
   "id": "702243c7-f7b2-4263-90ba-9dbfa928a526",
   "metadata": {},
   "outputs": [
    {
     "data": {
      "text/plain": [
       "array([[-1.43837321],\n",
       "       [ 0.2461004 ],\n",
       "       [-0.29149756],\n",
       "       [ 0.21026054],\n",
       "       [-0.82909552],\n",
       "       [-0.47069688],\n",
       "       [ 1.03457741],\n",
       "       [ 1.21377673],\n",
       "       [ 1.78721455],\n",
       "       [ 0.92705781],\n",
       "       [-0.50653674],\n",
       "       [ 1.50049564],\n",
       "       [ 1.85889428],\n",
       "       [-0.75741579],\n",
       "       [ 1.32129632],\n",
       "       [-0.07645838],\n",
       "       [-0.00477865],\n",
       "       [-1.51005294],\n",
       "       [-0.1481381 ],\n",
       "       [-1.11581443],\n",
       "       [-0.57821647]])"
      ]
     },
     "execution_count": 127,
     "metadata": {},
     "output_type": "execute_result"
    }
   ],
   "source": [
    "X_train"
   ]
  },
  {
   "cell_type": "code",
   "execution_count": 128,
   "id": "2a4b53e1-213d-4bdd-8e5f-a2aaa751c374",
   "metadata": {},
   "outputs": [
    {
     "data": {
      "text/plain": [
       "array([[0.1000945 ],\n",
       "       [0.66393811],\n",
       "       [0.27616348],\n",
       "       [0.51537916],\n",
       "       [0.26481219],\n",
       "       [0.21335932],\n",
       "       [0.89866525],\n",
       "       [0.84691708],\n",
       "       [1.        ],\n",
       "       [0.75089771],\n",
       "       [0.30105126],\n",
       "       [0.93595559],\n",
       "       [0.9938696 ],\n",
       "       [0.31554453],\n",
       "       [0.80145287],\n",
       "       [0.33425467],\n",
       "       [0.53575478],\n",
       "       [0.01904087],\n",
       "       [0.35680369],\n",
       "       [0.02551382],\n",
       "       [0.229837  ]])"
      ]
     },
     "execution_count": 128,
     "metadata": {},
     "output_type": "execute_result"
    }
   ],
   "source": [
    "y_train"
   ]
  },
  {
   "cell_type": "markdown",
   "id": "a2c08860-81eb-428b-b57e-eb981ab445bf",
   "metadata": {},
   "source": [
    "#Model Archtecture"
   ]
  },
  {
   "cell_type": "code",
   "execution_count": 129,
   "id": "9be1a585-5770-4b07-9523-0d8819f4e638",
   "metadata": {},
   "outputs": [],
   "source": [
    "model = tf.keras.models.Sequential()\n",
    "\n",
    "#HL1 and input layer...\n",
    "\n",
    "model.add(tf.keras.layers.Dense(units=5, activation = 'relu', input_shape=(1,)))\n",
    "\n",
    "#HL-2...\n",
    "\n",
    "model.add(tf.keras.layers.Dense(units=4, activation = 'relu'))\n",
    "\n",
    "#Output Layer..\n",
    "\n",
    "model.add(tf.keras.layers.Dense(units=1, activation = 'linear'))"
   ]
  },
  {
   "cell_type": "markdown",
   "id": "b9ffa2f8-4736-4bbe-af58-1717a9970fa4",
   "metadata": {},
   "source": [
    "# Model Compilation"
   ]
  },
  {
   "cell_type": "code",
   "execution_count": 130,
   "id": "31910647-026e-46a1-b720-7559d9212b64",
   "metadata": {},
   "outputs": [],
   "source": [
    "model.compile(optimizer='sgd',\n",
    "             loss = 'mean_squared_error',\n",
    "             metrics = ['mean_squared_error'])"
   ]
  },
  {
   "cell_type": "code",
   "execution_count": 131,
   "id": "fc03e44d-0032-410c-b612-ea72c2884b4c",
   "metadata": {},
   "outputs": [
    {
     "name": "stdout",
     "output_type": "stream",
     "text": [
      "Epoch 1/200\n",
      "1/1 [==============================] - 0s 428ms/step - loss: 0.1581 - mean_squared_error: 0.1581 - val_loss: 0.1781 - val_mean_squared_error: 0.1781\n",
      "Epoch 2/200\n",
      "1/1 [==============================] - 0s 27ms/step - loss: 0.1542 - mean_squared_error: 0.1542 - val_loss: 0.1726 - val_mean_squared_error: 0.1726\n",
      "Epoch 3/200\n",
      "1/1 [==============================] - 0s 27ms/step - loss: 0.1504 - mean_squared_error: 0.1504 - val_loss: 0.1672 - val_mean_squared_error: 0.1672\n",
      "Epoch 4/200\n",
      "1/1 [==============================] - 0s 28ms/step - loss: 0.1467 - mean_squared_error: 0.1467 - val_loss: 0.1620 - val_mean_squared_error: 0.1620\n",
      "Epoch 5/200\n",
      "1/1 [==============================] - 0s 31ms/step - loss: 0.1431 - mean_squared_error: 0.1431 - val_loss: 0.1571 - val_mean_squared_error: 0.1571\n",
      "Epoch 6/200\n",
      "1/1 [==============================] - 0s 29ms/step - loss: 0.1397 - mean_squared_error: 0.1397 - val_loss: 0.1524 - val_mean_squared_error: 0.1524\n",
      "Epoch 7/200\n",
      "1/1 [==============================] - 0s 27ms/step - loss: 0.1364 - mean_squared_error: 0.1364 - val_loss: 0.1481 - val_mean_squared_error: 0.1481\n",
      "Epoch 8/200\n",
      "1/1 [==============================] - 0s 32ms/step - loss: 0.1332 - mean_squared_error: 0.1332 - val_loss: 0.1439 - val_mean_squared_error: 0.1439\n",
      "Epoch 9/200\n",
      "1/1 [==============================] - 0s 26ms/step - loss: 0.1301 - mean_squared_error: 0.1301 - val_loss: 0.1399 - val_mean_squared_error: 0.1399\n",
      "Epoch 10/200\n",
      "1/1 [==============================] - 0s 27ms/step - loss: 0.1271 - mean_squared_error: 0.1271 - val_loss: 0.1361 - val_mean_squared_error: 0.1361\n",
      "Epoch 11/200\n",
      "1/1 [==============================] - 0s 25ms/step - loss: 0.1243 - mean_squared_error: 0.1243 - val_loss: 0.1325 - val_mean_squared_error: 0.1325\n",
      "Epoch 12/200\n",
      "1/1 [==============================] - 0s 29ms/step - loss: 0.1215 - mean_squared_error: 0.1215 - val_loss: 0.1290 - val_mean_squared_error: 0.1290\n",
      "Epoch 13/200\n",
      "1/1 [==============================] - 0s 28ms/step - loss: 0.1188 - mean_squared_error: 0.1188 - val_loss: 0.1255 - val_mean_squared_error: 0.1255\n",
      "Epoch 14/200\n",
      "1/1 [==============================] - 0s 28ms/step - loss: 0.1162 - mean_squared_error: 0.1162 - val_loss: 0.1222 - val_mean_squared_error: 0.1222\n",
      "Epoch 15/200\n",
      "1/1 [==============================] - 0s 28ms/step - loss: 0.1137 - mean_squared_error: 0.1137 - val_loss: 0.1190 - val_mean_squared_error: 0.1190\n",
      "Epoch 16/200\n",
      "1/1 [==============================] - 0s 26ms/step - loss: 0.1113 - mean_squared_error: 0.1113 - val_loss: 0.1159 - val_mean_squared_error: 0.1159\n",
      "Epoch 17/200\n",
      "1/1 [==============================] - 0s 34ms/step - loss: 0.1089 - mean_squared_error: 0.1089 - val_loss: 0.1130 - val_mean_squared_error: 0.1130\n",
      "Epoch 18/200\n",
      "1/1 [==============================] - 0s 26ms/step - loss: 0.1066 - mean_squared_error: 0.1066 - val_loss: 0.1102 - val_mean_squared_error: 0.1102\n",
      "Epoch 19/200\n",
      "1/1 [==============================] - 0s 27ms/step - loss: 0.1045 - mean_squared_error: 0.1045 - val_loss: 0.1075 - val_mean_squared_error: 0.1075\n",
      "Epoch 20/200\n",
      "1/1 [==============================] - 0s 25ms/step - loss: 0.1023 - mean_squared_error: 0.1023 - val_loss: 0.1049 - val_mean_squared_error: 0.1049\n",
      "Epoch 21/200\n",
      "1/1 [==============================] - 0s 28ms/step - loss: 0.1003 - mean_squared_error: 0.1003 - val_loss: 0.1022 - val_mean_squared_error: 0.1022\n",
      "Epoch 22/200\n",
      "1/1 [==============================] - 0s 26ms/step - loss: 0.0983 - mean_squared_error: 0.0983 - val_loss: 0.0997 - val_mean_squared_error: 0.0997\n",
      "Epoch 23/200\n",
      "1/1 [==============================] - 0s 31ms/step - loss: 0.0963 - mean_squared_error: 0.0963 - val_loss: 0.0973 - val_mean_squared_error: 0.0973\n",
      "Epoch 24/200\n",
      "1/1 [==============================] - 0s 26ms/step - loss: 0.0944 - mean_squared_error: 0.0944 - val_loss: 0.0950 - val_mean_squared_error: 0.0950\n",
      "Epoch 25/200\n",
      "1/1 [==============================] - 0s 26ms/step - loss: 0.0926 - mean_squared_error: 0.0926 - val_loss: 0.0927 - val_mean_squared_error: 0.0927\n",
      "Epoch 26/200\n",
      "1/1 [==============================] - 0s 28ms/step - loss: 0.0908 - mean_squared_error: 0.0908 - val_loss: 0.0906 - val_mean_squared_error: 0.0906\n",
      "Epoch 27/200\n",
      "1/1 [==============================] - 0s 26ms/step - loss: 0.0891 - mean_squared_error: 0.0891 - val_loss: 0.0885 - val_mean_squared_error: 0.0885\n",
      "Epoch 28/200\n",
      "1/1 [==============================] - 0s 29ms/step - loss: 0.0874 - mean_squared_error: 0.0874 - val_loss: 0.0864 - val_mean_squared_error: 0.0864\n",
      "Epoch 29/200\n",
      "1/1 [==============================] - 0s 27ms/step - loss: 0.0858 - mean_squared_error: 0.0858 - val_loss: 0.0845 - val_mean_squared_error: 0.0845\n",
      "Epoch 30/200\n",
      "1/1 [==============================] - 0s 26ms/step - loss: 0.0842 - mean_squared_error: 0.0842 - val_loss: 0.0826 - val_mean_squared_error: 0.0826\n",
      "Epoch 31/200\n",
      "1/1 [==============================] - 0s 30ms/step - loss: 0.0827 - mean_squared_error: 0.0827 - val_loss: 0.0807 - val_mean_squared_error: 0.0807\n",
      "Epoch 32/200\n",
      "1/1 [==============================] - 0s 25ms/step - loss: 0.0811 - mean_squared_error: 0.0811 - val_loss: 0.0789 - val_mean_squared_error: 0.0789\n",
      "Epoch 33/200\n",
      "1/1 [==============================] - 0s 24ms/step - loss: 0.0797 - mean_squared_error: 0.0797 - val_loss: 0.0772 - val_mean_squared_error: 0.0772\n",
      "Epoch 34/200\n",
      "1/1 [==============================] - 0s 31ms/step - loss: 0.0783 - mean_squared_error: 0.0783 - val_loss: 0.0755 - val_mean_squared_error: 0.0755\n",
      "Epoch 35/200\n",
      "1/1 [==============================] - 0s 24ms/step - loss: 0.0769 - mean_squared_error: 0.0769 - val_loss: 0.0738 - val_mean_squared_error: 0.0738\n",
      "Epoch 36/200\n",
      "1/1 [==============================] - 0s 27ms/step - loss: 0.0756 - mean_squared_error: 0.0756 - val_loss: 0.0722 - val_mean_squared_error: 0.0722\n",
      "Epoch 37/200\n",
      "1/1 [==============================] - 0s 26ms/step - loss: 0.0742 - mean_squared_error: 0.0742 - val_loss: 0.0706 - val_mean_squared_error: 0.0706\n",
      "Epoch 38/200\n",
      "1/1 [==============================] - 0s 26ms/step - loss: 0.0729 - mean_squared_error: 0.0729 - val_loss: 0.0690 - val_mean_squared_error: 0.0690\n",
      "Epoch 39/200\n",
      "1/1 [==============================] - 0s 32ms/step - loss: 0.0717 - mean_squared_error: 0.0717 - val_loss: 0.0675 - val_mean_squared_error: 0.0675\n",
      "Epoch 40/200\n",
      "1/1 [==============================] - 0s 26ms/step - loss: 0.0705 - mean_squared_error: 0.0705 - val_loss: 0.0660 - val_mean_squared_error: 0.0660\n",
      "Epoch 41/200\n",
      "1/1 [==============================] - 0s 28ms/step - loss: 0.0693 - mean_squared_error: 0.0693 - val_loss: 0.0646 - val_mean_squared_error: 0.0646\n",
      "Epoch 42/200\n",
      "1/1 [==============================] - 0s 25ms/step - loss: 0.0681 - mean_squared_error: 0.0681 - val_loss: 0.0634 - val_mean_squared_error: 0.0634\n",
      "Epoch 43/200\n",
      "1/1 [==============================] - 0s 26ms/step - loss: 0.0670 - mean_squared_error: 0.0670 - val_loss: 0.0621 - val_mean_squared_error: 0.0621\n",
      "Epoch 44/200\n",
      "1/1 [==============================] - 0s 28ms/step - loss: 0.0659 - mean_squared_error: 0.0659 - val_loss: 0.0610 - val_mean_squared_error: 0.0610\n",
      "Epoch 45/200\n",
      "1/1 [==============================] - 0s 30ms/step - loss: 0.0649 - mean_squared_error: 0.0649 - val_loss: 0.0602 - val_mean_squared_error: 0.0602\n",
      "Epoch 46/200\n",
      "1/1 [==============================] - 0s 28ms/step - loss: 0.0641 - mean_squared_error: 0.0641 - val_loss: 0.0596 - val_mean_squared_error: 0.0596\n",
      "Epoch 47/200\n",
      "1/1 [==============================] - 0s 26ms/step - loss: 0.0633 - mean_squared_error: 0.0633 - val_loss: 0.0592 - val_mean_squared_error: 0.0592\n",
      "Epoch 48/200\n",
      "1/1 [==============================] - 0s 29ms/step - loss: 0.0627 - mean_squared_error: 0.0627 - val_loss: 0.0588 - val_mean_squared_error: 0.0588\n",
      "Epoch 49/200\n",
      "1/1 [==============================] - 0s 26ms/step - loss: 0.0621 - mean_squared_error: 0.0621 - val_loss: 0.0585 - val_mean_squared_error: 0.0585\n",
      "Epoch 50/200\n",
      "1/1 [==============================] - 0s 30ms/step - loss: 0.0616 - mean_squared_error: 0.0616 - val_loss: 0.0581 - val_mean_squared_error: 0.0581\n",
      "Epoch 51/200\n",
      "1/1 [==============================] - 0s 27ms/step - loss: 0.0611 - mean_squared_error: 0.0611 - val_loss: 0.0577 - val_mean_squared_error: 0.0577\n",
      "Epoch 52/200\n",
      "1/1 [==============================] - 0s 27ms/step - loss: 0.0606 - mean_squared_error: 0.0606 - val_loss: 0.0573 - val_mean_squared_error: 0.0573\n",
      "Epoch 53/200\n",
      "1/1 [==============================] - 0s 27ms/step - loss: 0.0602 - mean_squared_error: 0.0602 - val_loss: 0.0569 - val_mean_squared_error: 0.0569\n",
      "Epoch 54/200\n",
      "1/1 [==============================] - 0s 27ms/step - loss: 0.0597 - mean_squared_error: 0.0597 - val_loss: 0.0566 - val_mean_squared_error: 0.0566\n",
      "Epoch 55/200\n",
      "1/1 [==============================] - 0s 31ms/step - loss: 0.0593 - mean_squared_error: 0.0593 - val_loss: 0.0562 - val_mean_squared_error: 0.0562\n",
      "Epoch 56/200\n",
      "1/1 [==============================] - 0s 25ms/step - loss: 0.0589 - mean_squared_error: 0.0589 - val_loss: 0.0558 - val_mean_squared_error: 0.0558\n",
      "Epoch 57/200\n",
      "1/1 [==============================] - 0s 30ms/step - loss: 0.0584 - mean_squared_error: 0.0584 - val_loss: 0.0555 - val_mean_squared_error: 0.0555\n",
      "Epoch 58/200\n",
      "1/1 [==============================] - 0s 25ms/step - loss: 0.0580 - mean_squared_error: 0.0580 - val_loss: 0.0551 - val_mean_squared_error: 0.0551\n",
      "Epoch 59/200\n",
      "1/1 [==============================] - 0s 26ms/step - loss: 0.0576 - mean_squared_error: 0.0576 - val_loss: 0.0548 - val_mean_squared_error: 0.0548\n",
      "Epoch 60/200\n",
      "1/1 [==============================] - 0s 26ms/step - loss: 0.0572 - mean_squared_error: 0.0572 - val_loss: 0.0544 - val_mean_squared_error: 0.0544\n",
      "Epoch 61/200\n",
      "1/1 [==============================] - 0s 29ms/step - loss: 0.0568 - mean_squared_error: 0.0568 - val_loss: 0.0541 - val_mean_squared_error: 0.0541\n",
      "Epoch 62/200\n",
      "1/1 [==============================] - 0s 29ms/step - loss: 0.0564 - mean_squared_error: 0.0564 - val_loss: 0.0537 - val_mean_squared_error: 0.0537\n",
      "Epoch 63/200\n",
      "1/1 [==============================] - 0s 26ms/step - loss: 0.0561 - mean_squared_error: 0.0561 - val_loss: 0.0534 - val_mean_squared_error: 0.0534\n",
      "Epoch 64/200\n",
      "1/1 [==============================] - 0s 28ms/step - loss: 0.0557 - mean_squared_error: 0.0557 - val_loss: 0.0531 - val_mean_squared_error: 0.0531\n",
      "Epoch 65/200\n",
      "1/1 [==============================] - 0s 27ms/step - loss: 0.0553 - mean_squared_error: 0.0553 - val_loss: 0.0527 - val_mean_squared_error: 0.0527\n",
      "Epoch 66/200\n",
      "1/1 [==============================] - 0s 32ms/step - loss: 0.0550 - mean_squared_error: 0.0550 - val_loss: 0.0524 - val_mean_squared_error: 0.0524\n",
      "Epoch 67/200\n",
      "1/1 [==============================] - 0s 28ms/step - loss: 0.0546 - mean_squared_error: 0.0546 - val_loss: 0.0521 - val_mean_squared_error: 0.0521\n",
      "Epoch 68/200\n",
      "1/1 [==============================] - 0s 25ms/step - loss: 0.0542 - mean_squared_error: 0.0542 - val_loss: 0.0518 - val_mean_squared_error: 0.0518\n",
      "Epoch 69/200\n",
      "1/1 [==============================] - 0s 26ms/step - loss: 0.0539 - mean_squared_error: 0.0539 - val_loss: 0.0514 - val_mean_squared_error: 0.0514\n",
      "Epoch 70/200\n",
      "1/1 [==============================] - 0s 26ms/step - loss: 0.0535 - mean_squared_error: 0.0535 - val_loss: 0.0511 - val_mean_squared_error: 0.0511\n",
      "Epoch 71/200\n",
      "1/1 [==============================] - 0s 28ms/step - loss: 0.0531 - mean_squared_error: 0.0531 - val_loss: 0.0508 - val_mean_squared_error: 0.0508\n",
      "Epoch 72/200\n",
      "1/1 [==============================] - 0s 26ms/step - loss: 0.0528 - mean_squared_error: 0.0528 - val_loss: 0.0504 - val_mean_squared_error: 0.0504\n",
      "Epoch 73/200\n",
      "1/1 [==============================] - 0s 27ms/step - loss: 0.0524 - mean_squared_error: 0.0524 - val_loss: 0.0501 - val_mean_squared_error: 0.0501\n",
      "Epoch 74/200\n",
      "1/1 [==============================] - 0s 27ms/step - loss: 0.0520 - mean_squared_error: 0.0520 - val_loss: 0.0498 - val_mean_squared_error: 0.0498\n",
      "Epoch 75/200\n",
      "1/1 [==============================] - 0s 26ms/step - loss: 0.0517 - mean_squared_error: 0.0517 - val_loss: 0.0494 - val_mean_squared_error: 0.0494\n",
      "Epoch 76/200\n",
      "1/1 [==============================] - 0s 29ms/step - loss: 0.0513 - mean_squared_error: 0.0513 - val_loss: 0.0491 - val_mean_squared_error: 0.0491\n",
      "Epoch 77/200\n",
      "1/1 [==============================] - 0s 28ms/step - loss: 0.0510 - mean_squared_error: 0.0510 - val_loss: 0.0488 - val_mean_squared_error: 0.0488\n",
      "Epoch 78/200\n",
      "1/1 [==============================] - 0s 28ms/step - loss: 0.0506 - mean_squared_error: 0.0506 - val_loss: 0.0485 - val_mean_squared_error: 0.0485\n",
      "Epoch 79/200\n",
      "1/1 [==============================] - 0s 27ms/step - loss: 0.0503 - mean_squared_error: 0.0503 - val_loss: 0.0482 - val_mean_squared_error: 0.0482\n",
      "Epoch 80/200\n",
      "1/1 [==============================] - 0s 26ms/step - loss: 0.0500 - mean_squared_error: 0.0500 - val_loss: 0.0479 - val_mean_squared_error: 0.0479\n",
      "Epoch 81/200\n",
      "1/1 [==============================] - 0s 27ms/step - loss: 0.0496 - mean_squared_error: 0.0496 - val_loss: 0.0476 - val_mean_squared_error: 0.0476\n",
      "Epoch 82/200\n",
      "1/1 [==============================] - 0s 26ms/step - loss: 0.0493 - mean_squared_error: 0.0493 - val_loss: 0.0473 - val_mean_squared_error: 0.0473\n",
      "Epoch 83/200\n",
      "1/1 [==============================] - 0s 29ms/step - loss: 0.0490 - mean_squared_error: 0.0490 - val_loss: 0.0470 - val_mean_squared_error: 0.0470\n",
      "Epoch 84/200\n",
      "1/1 [==============================] - 0s 26ms/step - loss: 0.0487 - mean_squared_error: 0.0487 - val_loss: 0.0467 - val_mean_squared_error: 0.0467\n",
      "Epoch 85/200\n",
      "1/1 [==============================] - 0s 25ms/step - loss: 0.0484 - mean_squared_error: 0.0484 - val_loss: 0.0464 - val_mean_squared_error: 0.0464\n",
      "Epoch 86/200\n",
      "1/1 [==============================] - 0s 27ms/step - loss: 0.0481 - mean_squared_error: 0.0481 - val_loss: 0.0461 - val_mean_squared_error: 0.0461\n",
      "Epoch 87/200\n",
      "1/1 [==============================] - 0s 32ms/step - loss: 0.0478 - mean_squared_error: 0.0478 - val_loss: 0.0458 - val_mean_squared_error: 0.0458\n",
      "Epoch 88/200\n",
      "1/1 [==============================] - 0s 31ms/step - loss: 0.0475 - mean_squared_error: 0.0475 - val_loss: 0.0455 - val_mean_squared_error: 0.0455\n",
      "Epoch 89/200\n",
      "1/1 [==============================] - 0s 27ms/step - loss: 0.0472 - mean_squared_error: 0.0472 - val_loss: 0.0453 - val_mean_squared_error: 0.0453\n",
      "Epoch 90/200\n",
      "1/1 [==============================] - 0s 26ms/step - loss: 0.0469 - mean_squared_error: 0.0469 - val_loss: 0.0450 - val_mean_squared_error: 0.0450\n",
      "Epoch 91/200\n",
      "1/1 [==============================] - 0s 28ms/step - loss: 0.0466 - mean_squared_error: 0.0466 - val_loss: 0.0447 - val_mean_squared_error: 0.0447\n",
      "Epoch 92/200\n",
      "1/1 [==============================] - 0s 24ms/step - loss: 0.0463 - mean_squared_error: 0.0463 - val_loss: 0.0445 - val_mean_squared_error: 0.0445\n",
      "Epoch 93/200\n",
      "1/1 [==============================] - 0s 28ms/step - loss: 0.0460 - mean_squared_error: 0.0460 - val_loss: 0.0442 - val_mean_squared_error: 0.0442\n",
      "Epoch 94/200\n",
      "1/1 [==============================] - 0s 27ms/step - loss: 0.0457 - mean_squared_error: 0.0457 - val_loss: 0.0439 - val_mean_squared_error: 0.0439\n",
      "Epoch 95/200\n",
      "1/1 [==============================] - 0s 28ms/step - loss: 0.0455 - mean_squared_error: 0.0455 - val_loss: 0.0437 - val_mean_squared_error: 0.0437\n",
      "Epoch 96/200\n",
      "1/1 [==============================] - 0s 27ms/step - loss: 0.0452 - mean_squared_error: 0.0452 - val_loss: 0.0434 - val_mean_squared_error: 0.0434\n",
      "Epoch 97/200\n",
      "1/1 [==============================] - 0s 25ms/step - loss: 0.0449 - mean_squared_error: 0.0449 - val_loss: 0.0431 - val_mean_squared_error: 0.0431\n",
      "Epoch 98/200\n",
      "1/1 [==============================] - 0s 29ms/step - loss: 0.0447 - mean_squared_error: 0.0447 - val_loss: 0.0429 - val_mean_squared_error: 0.0429\n",
      "Epoch 99/200\n",
      "1/1 [==============================] - 0s 36ms/step - loss: 0.0444 - mean_squared_error: 0.0444 - val_loss: 0.0426 - val_mean_squared_error: 0.0426\n",
      "Epoch 100/200\n",
      "1/1 [==============================] - 0s 30ms/step - loss: 0.0441 - mean_squared_error: 0.0441 - val_loss: 0.0424 - val_mean_squared_error: 0.0424\n",
      "Epoch 101/200\n",
      "1/1 [==============================] - 0s 27ms/step - loss: 0.0438 - mean_squared_error: 0.0438 - val_loss: 0.0421 - val_mean_squared_error: 0.0421\n",
      "Epoch 102/200\n",
      "1/1 [==============================] - 0s 26ms/step - loss: 0.0435 - mean_squared_error: 0.0435 - val_loss: 0.0419 - val_mean_squared_error: 0.0419\n",
      "Epoch 103/200\n",
      "1/1 [==============================] - 0s 25ms/step - loss: 0.0432 - mean_squared_error: 0.0432 - val_loss: 0.0416 - val_mean_squared_error: 0.0416\n",
      "Epoch 104/200\n",
      "1/1 [==============================] - 0s 25ms/step - loss: 0.0430 - mean_squared_error: 0.0430 - val_loss: 0.0414 - val_mean_squared_error: 0.0414\n",
      "Epoch 105/200\n",
      "1/1 [==============================] - 0s 30ms/step - loss: 0.0426 - mean_squared_error: 0.0426 - val_loss: 0.0411 - val_mean_squared_error: 0.0411\n",
      "Epoch 106/200\n",
      "1/1 [==============================] - 0s 25ms/step - loss: 0.0423 - mean_squared_error: 0.0423 - val_loss: 0.0410 - val_mean_squared_error: 0.0410\n",
      "Epoch 107/200\n",
      "1/1 [==============================] - 0s 28ms/step - loss: 0.0421 - mean_squared_error: 0.0421 - val_loss: 0.0406 - val_mean_squared_error: 0.0406\n",
      "Epoch 108/200\n",
      "1/1 [==============================] - 0s 25ms/step - loss: 0.0418 - mean_squared_error: 0.0418 - val_loss: 0.0404 - val_mean_squared_error: 0.0404\n",
      "Epoch 109/200\n",
      "1/1 [==============================] - 0s 29ms/step - loss: 0.0416 - mean_squared_error: 0.0416 - val_loss: 0.0401 - val_mean_squared_error: 0.0401\n",
      "Epoch 110/200\n",
      "1/1 [==============================] - 0s 28ms/step - loss: 0.0412 - mean_squared_error: 0.0412 - val_loss: 0.0401 - val_mean_squared_error: 0.0401\n",
      "Epoch 111/200\n",
      "1/1 [==============================] - 0s 27ms/step - loss: 0.0410 - mean_squared_error: 0.0410 - val_loss: 0.0397 - val_mean_squared_error: 0.0397\n",
      "Epoch 112/200\n",
      "1/1 [==============================] - 0s 28ms/step - loss: 0.0407 - mean_squared_error: 0.0407 - val_loss: 0.0394 - val_mean_squared_error: 0.0394\n",
      "Epoch 113/200\n",
      "1/1 [==============================] - 0s 25ms/step - loss: 0.0404 - mean_squared_error: 0.0404 - val_loss: 0.0394 - val_mean_squared_error: 0.0394\n",
      "Epoch 114/200\n",
      "1/1 [==============================] - 0s 28ms/step - loss: 0.0402 - mean_squared_error: 0.0402 - val_loss: 0.0390 - val_mean_squared_error: 0.0390\n",
      "Epoch 115/200\n",
      "1/1 [==============================] - 0s 25ms/step - loss: 0.0399 - mean_squared_error: 0.0399 - val_loss: 0.0388 - val_mean_squared_error: 0.0388\n",
      "Epoch 116/200\n",
      "1/1 [==============================] - 0s 27ms/step - loss: 0.0396 - mean_squared_error: 0.0396 - val_loss: 0.0386 - val_mean_squared_error: 0.0386\n",
      "Epoch 117/200\n",
      "1/1 [==============================] - 0s 27ms/step - loss: 0.0393 - mean_squared_error: 0.0393 - val_loss: 0.0384 - val_mean_squared_error: 0.0384\n",
      "Epoch 118/200\n",
      "1/1 [==============================] - 0s 26ms/step - loss: 0.0391 - mean_squared_error: 0.0391 - val_loss: 0.0382 - val_mean_squared_error: 0.0382\n",
      "Epoch 119/200\n",
      "1/1 [==============================] - 0s 26ms/step - loss: 0.0388 - mean_squared_error: 0.0388 - val_loss: 0.0380 - val_mean_squared_error: 0.0380\n",
      "Epoch 120/200\n",
      "1/1 [==============================] - 0s 25ms/step - loss: 0.0386 - mean_squared_error: 0.0386 - val_loss: 0.0378 - val_mean_squared_error: 0.0378\n",
      "Epoch 121/200\n",
      "1/1 [==============================] - 0s 27ms/step - loss: 0.0383 - mean_squared_error: 0.0383 - val_loss: 0.0376 - val_mean_squared_error: 0.0376\n",
      "Epoch 122/200\n",
      "1/1 [==============================] - 0s 27ms/step - loss: 0.0381 - mean_squared_error: 0.0381 - val_loss: 0.0373 - val_mean_squared_error: 0.0373\n",
      "Epoch 123/200\n",
      "1/1 [==============================] - 0s 25ms/step - loss: 0.0378 - mean_squared_error: 0.0378 - val_loss: 0.0371 - val_mean_squared_error: 0.0371\n",
      "Epoch 124/200\n",
      "1/1 [==============================] - 0s 26ms/step - loss: 0.0376 - mean_squared_error: 0.0376 - val_loss: 0.0369 - val_mean_squared_error: 0.0369\n",
      "Epoch 125/200\n",
      "1/1 [==============================] - 0s 27ms/step - loss: 0.0374 - mean_squared_error: 0.0374 - val_loss: 0.0367 - val_mean_squared_error: 0.0367\n",
      "Epoch 126/200\n",
      "1/1 [==============================] - 0s 26ms/step - loss: 0.0371 - mean_squared_error: 0.0371 - val_loss: 0.0366 - val_mean_squared_error: 0.0366\n",
      "Epoch 127/200\n",
      "1/1 [==============================] - 0s 28ms/step - loss: 0.0369 - mean_squared_error: 0.0369 - val_loss: 0.0364 - val_mean_squared_error: 0.0364\n",
      "Epoch 128/200\n",
      "1/1 [==============================] - 0s 28ms/step - loss: 0.0367 - mean_squared_error: 0.0367 - val_loss: 0.0362 - val_mean_squared_error: 0.0362\n",
      "Epoch 129/200\n",
      "1/1 [==============================] - 0s 25ms/step - loss: 0.0364 - mean_squared_error: 0.0364 - val_loss: 0.0359 - val_mean_squared_error: 0.0359\n",
      "Epoch 130/200\n",
      "1/1 [==============================] - 0s 27ms/step - loss: 0.0362 - mean_squared_error: 0.0362 - val_loss: 0.0357 - val_mean_squared_error: 0.0357\n",
      "Epoch 131/200\n",
      "1/1 [==============================] - 0s 25ms/step - loss: 0.0360 - mean_squared_error: 0.0360 - val_loss: 0.0355 - val_mean_squared_error: 0.0355\n",
      "Epoch 132/200\n",
      "1/1 [==============================] - 0s 28ms/step - loss: 0.0358 - mean_squared_error: 0.0358 - val_loss: 0.0354 - val_mean_squared_error: 0.0354\n",
      "Epoch 133/200\n",
      "1/1 [==============================] - 0s 29ms/step - loss: 0.0355 - mean_squared_error: 0.0355 - val_loss: 0.0352 - val_mean_squared_error: 0.0352\n",
      "Epoch 134/200\n",
      "1/1 [==============================] - 0s 28ms/step - loss: 0.0353 - mean_squared_error: 0.0353 - val_loss: 0.0350 - val_mean_squared_error: 0.0350\n",
      "Epoch 135/200\n",
      "1/1 [==============================] - 0s 27ms/step - loss: 0.0351 - mean_squared_error: 0.0351 - val_loss: 0.0349 - val_mean_squared_error: 0.0349\n",
      "Epoch 136/200\n",
      "1/1 [==============================] - 0s 25ms/step - loss: 0.0349 - mean_squared_error: 0.0349 - val_loss: 0.0347 - val_mean_squared_error: 0.0347\n",
      "Epoch 137/200\n",
      "1/1 [==============================] - 0s 26ms/step - loss: 0.0347 - mean_squared_error: 0.0347 - val_loss: 0.0344 - val_mean_squared_error: 0.0344\n",
      "Epoch 138/200\n",
      "1/1 [==============================] - 0s 28ms/step - loss: 0.0345 - mean_squared_error: 0.0345 - val_loss: 0.0342 - val_mean_squared_error: 0.0342\n",
      "Epoch 139/200\n",
      "1/1 [==============================] - 0s 27ms/step - loss: 0.0343 - mean_squared_error: 0.0343 - val_loss: 0.0341 - val_mean_squared_error: 0.0341\n",
      "Epoch 140/200\n",
      "1/1 [==============================] - 0s 27ms/step - loss: 0.0340 - mean_squared_error: 0.0340 - val_loss: 0.0339 - val_mean_squared_error: 0.0339\n",
      "Epoch 141/200\n",
      "1/1 [==============================] - 0s 24ms/step - loss: 0.0338 - mean_squared_error: 0.0338 - val_loss: 0.0337 - val_mean_squared_error: 0.0337\n",
      "Epoch 142/200\n",
      "1/1 [==============================] - 0s 27ms/step - loss: 0.0337 - mean_squared_error: 0.0337 - val_loss: 0.0336 - val_mean_squared_error: 0.0336\n",
      "Epoch 143/200\n",
      "1/1 [==============================] - 0s 25ms/step - loss: 0.0335 - mean_squared_error: 0.0335 - val_loss: 0.0334 - val_mean_squared_error: 0.0334\n",
      "Epoch 144/200\n",
      "1/1 [==============================] - 0s 29ms/step - loss: 0.0333 - mean_squared_error: 0.0333 - val_loss: 0.0333 - val_mean_squared_error: 0.0333\n",
      "Epoch 145/200\n",
      "1/1 [==============================] - 0s 27ms/step - loss: 0.0331 - mean_squared_error: 0.0331 - val_loss: 0.0331 - val_mean_squared_error: 0.0331\n",
      "Epoch 146/200\n",
      "1/1 [==============================] - 0s 24ms/step - loss: 0.0329 - mean_squared_error: 0.0329 - val_loss: 0.0329 - val_mean_squared_error: 0.0329\n",
      "Epoch 147/200\n",
      "1/1 [==============================] - 0s 26ms/step - loss: 0.0327 - mean_squared_error: 0.0327 - val_loss: 0.0328 - val_mean_squared_error: 0.0328\n",
      "Epoch 148/200\n",
      "1/1 [==============================] - 0s 25ms/step - loss: 0.0325 - mean_squared_error: 0.0325 - val_loss: 0.0326 - val_mean_squared_error: 0.0326\n",
      "Epoch 149/200\n",
      "1/1 [==============================] - 0s 26ms/step - loss: 0.0323 - mean_squared_error: 0.0323 - val_loss: 0.0323 - val_mean_squared_error: 0.0323\n",
      "Epoch 150/200\n",
      "1/1 [==============================] - 0s 28ms/step - loss: 0.0321 - mean_squared_error: 0.0321 - val_loss: 0.0321 - val_mean_squared_error: 0.0321\n",
      "Epoch 151/200\n",
      "1/1 [==============================] - 0s 27ms/step - loss: 0.0320 - mean_squared_error: 0.0320 - val_loss: 0.0320 - val_mean_squared_error: 0.0320\n",
      "Epoch 152/200\n",
      "1/1 [==============================] - 0s 26ms/step - loss: 0.0318 - mean_squared_error: 0.0318 - val_loss: 0.0319 - val_mean_squared_error: 0.0319\n",
      "Epoch 153/200\n",
      "1/1 [==============================] - 0s 26ms/step - loss: 0.0316 - mean_squared_error: 0.0316 - val_loss: 0.0317 - val_mean_squared_error: 0.0317\n",
      "Epoch 154/200\n",
      "1/1 [==============================] - 0s 27ms/step - loss: 0.0314 - mean_squared_error: 0.0314 - val_loss: 0.0316 - val_mean_squared_error: 0.0316\n",
      "Epoch 155/200\n",
      "1/1 [==============================] - 0s 28ms/step - loss: 0.0312 - mean_squared_error: 0.0312 - val_loss: 0.0314 - val_mean_squared_error: 0.0314\n",
      "Epoch 156/200\n",
      "1/1 [==============================] - 0s 27ms/step - loss: 0.0311 - mean_squared_error: 0.0311 - val_loss: 0.0313 - val_mean_squared_error: 0.0313\n",
      "Epoch 157/200\n",
      "1/1 [==============================] - 0s 26ms/step - loss: 0.0309 - mean_squared_error: 0.0309 - val_loss: 0.0311 - val_mean_squared_error: 0.0311\n",
      "Epoch 158/200\n",
      "1/1 [==============================] - 0s 28ms/step - loss: 0.0307 - mean_squared_error: 0.0307 - val_loss: 0.0310 - val_mean_squared_error: 0.0310\n",
      "Epoch 159/200\n",
      "1/1 [==============================] - 0s 25ms/step - loss: 0.0305 - mean_squared_error: 0.0305 - val_loss: 0.0309 - val_mean_squared_error: 0.0309\n",
      "Epoch 160/200\n",
      "1/1 [==============================] - 0s 24ms/step - loss: 0.0304 - mean_squared_error: 0.0304 - val_loss: 0.0307 - val_mean_squared_error: 0.0307\n",
      "Epoch 161/200\n",
      "1/1 [==============================] - 0s 29ms/step - loss: 0.0302 - mean_squared_error: 0.0302 - val_loss: 0.0306 - val_mean_squared_error: 0.0306\n",
      "Epoch 162/200\n",
      "1/1 [==============================] - 0s 26ms/step - loss: 0.0300 - mean_squared_error: 0.0300 - val_loss: 0.0304 - val_mean_squared_error: 0.0304\n",
      "Epoch 163/200\n",
      "1/1 [==============================] - 0s 25ms/step - loss: 0.0299 - mean_squared_error: 0.0299 - val_loss: 0.0303 - val_mean_squared_error: 0.0303\n",
      "Epoch 164/200\n",
      "1/1 [==============================] - 0s 27ms/step - loss: 0.0297 - mean_squared_error: 0.0297 - val_loss: 0.0302 - val_mean_squared_error: 0.0302\n",
      "Epoch 165/200\n",
      "1/1 [==============================] - 0s 26ms/step - loss: 0.0296 - mean_squared_error: 0.0296 - val_loss: 0.0300 - val_mean_squared_error: 0.0300\n",
      "Epoch 166/200\n",
      "1/1 [==============================] - 0s 25ms/step - loss: 0.0294 - mean_squared_error: 0.0294 - val_loss: 0.0297 - val_mean_squared_error: 0.0297\n",
      "Epoch 167/200\n",
      "1/1 [==============================] - 0s 27ms/step - loss: 0.0292 - mean_squared_error: 0.0292 - val_loss: 0.0296 - val_mean_squared_error: 0.0296\n",
      "Epoch 168/200\n",
      "1/1 [==============================] - 0s 28ms/step - loss: 0.0291 - mean_squared_error: 0.0291 - val_loss: 0.0294 - val_mean_squared_error: 0.0294\n",
      "Epoch 169/200\n",
      "1/1 [==============================] - 0s 28ms/step - loss: 0.0289 - mean_squared_error: 0.0289 - val_loss: 0.0293 - val_mean_squared_error: 0.0293\n",
      "Epoch 170/200\n",
      "1/1 [==============================] - 0s 29ms/step - loss: 0.0288 - mean_squared_error: 0.0288 - val_loss: 0.0292 - val_mean_squared_error: 0.0292\n",
      "Epoch 171/200\n",
      "1/1 [==============================] - 0s 27ms/step - loss: 0.0286 - mean_squared_error: 0.0286 - val_loss: 0.0291 - val_mean_squared_error: 0.0291\n",
      "Epoch 172/200\n",
      "1/1 [==============================] - 0s 27ms/step - loss: 0.0285 - mean_squared_error: 0.0285 - val_loss: 0.0289 - val_mean_squared_error: 0.0289\n",
      "Epoch 173/200\n",
      "1/1 [==============================] - 0s 27ms/step - loss: 0.0283 - mean_squared_error: 0.0283 - val_loss: 0.0288 - val_mean_squared_error: 0.0288\n",
      "Epoch 174/200\n",
      "1/1 [==============================] - 0s 24ms/step - loss: 0.0282 - mean_squared_error: 0.0282 - val_loss: 0.0287 - val_mean_squared_error: 0.0287\n",
      "Epoch 175/200\n",
      "1/1 [==============================] - 0s 27ms/step - loss: 0.0280 - mean_squared_error: 0.0280 - val_loss: 0.0286 - val_mean_squared_error: 0.0286\n",
      "Epoch 176/200\n",
      "1/1 [==============================] - 0s 27ms/step - loss: 0.0279 - mean_squared_error: 0.0279 - val_loss: 0.0284 - val_mean_squared_error: 0.0284\n",
      "Epoch 177/200\n",
      "1/1 [==============================] - 0s 27ms/step - loss: 0.0277 - mean_squared_error: 0.0277 - val_loss: 0.0283 - val_mean_squared_error: 0.0283\n",
      "Epoch 178/200\n",
      "1/1 [==============================] - 0s 28ms/step - loss: 0.0276 - mean_squared_error: 0.0276 - val_loss: 0.0282 - val_mean_squared_error: 0.0282\n",
      "Epoch 179/200\n",
      "1/1 [==============================] - 0s 26ms/step - loss: 0.0274 - mean_squared_error: 0.0274 - val_loss: 0.0281 - val_mean_squared_error: 0.0281\n",
      "Epoch 180/200\n",
      "1/1 [==============================] - 0s 27ms/step - loss: 0.0273 - mean_squared_error: 0.0273 - val_loss: 0.0279 - val_mean_squared_error: 0.0279\n",
      "Epoch 181/200\n",
      "1/1 [==============================] - 0s 26ms/step - loss: 0.0272 - mean_squared_error: 0.0272 - val_loss: 0.0278 - val_mean_squared_error: 0.0278\n",
      "Epoch 182/200\n",
      "1/1 [==============================] - 0s 26ms/step - loss: 0.0270 - mean_squared_error: 0.0270 - val_loss: 0.0277 - val_mean_squared_error: 0.0277\n",
      "Epoch 183/200\n",
      "1/1 [==============================] - 0s 27ms/step - loss: 0.0269 - mean_squared_error: 0.0269 - val_loss: 0.0276 - val_mean_squared_error: 0.0276\n",
      "Epoch 184/200\n",
      "1/1 [==============================] - 0s 26ms/step - loss: 0.0267 - mean_squared_error: 0.0267 - val_loss: 0.0275 - val_mean_squared_error: 0.0275\n",
      "Epoch 185/200\n",
      "1/1 [==============================] - 0s 27ms/step - loss: 0.0266 - mean_squared_error: 0.0266 - val_loss: 0.0273 - val_mean_squared_error: 0.0273\n",
      "Epoch 186/200\n",
      "1/1 [==============================] - 0s 24ms/step - loss: 0.0265 - mean_squared_error: 0.0265 - val_loss: 0.0272 - val_mean_squared_error: 0.0272\n",
      "Epoch 187/200\n",
      "1/1 [==============================] - 0s 39ms/step - loss: 0.0263 - mean_squared_error: 0.0263 - val_loss: 0.0271 - val_mean_squared_error: 0.0271\n",
      "Epoch 188/200\n",
      "1/1 [==============================] - 0s 27ms/step - loss: 0.0262 - mean_squared_error: 0.0262 - val_loss: 0.0270 - val_mean_squared_error: 0.0270\n",
      "Epoch 189/200\n",
      "1/1 [==============================] - 0s 27ms/step - loss: 0.0261 - mean_squared_error: 0.0261 - val_loss: 0.0267 - val_mean_squared_error: 0.0267\n",
      "Epoch 190/200\n",
      "1/1 [==============================] - 0s 28ms/step - loss: 0.0259 - mean_squared_error: 0.0259 - val_loss: 0.0266 - val_mean_squared_error: 0.0266\n",
      "Epoch 191/200\n",
      "1/1 [==============================] - 0s 26ms/step - loss: 0.0258 - mean_squared_error: 0.0258 - val_loss: 0.0265 - val_mean_squared_error: 0.0265\n",
      "Epoch 192/200\n",
      "1/1 [==============================] - 0s 25ms/step - loss: 0.0257 - mean_squared_error: 0.0257 - val_loss: 0.0264 - val_mean_squared_error: 0.0264\n",
      "Epoch 193/200\n",
      "1/1 [==============================] - 0s 27ms/step - loss: 0.0255 - mean_squared_error: 0.0255 - val_loss: 0.0263 - val_mean_squared_error: 0.0263\n",
      "Epoch 194/200\n",
      "1/1 [==============================] - 0s 27ms/step - loss: 0.0254 - mean_squared_error: 0.0254 - val_loss: 0.0262 - val_mean_squared_error: 0.0262\n",
      "Epoch 195/200\n",
      "1/1 [==============================] - 0s 27ms/step - loss: 0.0253 - mean_squared_error: 0.0253 - val_loss: 0.0261 - val_mean_squared_error: 0.0261\n",
      "Epoch 196/200\n",
      "1/1 [==============================] - 0s 30ms/step - loss: 0.0252 - mean_squared_error: 0.0252 - val_loss: 0.0259 - val_mean_squared_error: 0.0259\n",
      "Epoch 197/200\n",
      "1/1 [==============================] - 0s 30ms/step - loss: 0.0250 - mean_squared_error: 0.0250 - val_loss: 0.0258 - val_mean_squared_error: 0.0258\n",
      "Epoch 198/200\n",
      "1/1 [==============================] - 0s 25ms/step - loss: 0.0249 - mean_squared_error: 0.0249 - val_loss: 0.0257 - val_mean_squared_error: 0.0257\n",
      "Epoch 199/200\n",
      "1/1 [==============================] - 0s 26ms/step - loss: 0.0248 - mean_squared_error: 0.0248 - val_loss: 0.0256 - val_mean_squared_error: 0.0256\n",
      "Epoch 200/200\n",
      "1/1 [==============================] - 0s 29ms/step - loss: 0.0247 - mean_squared_error: 0.0247 - val_loss: 0.0255 - val_mean_squared_error: 0.0255\n"
     ]
    }
   ],
   "source": [
    "mdl_history = model.fit (X_train, y_train, \n",
    "                         epochs=200, \n",
    "                         validation_data=(X_test,y_test))"
   ]
  },
  {
   "cell_type": "code",
   "execution_count": 93,
   "id": "cafeeb2a-f2f2-47b4-9929-b8b12e7ecb94",
   "metadata": {},
   "outputs": [
    {
     "data": {
      "text/plain": [
       "dict_keys(['loss', 'mean_squared_error', 'val_loss', 'val_mean_squared_error'])"
      ]
     },
     "execution_count": 93,
     "metadata": {},
     "output_type": "execute_result"
    }
   ],
   "source": [
    "mdl_history.history.keys()"
   ]
  },
  {
   "cell_type": "code",
   "execution_count": 62,
   "id": "6d156617-8c81-4b79-bcdf-3d8843648761",
   "metadata": {},
   "outputs": [
    {
     "data": {
      "text/plain": [
       "[<matplotlib.lines.Line2D at 0x1d8a49bce20>]"
      ]
     },
     "execution_count": 62,
     "metadata": {},
     "output_type": "execute_result"
    },
    {
     "data": {
      "image/png": "[encoded data removed]",
      "text/plain": [
       "<Figure size 640x480 with 1 Axes>"
      ]
     },
     "metadata": {},
     "output_type": "display_data"
    }
   ],
   "source": [
    "plt.plot(mdl_history.history['mean_squared_error'])"
   ]
  },
  {
   "cell_type": "code",
   "execution_count": 63,
   "id": "67918711-cf79-4eee-9963-bfc97676bca3",
   "metadata": {},
   "outputs": [
    {
     "data": {
      "text/plain": [
       "[<matplotlib.lines.Line2D at 0x1d8a4a68790>]"
      ]
     },
     "execution_count": 63,
     "metadata": {},
     "output_type": "execute_result"
    },
    {
     "data": {
      "image/png": "[encoded data removed]",
      "text/plain": [
       "<Figure size 640x480 with 1 Axes>"
      ]
     },
     "metadata": {},
     "output_type": "display_data"
    }
   ],
   "source": [
    "plt.plot(mdl_history.history['val_mean_squared_error'])"
   ]
  },
  {
   "cell_type": "code",
   "execution_count": 66,
   "id": "47234f05-bccf-4664-a689-8c891ee6a6ef",
   "metadata": {},
   "outputs": [
    {
     "data": {
      "text/plain": [
       "[<matplotlib.lines.Line2D at 0x1d8a8268100>]"
      ]
     },
     "execution_count": 66,
     "metadata": {},
     "output_type": "execute_result"
    },
    {
     "data": {
      "image/png": "[encoded data removed]",
      "text/plain": [
       "<Figure size 640x480 with 1 Axes>"
      ]
     },
     "metadata": {},
     "output_type": "display_data"
    }
   ],
   "source": [
    "plt.plot(mdl_history.history['mean_squared_error'])\n",
    "plt.plot(mdl_history.history['val_mean_squared_error'])"
   ]
  },
  {
   "cell_type": "code",
   "execution_count": null,
   "id": "6f50fdc7-0322-43ee-a3c9-5f1a329826ee",
   "metadata": {},
   "outputs": [],
   "source": []
  }
 ],
 "metadata": {
  "kernelspec": {
   "display_name": "Python 3 (ipykernel)",
   "language": "python",
   "name": "python3"
  },
  "language_info": {
   "codemirror_mode": {
    "name": "ipython",
    "version": 3
   },
   "file_extension": ".py",
   "mimetype": "text/x-python",
   "name": "python",
   "nbconvert_exporter": "python",
   "pygments_lexer": "ipython3",
   "version": "3.9.13"
  }
 },
 "nbformat": 4,
 "nbformat_minor": 5
}
