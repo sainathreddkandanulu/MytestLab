{
 "cells": [
  {
   "cell_type": "code",
   "execution_count": 1,
   "id": "72a38ce8-5ffe-4ca7-baa8-5cee229c2393",
   "metadata": {},
   "outputs": [],
   "source": [
    "#import library\n",
    "import pandas as pd\n",
    "import numpy as np\n",
    "import matplotlib.pyplot as plt\n",
    "import seaborn as sns"
   ]
  },
  {
   "cell_type": "code",
   "execution_count": 2,
   "id": "62405a2d-948f-4996-9d81-fd8f5e81b158",
   "metadata": {},
   "outputs": [],
   "source": [
    "import os"
   ]
  },
  {
   "cell_type": "code",
   "execution_count": 1,
   "id": "4bb8a0ba-f3fb-4145-94d9-b108479e30cc",
   "metadata": {},
   "outputs": [
    {
     "ename": "NameError",
     "evalue": "name 'os' is not defined",
     "output_type": "error",
     "traceback": [
      "\u001b[1;31m---------------------------------------------------------------------------\u001b[0m",
      "\u001b[1;31mNameError\u001b[0m                                 Traceback (most recent call last)",
      "\u001b[1;32m~\\AppData\\Local\\Temp\\ipykernel_27344\\2091795818.py\u001b[0m in \u001b[0;36m<module>\u001b[1;34m\u001b[0m\n\u001b[1;32m----> 1\u001b[1;33m \u001b[0mos\u001b[0m\u001b[1;33m.\u001b[0m\u001b[0mchdir\u001b[0m\u001b[1;33m(\u001b[0m\u001b[1;34m'C:\\\\Users\\\\kandanulus\\\\MyTestlab'\u001b[0m\u001b[1;33m)\u001b[0m\u001b[1;33m\u001b[0m\u001b[1;33m\u001b[0m\u001b[0m\n\u001b[0m",
      "\u001b[1;31mNameError\u001b[0m: name 'os' is not defined"
     ]
    }
   ],
   "source": [
    "os.chdir('C:\\\\Users\\\\kandanulus\\\\MyTestlab')"
   ]
  },
  {
   "cell_type": "code",
   "execution_count": 6,
   "id": "17b7681b-9f5d-4699-a799-d1d0213c886f",
   "metadata": {},
   "outputs": [],
   "source": [
    "df = pd.read_csv('Salary_Data.csv')"
   ]
  },
  {
   "cell_type": "code",
   "execution_count": 8,
   "id": "d5c4a927-3066-4aeb-bf01-e9f0b7d48edb",
   "metadata": {},
   "outputs": [
    {
     "data": {
      "text/html": [
       "<div>\n",
       "<style scoped>\n",
       "    .dataframe tbody tr th:only-of-type {\n",
       "        vertical-align: middle;\n",
       "    }\n",
       "\n",
       "    .dataframe tbody tr th {\n",
       "        vertical-align: top;\n",
       "    }\n",
       "\n",
       "    .dataframe thead th {\n",
       "        text-align: right;\n",
       "    }\n",
       "</style>\n",
       "<table border=\"1\" class=\"dataframe\">\n",
       "  <thead>\n",
       "    <tr style=\"text-align: right;\">\n",
       "      <th></th>\n",
       "      <th>YearsExperience</th>\n",
       "      <th>Salary</th>\n",
       "    </tr>\n",
       "  </thead>\n",
       "  <tbody>\n",
       "    <tr>\n",
       "      <th>count</th>\n",
       "      <td>30.000000</td>\n",
       "      <td>30.000000</td>\n",
       "    </tr>\n",
       "    <tr>\n",
       "      <th>mean</th>\n",
       "      <td>5.313333</td>\n",
       "      <td>76003.000000</td>\n",
       "    </tr>\n",
       "    <tr>\n",
       "      <th>std</th>\n",
       "      <td>2.837888</td>\n",
       "      <td>27414.429785</td>\n",
       "    </tr>\n",
       "    <tr>\n",
       "      <th>min</th>\n",
       "      <td>1.100000</td>\n",
       "      <td>37731.000000</td>\n",
       "    </tr>\n",
       "    <tr>\n",
       "      <th>25%</th>\n",
       "      <td>3.200000</td>\n",
       "      <td>56720.750000</td>\n",
       "    </tr>\n",
       "    <tr>\n",
       "      <th>50%</th>\n",
       "      <td>4.700000</td>\n",
       "      <td>65237.000000</td>\n",
       "    </tr>\n",
       "    <tr>\n",
       "      <th>75%</th>\n",
       "      <td>7.700000</td>\n",
       "      <td>100544.750000</td>\n",
       "    </tr>\n",
       "    <tr>\n",
       "      <th>max</th>\n",
       "      <td>10.500000</td>\n",
       "      <td>122391.000000</td>\n",
       "    </tr>\n",
       "  </tbody>\n",
       "</table>\n",
       "</div>"
      ],
      "text/plain": [
       "       YearsExperience         Salary\n",
       "count        30.000000      30.000000\n",
       "mean          5.313333   76003.000000\n",
       "std           2.837888   27414.429785\n",
       "min           1.100000   37731.000000\n",
       "25%           3.200000   56720.750000\n",
       "50%           4.700000   65237.000000\n",
       "75%           7.700000  100544.750000\n",
       "max          10.500000  122391.000000"
      ]
     },
     "execution_count": 8,
     "metadata": {},
     "output_type": "execute_result"
    }
   ],
   "source": [
    "df.describe()"
   ]
  },
  {
   "cell_type": "code",
   "execution_count": 7,
   "id": "d6249f81-8aab-44b6-9147-a797dfe799af",
   "metadata": {},
   "outputs": [],
   "source": []
  },
  {
   "cell_type": "code",
   "execution_count": 10,
   "id": "6f54e1dd-bdab-4360-810c-0abd0cbf9116",
   "metadata": {},
   "outputs": [
    {
     "data": {
      "text/plain": [
       "Text(0, 0.5, 'Salary')"
      ]
     },
     "execution_count": 10,
     "metadata": {},
     "output_type": "execute_result"
    },
    {
     "data": {
      "image/png": "[encoded data removed]",
      "text/plain": [
       "<Figure size 640x480 with 1 Axes>"
      ]
     },
     "metadata": {},
     "output_type": "display_data"
    }
   ],
   "source": [
    "plt.scatter(df.YearsExperience,df.Salary)\n",
    "plt.xlabel(\"Number of years of Exp\")\n",
    "plt.ylabel(\"Salary\")"
   ]
  },
  {
   "cell_type": "code",
   "execution_count": 11,
   "id": "a0867a4f-3b30-4584-b112-16cff8f78a51",
   "metadata": {},
   "outputs": [
    {
     "data": {
      "text/html": [
       "<div>\n",
       "<style scoped>\n",
       "    .dataframe tbody tr th:only-of-type {\n",
       "        vertical-align: middle;\n",
       "    }\n",
       "\n",
       "    .dataframe tbody tr th {\n",
       "        vertical-align: top;\n",
       "    }\n",
       "\n",
       "    .dataframe thead th {\n",
       "        text-align: right;\n",
       "    }\n",
       "</style>\n",
       "<table border=\"1\" class=\"dataframe\">\n",
       "  <thead>\n",
       "    <tr style=\"text-align: right;\">\n",
       "      <th></th>\n",
       "      <th>YearsExperience</th>\n",
       "      <th>Salary</th>\n",
       "    </tr>\n",
       "  </thead>\n",
       "  <tbody>\n",
       "    <tr>\n",
       "      <th>YearsExperience</th>\n",
       "      <td>1.000000</td>\n",
       "      <td>0.978242</td>\n",
       "    </tr>\n",
       "    <tr>\n",
       "      <th>Salary</th>\n",
       "      <td>0.978242</td>\n",
       "      <td>1.000000</td>\n",
       "    </tr>\n",
       "  </tbody>\n",
       "</table>\n",
       "</div>"
      ],
      "text/plain": [
       "                 YearsExperience    Salary\n",
       "YearsExperience         1.000000  0.978242\n",
       "Salary                  0.978242  1.000000"
      ]
     },
     "execution_count": 11,
     "metadata": {},
     "output_type": "execute_result"
    }
   ],
   "source": [
    "df.corr()"
   ]
  },
  {
   "cell_type": "code",
   "execution_count": 12,
   "id": "121437bc-da9a-4d87-819c-e1986bfb5ca1",
   "metadata": {},
   "outputs": [],
   "source": [
    "X = df[['YearsExperience']]\n",
    "y = df[['Salary']]"
   ]
  },
  {
   "cell_type": "code",
   "execution_count": 13,
   "id": "7a3449e7-3d74-44ec-8f22-7f59a29ba60e",
   "metadata": {},
   "outputs": [],
   "source": [
    "from sklearn.model_selection import train_test_split"
   ]
  },
  {
   "cell_type": "code",
   "execution_count": 56,
   "id": "d6cc79a7-be83-4cf2-89ae-f008ff0164da",
   "metadata": {},
   "outputs": [],
   "source": [
    "X_train,X_test,y_train,y_test= train_test_split(X,y,train_size=0.7,random_state=123)"
   ]
  },
  {
   "cell_type": "code",
   "execution_count": 57,
   "id": "a79c01d1-3d0e-447d-9997-71dca0653eb7",
   "metadata": {},
   "outputs": [
    {
     "name": "stdout",
     "output_type": "stream",
     "text": [
      "    YearsExperience\n",
      "23              8.2\n",
      "18              5.9\n",
      "4               2.2\n",
      "3               2.0\n",
      "24              8.7\n"
     ]
    }
   ],
   "source": [
    "print(X_train.head())"
   ]
  },
  {
   "cell_type": "code",
   "execution_count": 58,
   "id": "6929d47d-a62d-4356-8f6e-b9d8e1e93329",
   "metadata": {},
   "outputs": [
    {
     "name": "stdout",
     "output_type": "stream",
     "text": [
      "shape of train data sets\n",
      "(21, 1)\n",
      "(21, 1)\n",
      "shape of train data sets\n",
      "(9, 1)\n",
      "(9, 1)\n"
     ]
    }
   ],
   "source": [
    "print(\"shape of train data sets\")\n",
    "print(X_train.shape)\n",
    "print(y_train.shape)\n",
    "\n",
    "print(\"shape of train data sets\")\n",
    "print(X_test.shape)\n",
    "print(y_test.shape)\n"
   ]
  },
  {
   "cell_type": "code",
   "execution_count": 59,
   "id": "db3d4f58-6563-4184-bb04-a0123cd2b886",
   "metadata": {},
   "outputs": [
    {
     "data": {
      "text/plain": [
       "LinearRegression()"
      ]
     },
     "execution_count": 59,
     "metadata": {},
     "output_type": "execute_result"
    }
   ],
   "source": [
    "from sklearn.linear_model import LinearRegression\n",
    "lm = LinearRegression()\n",
    "lm.fit(X_train,y_train) # fit model"
   ]
  },
  {
   "cell_type": "code",
   "execution_count": 60,
   "id": "6ac7c361-2950-4266-824e-d7aaa557ea3d",
   "metadata": {},
   "outputs": [
    {
     "name": "stdout",
     "output_type": "stream",
     "text": [
      "[[9602.56221394]]\n"
     ]
    }
   ],
   "source": [
    "print(lm.coef_)"
   ]
  },
  {
   "cell_type": "code",
   "execution_count": 61,
   "id": "a73942ab-4b05-4adf-8ccb-e94f1791a059",
   "metadata": {},
   "outputs": [
    {
     "name": "stdout",
     "output_type": "stream",
     "text": [
      "[25235.61631668]\n"
     ]
    }
   ],
   "source": [
    "print(lm.intercept_)"
   ]
  },
  {
   "cell_type": "code",
   "execution_count": 62,
   "id": "0f9226f5-d0e0-439a-a2ac-242a7ddf0002",
   "metadata": {},
   "outputs": [
    {
     "data": {
      "text/plain": [
       "73248.42738638"
      ]
     },
     "execution_count": 62,
     "metadata": {},
     "output_type": "execute_result"
    }
   ],
   "source": [
    "# y = mx+c\n",
    "9602.56221394*5+25235.61631668"
   ]
  },
  {
   "cell_type": "code",
   "execution_count": 64,
   "id": "fbf90426-00d7-45d0-ae5b-48def848d0a3",
   "metadata": {},
   "outputs": [],
   "source": [
    "predict_train = lm.predict(X_train)"
   ]
  },
  {
   "cell_type": "code",
   "execution_count": 65,
   "id": "4b008cad-0742-47cf-8899-30b51812684d",
   "metadata": {},
   "outputs": [
    {
     "data": {
      "text/plain": [
       "array([[103976.62647102],\n",
       "       [ 81890.73337895],\n",
       "       [ 46361.25318736],\n",
       "       [ 44440.74074457],\n",
       "       [108777.907578  ],\n",
       "       [ 74208.6836078 ],\n",
       "       [ 68447.14627943],\n",
       "       [ 90533.0393715 ],\n",
       "       [ 60765.09650827],\n",
       "       [ 72288.17116501],\n",
       "       [111658.67624218],\n",
       "       [ 35798.43475202],\n",
       "       [ 37718.9471948 ],\n",
       "       [101095.85780684],\n",
       "       [ 62685.60895106],\n",
       "       [ 82850.98960035],\n",
       "       [ 76129.19605058],\n",
       "       [ 54043.30295851],\n",
       "       [124142.00712031],\n",
       "       [ 39639.45963759],\n",
       "       [ 64606.12139385]])"
      ]
     },
     "execution_count": 65,
     "metadata": {},
     "output_type": "execute_result"
    }
   ],
   "source": [
    "predict_train"
   ]
  },
  {
   "cell_type": "code",
   "execution_count": 66,
   "id": "da14eecf-9372-4716-99d5-0ab4484caebf",
   "metadata": {},
   "outputs": [],
   "source": [
    "# error in Prediction\n",
    "error_train = X_train - predict_train"
   ]
  },
  {
   "cell_type": "code",
   "execution_count": 67,
   "id": "fb9c6232-0c30-44fd-98c8-5158090caff6",
   "metadata": {},
   "outputs": [
    {
     "data": {
      "text/html": [
       "<div>\n",
       "<style scoped>\n",
       "    .dataframe tbody tr th:only-of-type {\n",
       "        vertical-align: middle;\n",
       "    }\n",
       "\n",
       "    .dataframe tbody tr th {\n",
       "        vertical-align: top;\n",
       "    }\n",
       "\n",
       "    .dataframe thead th {\n",
       "        text-align: right;\n",
       "    }\n",
       "</style>\n",
       "<table border=\"1\" class=\"dataframe\">\n",
       "  <thead>\n",
       "    <tr style=\"text-align: right;\">\n",
       "      <th></th>\n",
       "      <th>YearsExperience</th>\n",
       "    </tr>\n",
       "  </thead>\n",
       "  <tbody>\n",
       "    <tr>\n",
       "      <th>23</th>\n",
       "      <td>-103968.426471</td>\n",
       "    </tr>\n",
       "    <tr>\n",
       "      <th>18</th>\n",
       "      <td>-81884.833379</td>\n",
       "    </tr>\n",
       "    <tr>\n",
       "      <th>4</th>\n",
       "      <td>-46359.053187</td>\n",
       "    </tr>\n",
       "    <tr>\n",
       "      <th>3</th>\n",
       "      <td>-44438.740745</td>\n",
       "    </tr>\n",
       "    <tr>\n",
       "      <th>24</th>\n",
       "      <td>-108769.207578</td>\n",
       "    </tr>\n",
       "    <tr>\n",
       "      <th>16</th>\n",
       "      <td>-74203.583608</td>\n",
       "    </tr>\n",
       "    <tr>\n",
       "      <th>14</th>\n",
       "      <td>-68442.646279</td>\n",
       "    </tr>\n",
       "    <tr>\n",
       "      <th>20</th>\n",
       "      <td>-90526.239372</td>\n",
       "    </tr>\n",
       "    <tr>\n",
       "      <th>9</th>\n",
       "      <td>-60761.396508</td>\n",
       "    </tr>\n",
       "    <tr>\n",
       "      <th>15</th>\n",
       "      <td>-72283.271165</td>\n",
       "    </tr>\n",
       "    <tr>\n",
       "      <th>25</th>\n",
       "      <td>-111649.676242</td>\n",
       "    </tr>\n",
       "    <tr>\n",
       "      <th>0</th>\n",
       "      <td>-35797.334752</td>\n",
       "    </tr>\n",
       "    <tr>\n",
       "      <th>1</th>\n",
       "      <td>-37717.647195</td>\n",
       "    </tr>\n",
       "    <tr>\n",
       "      <th>22</th>\n",
       "      <td>-101087.957807</td>\n",
       "    </tr>\n",
       "    <tr>\n",
       "      <th>10</th>\n",
       "      <td>-62681.708951</td>\n",
       "    </tr>\n",
       "    <tr>\n",
       "      <th>19</th>\n",
       "      <td>-82844.989600</td>\n",
       "    </tr>\n",
       "    <tr>\n",
       "      <th>17</th>\n",
       "      <td>-76123.896051</td>\n",
       "    </tr>\n",
       "    <tr>\n",
       "      <th>6</th>\n",
       "      <td>-54040.302959</td>\n",
       "    </tr>\n",
       "    <tr>\n",
       "      <th>28</th>\n",
       "      <td>-124131.707120</td>\n",
       "    </tr>\n",
       "    <tr>\n",
       "      <th>2</th>\n",
       "      <td>-39637.959638</td>\n",
       "    </tr>\n",
       "    <tr>\n",
       "      <th>13</th>\n",
       "      <td>-64602.021394</td>\n",
       "    </tr>\n",
       "  </tbody>\n",
       "</table>\n",
       "</div>"
      ],
      "text/plain": [
       "    YearsExperience\n",
       "23   -103968.426471\n",
       "18    -81884.833379\n",
       "4     -46359.053187\n",
       "3     -44438.740745\n",
       "24   -108769.207578\n",
       "16    -74203.583608\n",
       "14    -68442.646279\n",
       "20    -90526.239372\n",
       "9     -60761.396508\n",
       "15    -72283.271165\n",
       "25   -111649.676242\n",
       "0     -35797.334752\n",
       "1     -37717.647195\n",
       "22   -101087.957807\n",
       "10    -62681.708951\n",
       "19    -82844.989600\n",
       "17    -76123.896051\n",
       "6     -54040.302959\n",
       "28   -124131.707120\n",
       "2     -39637.959638\n",
       "13    -64602.021394"
      ]
     },
     "execution_count": 67,
     "metadata": {},
     "output_type": "execute_result"
    }
   ],
   "source": [
    "error_train"
   ]
  },
  {
   "cell_type": "code",
   "execution_count": 68,
   "id": "b92e1e05-850d-4df9-996a-efd7d3186bda",
   "metadata": {},
   "outputs": [],
   "source": [
    "predict_test = lm.predict(X_test)"
   ]
  },
  {
   "cell_type": "code",
   "execution_count": 69,
   "id": "d10e8c95-95e0-40a1-bbd3-98e90b208e63",
   "metadata": {},
   "outputs": [
    {
     "data": {
      "text/plain": [
       "array([[ 55963.8154013 ],\n",
       "       [126062.5195631 ],\n",
       "       [ 53083.04673712],\n",
       "       [116459.95734915],\n",
       "       [ 55963.8154013 ],\n",
       "       [117420.21357055],\n",
       "       [ 63645.86517246],\n",
       "       [ 93413.80803569],\n",
       "       [ 63645.86517246]])"
      ]
     },
     "execution_count": 69,
     "metadata": {},
     "output_type": "execute_result"
    }
   ],
   "source": [
    "predict_test"
   ]
  },
  {
   "cell_type": "code",
   "execution_count": 71,
   "id": "caebb967-1ed9-45a2-abcb-05959b4105ac",
   "metadata": {},
   "outputs": [],
   "source": [
    "error_test = y_test - predict_test"
   ]
  },
  {
   "cell_type": "code",
   "execution_count": 72,
   "id": "a2c94c32-3716-4e56-9281-937c43f5e54c",
   "metadata": {},
   "outputs": [
    {
     "data": {
      "text/html": [
       "<div>\n",
       "<style scoped>\n",
       "    .dataframe tbody tr th:only-of-type {\n",
       "        vertical-align: middle;\n",
       "    }\n",
       "\n",
       "    .dataframe tbody tr th {\n",
       "        vertical-align: top;\n",
       "    }\n",
       "\n",
       "    .dataframe thead th {\n",
       "        text-align: right;\n",
       "    }\n",
       "</style>\n",
       "<table border=\"1\" class=\"dataframe\">\n",
       "  <thead>\n",
       "    <tr style=\"text-align: right;\">\n",
       "      <th></th>\n",
       "      <th>Salary</th>\n",
       "    </tr>\n",
       "  </thead>\n",
       "  <tbody>\n",
       "    <tr>\n",
       "      <th>7</th>\n",
       "      <td>-1518.815401</td>\n",
       "    </tr>\n",
       "    <tr>\n",
       "      <th>29</th>\n",
       "      <td>-4190.519563</td>\n",
       "    </tr>\n",
       "    <tr>\n",
       "      <th>5</th>\n",
       "      <td>3558.953263</td>\n",
       "    </tr>\n",
       "    <tr>\n",
       "      <th>26</th>\n",
       "      <td>509.042651</td>\n",
       "    </tr>\n",
       "    <tr>\n",
       "      <th>8</th>\n",
       "      <td>8481.184599</td>\n",
       "    </tr>\n",
       "    <tr>\n",
       "      <th>27</th>\n",
       "      <td>-4785.213571</td>\n",
       "    </tr>\n",
       "    <tr>\n",
       "      <th>12</th>\n",
       "      <td>-6688.865172</td>\n",
       "    </tr>\n",
       "    <tr>\n",
       "      <th>21</th>\n",
       "      <td>4859.191964</td>\n",
       "    </tr>\n",
       "    <tr>\n",
       "      <th>11</th>\n",
       "      <td>-7851.865172</td>\n",
       "    </tr>\n",
       "  </tbody>\n",
       "</table>\n",
       "</div>"
      ],
      "text/plain": [
       "         Salary\n",
       "7  -1518.815401\n",
       "29 -4190.519563\n",
       "5   3558.953263\n",
       "26   509.042651\n",
       "8   8481.184599\n",
       "27 -4785.213571\n",
       "12 -6688.865172\n",
       "21  4859.191964\n",
       "11 -7851.865172"
      ]
     },
     "execution_count": 72,
     "metadata": {},
     "output_type": "execute_result"
    }
   ],
   "source": [
    "error_test"
   ]
  },
  {
   "cell_type": "code",
   "execution_count": 75,
   "id": "4f2f0671-1ddf-4f0d-b39d-f32214dc25b1",
   "metadata": {},
   "outputs": [
    {
     "name": "stdout",
     "output_type": "stream",
     "text": [
      "Evaluation metrics for train data\n",
      "\n",
      "\n",
      "Mean square error for train data (MSE) : 32756215.556991525\n",
      "Root Mean square error for train data (RMSE) : 5723.304601101669\n",
      "R2 value for train data : 0.9518686093824901\n"
     ]
    }
   ],
   "source": [
    "print(\"Evaluation metrics for train data\")\n",
    "print('\\n')\n",
    "# Actual value, prediction \n",
    "mse_train = mean_squared_error(y_train, predict_train)\n",
    "print(\"Mean square error for train data (MSE) :\", mse_train)\n",
    "\n",
    "rmse_train = sqrt(mse_train)\n",
    "print(\"Root Mean square error for train data (RMSE) :\", rmse_train)\n",
    "\n",
    "r_square = r2_score(y_train, predict_train)\n",
    "print(\"R2 value for train data :\", r_square)"
   ]
  },
  {
   "cell_type": "code",
   "execution_count": 76,
   "id": "94cba09a-a951-4afc-b53f-3de493aa0084",
   "metadata": {},
   "outputs": [
    {
     "name": "stdout",
     "output_type": "stream",
     "text": [
      "Evaluation metrics for test data\n",
      "\n",
      "\n",
      "Mean square error for test data (MSE) : 28625082.091163155\n",
      "Root Mean square error for train data (RMSE) : 5350.241311488964\n",
      "R2 value for test data : 0.963407053878536\n"
     ]
    }
   ],
   "source": [
    "print(\"Evaluation metrics for test data\")\n",
    "print('\\n')\n",
    "# Actual value, prediction \n",
    "mse_test = mean_squared_error(y_test, predict_test)\n",
    "print(\"Mean square error for test data (MSE) :\", mse_test)\n",
    "\n",
    "rmse_test = sqrt(mse_test)\n",
    "print(\"Root Mean square error for train data (RMSE) :\", rmse_test)\n",
    "\n",
    "r_square_test = r2_score(y_test, predict_test)\n",
    "print(\"R2 value for test data :\", r_square_test)"
   ]
  },
  {
   "cell_type": "code",
   "execution_count": null,
   "id": "20635b14-26e7-4235-9b97-eafa74ea68d3",
   "metadata": {},
   "outputs": [],
   "source": []
  }
 ],
 "metadata": {
  "kernelspec": {
   "display_name": "Python 3 (ipykernel)",
   "language": "python",
   "name": "python3"
  },
  "language_info": {
   "codemirror_mode": {
    "name": "ipython",
    "version": 3
   },
   "file_extension": ".py",
   "mimetype": "text/x-python",
   "name": "python",
   "nbconvert_exporter": "python",
   "pygments_lexer": "ipython3",
   "version": "3.9.13"
  }
 },
 "nbformat": 4,
 "nbformat_minor": 5
}
