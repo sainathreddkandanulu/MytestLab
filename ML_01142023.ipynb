{
 "cells": [
  {
   "cell_type": "code",
   "execution_count": 1,
   "id": "c12df9ec-7649-440b-82fc-62454dc3e92a",
   "metadata": {},
   "outputs": [],
   "source": [
    "#import library\n",
    "import pandas as pd\n",
    "import numpy as np\n",
    "import matplotlib.pyplot as plt\n",
    "import seaborn as sns"
   ]
  },
  {
   "cell_type": "code",
   "execution_count": 6,
   "id": "81965f15-5448-4e65-8983-51b5583f20c2",
   "metadata": {},
   "outputs": [],
   "source": [
    "import os"
   ]
  },
  {
   "cell_type": "code",
   "execution_count": 7,
   "id": "4e70bdba-8eb1-49ef-aa74-d25cd0ab6fab",
   "metadata": {},
   "outputs": [],
   "source": [
    "os.chdir('C:\\\\Users\\\\kandanulus\\\\MyTestlab\\\\wine')"
   ]
  },
  {
   "cell_type": "code",
   "execution_count": 8,
   "id": "6c483261-c65e-48d3-8322-1e0941c3b61d",
   "metadata": {},
   "outputs": [],
   "source": [
    "wine = pd.read_csv('wine.csv')"
   ]
  },
  {
   "cell_type": "code",
   "execution_count": 9,
   "id": "621773bf-9b65-48fc-9274-ab02797e7c7e",
   "metadata": {},
   "outputs": [
    {
     "data": {
      "text/html": [
       "<div>\n",
       "<style scoped>\n",
       "    .dataframe tbody tr th:only-of-type {\n",
       "        vertical-align: middle;\n",
       "    }\n",
       "\n",
       "    .dataframe tbody tr th {\n",
       "        vertical-align: top;\n",
       "    }\n",
       "\n",
       "    .dataframe thead th {\n",
       "        text-align: right;\n",
       "    }\n",
       "</style>\n",
       "<table border=\"1\" class=\"dataframe\">\n",
       "  <thead>\n",
       "    <tr style=\"text-align: right;\">\n",
       "      <th></th>\n",
       "      <th>Year</th>\n",
       "      <th>Price</th>\n",
       "      <th>WinterRain</th>\n",
       "      <th>AGST</th>\n",
       "      <th>HarvestRain</th>\n",
       "      <th>Age</th>\n",
       "      <th>FrancePop</th>\n",
       "    </tr>\n",
       "  </thead>\n",
       "  <tbody>\n",
       "    <tr>\n",
       "      <th>count</th>\n",
       "      <td>25.000000</td>\n",
       "      <td>25.000000</td>\n",
       "      <td>25.000000</td>\n",
       "      <td>25.000000</td>\n",
       "      <td>25.000000</td>\n",
       "      <td>25.000000</td>\n",
       "      <td>25.000000</td>\n",
       "    </tr>\n",
       "    <tr>\n",
       "      <th>mean</th>\n",
       "      <td>1965.800000</td>\n",
       "      <td>7.067224</td>\n",
       "      <td>605.280000</td>\n",
       "      <td>16.509336</td>\n",
       "      <td>148.560000</td>\n",
       "      <td>17.200000</td>\n",
       "      <td>49694.436760</td>\n",
       "    </tr>\n",
       "    <tr>\n",
       "      <th>std</th>\n",
       "      <td>7.691987</td>\n",
       "      <td>0.650341</td>\n",
       "      <td>132.277965</td>\n",
       "      <td>0.675397</td>\n",
       "      <td>74.419464</td>\n",
       "      <td>7.691987</td>\n",
       "      <td>3665.270243</td>\n",
       "    </tr>\n",
       "    <tr>\n",
       "      <th>min</th>\n",
       "      <td>1952.000000</td>\n",
       "      <td>6.204900</td>\n",
       "      <td>376.000000</td>\n",
       "      <td>14.983300</td>\n",
       "      <td>38.000000</td>\n",
       "      <td>5.000000</td>\n",
       "      <td>43183.569000</td>\n",
       "    </tr>\n",
       "    <tr>\n",
       "      <th>25%</th>\n",
       "      <td>1960.000000</td>\n",
       "      <td>6.518800</td>\n",
       "      <td>536.000000</td>\n",
       "      <td>16.200000</td>\n",
       "      <td>89.000000</td>\n",
       "      <td>11.000000</td>\n",
       "      <td>46583.995000</td>\n",
       "    </tr>\n",
       "    <tr>\n",
       "      <th>50%</th>\n",
       "      <td>1966.000000</td>\n",
       "      <td>7.121100</td>\n",
       "      <td>600.000000</td>\n",
       "      <td>16.533300</td>\n",
       "      <td>130.000000</td>\n",
       "      <td>17.000000</td>\n",
       "      <td>50254.966000</td>\n",
       "    </tr>\n",
       "    <tr>\n",
       "      <th>75%</th>\n",
       "      <td>1972.000000</td>\n",
       "      <td>7.495000</td>\n",
       "      <td>697.000000</td>\n",
       "      <td>17.066700</td>\n",
       "      <td>187.000000</td>\n",
       "      <td>23.000000</td>\n",
       "      <td>52894.183000</td>\n",
       "    </tr>\n",
       "    <tr>\n",
       "      <th>max</th>\n",
       "      <td>1978.000000</td>\n",
       "      <td>8.493700</td>\n",
       "      <td>830.000000</td>\n",
       "      <td>17.650000</td>\n",
       "      <td>292.000000</td>\n",
       "      <td>31.000000</td>\n",
       "      <td>54602.193000</td>\n",
       "    </tr>\n",
       "  </tbody>\n",
       "</table>\n",
       "</div>"
      ],
      "text/plain": [
       "              Year      Price  WinterRain       AGST  HarvestRain        Age  \\\n",
       "count    25.000000  25.000000   25.000000  25.000000    25.000000  25.000000   \n",
       "mean   1965.800000   7.067224  605.280000  16.509336   148.560000  17.200000   \n",
       "std       7.691987   0.650341  132.277965   0.675397    74.419464   7.691987   \n",
       "min    1952.000000   6.204900  376.000000  14.983300    38.000000   5.000000   \n",
       "25%    1960.000000   6.518800  536.000000  16.200000    89.000000  11.000000   \n",
       "50%    1966.000000   7.121100  600.000000  16.533300   130.000000  17.000000   \n",
       "75%    1972.000000   7.495000  697.000000  17.066700   187.000000  23.000000   \n",
       "max    1978.000000   8.493700  830.000000  17.650000   292.000000  31.000000   \n",
       "\n",
       "          FrancePop  \n",
       "count     25.000000  \n",
       "mean   49694.436760  \n",
       "std     3665.270243  \n",
       "min    43183.569000  \n",
       "25%    46583.995000  \n",
       "50%    50254.966000  \n",
       "75%    52894.183000  \n",
       "max    54602.193000  "
      ]
     },
     "execution_count": 9,
     "metadata": {},
     "output_type": "execute_result"
    }
   ],
   "source": [
    "wine.describe()"
   ]
  },
  {
   "cell_type": "markdown",
   "id": "3f578137-54d2-44e7-8830-f2743ab286d0",
   "metadata": {},
   "source": [
    "# Perform EDA"
   ]
  },
  {
   "cell_type": "code",
   "execution_count": 10,
   "id": "9ccdb20d-f6db-4997-b44c-1b5178559b9b",
   "metadata": {},
   "outputs": [
    {
     "data": {
      "text/plain": [
       "Index(['Year', 'Price', 'WinterRain', 'AGST', 'HarvestRain', 'Age',\n",
       "       'FrancePop'],\n",
       "      dtype='object')"
      ]
     },
     "execution_count": 10,
     "metadata": {},
     "output_type": "execute_result"
    }
   ],
   "source": [
    "wine.columns"
   ]
  },
  {
   "cell_type": "code",
   "execution_count": 168,
   "id": "92e64e2b-638d-4de0-a164-09a05753951f",
   "metadata": {},
   "outputs": [],
   "source": [
    "X = wine[['WinterRain','AGST','HarvestRain']]\n",
    "y = wine[['Price']]"
   ]
  },
  {
   "cell_type": "code",
   "execution_count": 169,
   "id": "31ac6222-b367-49dd-bdc8-eebc88dc3402",
   "metadata": {},
   "outputs": [],
   "source": [
    "from sklearn.model_selection import train_test_split"
   ]
  },
  {
   "cell_type": "code",
   "execution_count": 170,
   "id": "7fa9f300-95d0-4b65-8a46-152071ab4664",
   "metadata": {},
   "outputs": [],
   "source": [
    "X_train,X_test,y_train,y_test= train_test_split(X,y,train_size=0.8,random_state=123)"
   ]
  },
  {
   "cell_type": "code",
   "execution_count": 171,
   "id": "3153c628-b8d3-47f9-9f0f-910f0de4e808",
   "metadata": {},
   "outputs": [
    {
     "name": "stdout",
     "output_type": "stream",
     "text": [
      "    WinterRain     AGST  HarvestRain\n",
      "8          697  16.3000           52\n",
      "7          830  17.3333           38\n",
      "11         602  15.3667          267\n",
      "4          582  16.4167          187\n",
      "3          420  16.1333          110\n"
     ]
    }
   ],
   "source": [
    "print(X_train.head())"
   ]
  },
  {
   "cell_type": "code",
   "execution_count": 172,
   "id": "6894fa41-5974-40fe-8334-a8966fa830f3",
   "metadata": {},
   "outputs": [
    {
     "name": "stdout",
     "output_type": "stream",
     "text": [
      "shape of train data sets\n",
      "(20, 3)\n",
      "(20, 1)\n",
      "shape of train data sets\n",
      "(5, 3)\n",
      "(5, 1)\n"
     ]
    }
   ],
   "source": [
    "print(\"shape of train data sets\")\n",
    "print(X_train.shape)\n",
    "print(y_train.shape)\n",
    "\n",
    "print(\"shape of train data sets\")\n",
    "print(X_test.shape)\n",
    "print(y_test.shape)\n"
   ]
  },
  {
   "cell_type": "code",
   "execution_count": 173,
   "id": "4958391a-39b1-4ff8-84b2-1ae8304b9f26",
   "metadata": {},
   "outputs": [
    {
     "data": {
      "text/plain": [
       "LinearRegression()"
      ]
     },
     "execution_count": 173,
     "metadata": {},
     "output_type": "execute_result"
    }
   ],
   "source": [
    "from sklearn.linear_model import LinearRegression\n",
    "lm = LinearRegression()\n",
    "lm.fit(X_train,y_train) # fit model"
   ]
  },
  {
   "cell_type": "code",
   "execution_count": 174,
   "id": "c9082167-2c90-42d0-8392-6626f61e247d",
   "metadata": {},
   "outputs": [
    {
     "name": "stdout",
     "output_type": "stream",
     "text": [
      "[[ 0.00142976  0.6924606  -0.00377696]]\n"
     ]
    }
   ],
   "source": [
    "print(lm.coef_)"
   ]
  },
  {
   "cell_type": "code",
   "execution_count": 175,
   "id": "5e9f119b-361b-4882-bb29-dfbb5db70bdf",
   "metadata": {},
   "outputs": [
    {
     "name": "stdout",
     "output_type": "stream",
     "text": [
      "[-4.69864537]\n"
     ]
    }
   ],
   "source": [
    "print(lm.intercept_)"
   ]
  },
  {
   "cell_type": "code",
   "execution_count": 176,
   "id": "1101c3c2-7c59-4757-9d22-3edb52e74dad",
   "metadata": {},
   "outputs": [],
   "source": [
    "predict_train = lm.predict(X_train)"
   ]
  },
  {
   "cell_type": "code",
   "execution_count": 177,
   "id": "a082fa1d-aeca-4305-9a82-ee2285f12d35",
   "metadata": {},
   "outputs": [
    {
     "data": {
      "text/plain": [
       "array([[7.38860024],\n",
       "       [8.34715465],\n",
       "       [5.79445428],\n",
       "       [6.79509935],\n",
       "       [6.65806132],\n",
       "       [7.15207485],\n",
       "       [7.59616493],\n",
       "       [7.39554649],\n",
       "       [6.46841319],\n",
       "       [6.28849582],\n",
       "       [6.71418203],\n",
       "       [7.40753521],\n",
       "       [7.57288035],\n",
       "       [7.47003797],\n",
       "       [7.19239437],\n",
       "       [7.27640991],\n",
       "       [6.66485852],\n",
       "       [6.93740991],\n",
       "       [7.40378682],\n",
       "       [7.11743981]])"
      ]
     },
     "execution_count": 177,
     "metadata": {},
     "output_type": "execute_result"
    }
   ],
   "source": [
    "predict_train"
   ]
  },
  {
   "cell_type": "code",
   "execution_count": 178,
   "id": "38052b81-d5c8-4293-b1c3-c73df2cb2433",
   "metadata": {},
   "outputs": [],
   "source": [
    "# error in Prediction\n",
    "error_train = X_train - predict_train"
   ]
  },
  {
   "cell_type": "code",
   "execution_count": 179,
   "id": "d1c9ae3d-6709-41ea-95d6-e2edeffc905c",
   "metadata": {},
   "outputs": [
    {
     "data": {
      "text/html": [
       "<div>\n",
       "<style scoped>\n",
       "    .dataframe tbody tr th:only-of-type {\n",
       "        vertical-align: middle;\n",
       "    }\n",
       "\n",
       "    .dataframe tbody tr th {\n",
       "        vertical-align: top;\n",
       "    }\n",
       "\n",
       "    .dataframe thead th {\n",
       "        text-align: right;\n",
       "    }\n",
       "</style>\n",
       "<table border=\"1\" class=\"dataframe\">\n",
       "  <thead>\n",
       "    <tr style=\"text-align: right;\">\n",
       "      <th></th>\n",
       "      <th>WinterRain</th>\n",
       "      <th>AGST</th>\n",
       "      <th>HarvestRain</th>\n",
       "    </tr>\n",
       "  </thead>\n",
       "  <tbody>\n",
       "    <tr>\n",
       "      <th>8</th>\n",
       "      <td>689.611400</td>\n",
       "      <td>8.911400</td>\n",
       "      <td>44.611400</td>\n",
       "    </tr>\n",
       "    <tr>\n",
       "      <th>7</th>\n",
       "      <td>821.652845</td>\n",
       "      <td>8.986145</td>\n",
       "      <td>29.652845</td>\n",
       "    </tr>\n",
       "    <tr>\n",
       "      <th>11</th>\n",
       "      <td>596.205546</td>\n",
       "      <td>9.572246</td>\n",
       "      <td>261.205546</td>\n",
       "    </tr>\n",
       "    <tr>\n",
       "      <th>4</th>\n",
       "      <td>575.204901</td>\n",
       "      <td>9.621601</td>\n",
       "      <td>180.204901</td>\n",
       "    </tr>\n",
       "    <tr>\n",
       "      <th>3</th>\n",
       "      <td>413.341939</td>\n",
       "      <td>9.475239</td>\n",
       "      <td>103.341939</td>\n",
       "    </tr>\n",
       "    <tr>\n",
       "      <th>24</th>\n",
       "      <td>755.847925</td>\n",
       "      <td>8.664625</td>\n",
       "      <td>43.847925</td>\n",
       "    </tr>\n",
       "    <tr>\n",
       "      <th>12</th>\n",
       "      <td>811.403835</td>\n",
       "      <td>8.937135</td>\n",
       "      <td>78.403835</td>\n",
       "    </tr>\n",
       "    <tr>\n",
       "      <th>16</th>\n",
       "      <td>614.604454</td>\n",
       "      <td>9.271154</td>\n",
       "      <td>81.604454</td>\n",
       "    </tr>\n",
       "    <tr>\n",
       "      <th>9</th>\n",
       "      <td>601.531587</td>\n",
       "      <td>9.248287</td>\n",
       "      <td>148.531587</td>\n",
       "    </tr>\n",
       "    <tr>\n",
       "      <th>14</th>\n",
       "      <td>603.711504</td>\n",
       "      <td>9.911504</td>\n",
       "      <td>285.711504</td>\n",
       "    </tr>\n",
       "    <tr>\n",
       "      <th>20</th>\n",
       "      <td>567.285818</td>\n",
       "      <td>9.585818</td>\n",
       "      <td>177.285818</td>\n",
       "    </tr>\n",
       "    <tr>\n",
       "      <th>0</th>\n",
       "      <td>592.592465</td>\n",
       "      <td>9.709165</td>\n",
       "      <td>152.592465</td>\n",
       "    </tr>\n",
       "    <tr>\n",
       "      <th>1</th>\n",
       "      <td>682.427120</td>\n",
       "      <td>9.160420</td>\n",
       "      <td>72.427120</td>\n",
       "    </tr>\n",
       "    <tr>\n",
       "      <th>10</th>\n",
       "      <td>394.529962</td>\n",
       "      <td>9.796662</td>\n",
       "      <td>88.529962</td>\n",
       "    </tr>\n",
       "    <tr>\n",
       "      <th>19</th>\n",
       "      <td>368.807606</td>\n",
       "      <td>9.874306</td>\n",
       "      <td>115.807606</td>\n",
       "    </tr>\n",
       "    <tr>\n",
       "      <th>17</th>\n",
       "      <td>543.723590</td>\n",
       "      <td>9.490290</td>\n",
       "      <td>104.723590</td>\n",
       "    </tr>\n",
       "    <tr>\n",
       "      <th>6</th>\n",
       "      <td>756.335141</td>\n",
       "      <td>9.751841</td>\n",
       "      <td>283.335141</td>\n",
       "    </tr>\n",
       "    <tr>\n",
       "      <th>23</th>\n",
       "      <td>814.062590</td>\n",
       "      <td>8.645890</td>\n",
       "      <td>80.062590</td>\n",
       "    </tr>\n",
       "    <tr>\n",
       "      <th>2</th>\n",
       "      <td>494.596213</td>\n",
       "      <td>9.746213</td>\n",
       "      <td>122.596213</td>\n",
       "    </tr>\n",
       "    <tr>\n",
       "      <th>13</th>\n",
       "      <td>706.882560</td>\n",
       "      <td>9.115860</td>\n",
       "      <td>110.882560</td>\n",
       "    </tr>\n",
       "  </tbody>\n",
       "</table>\n",
       "</div>"
      ],
      "text/plain": [
       "    WinterRain      AGST  HarvestRain\n",
       "8   689.611400  8.911400    44.611400\n",
       "7   821.652845  8.986145    29.652845\n",
       "11  596.205546  9.572246   261.205546\n",
       "4   575.204901  9.621601   180.204901\n",
       "3   413.341939  9.475239   103.341939\n",
       "24  755.847925  8.664625    43.847925\n",
       "12  811.403835  8.937135    78.403835\n",
       "16  614.604454  9.271154    81.604454\n",
       "9   601.531587  9.248287   148.531587\n",
       "14  603.711504  9.911504   285.711504\n",
       "20  567.285818  9.585818   177.285818\n",
       "0   592.592465  9.709165   152.592465\n",
       "1   682.427120  9.160420    72.427120\n",
       "10  394.529962  9.796662    88.529962\n",
       "19  368.807606  9.874306   115.807606\n",
       "17  543.723590  9.490290   104.723590\n",
       "6   756.335141  9.751841   283.335141\n",
       "23  814.062590  8.645890    80.062590\n",
       "2   494.596213  9.746213   122.596213\n",
       "13  706.882560  9.115860   110.882560"
      ]
     },
     "execution_count": 179,
     "metadata": {},
     "output_type": "execute_result"
    }
   ],
   "source": [
    "error_train"
   ]
  },
  {
   "cell_type": "code",
   "execution_count": 180,
   "id": "7df1e122-21b7-4247-a425-cb52328ce3ff",
   "metadata": {},
   "outputs": [],
   "source": [
    "predict_test = lm.predict(X_test)"
   ]
  },
  {
   "cell_type": "code",
   "execution_count": 181,
   "id": "1e10a515-4def-427c-8097-94c99f098832",
   "metadata": {},
   "outputs": [
    {
     "data": {
      "text/plain": [
       "array([[7.39499156],\n",
       "       [7.21052235],\n",
       "       [7.18801372],\n",
       "       [5.84628932],\n",
       "       [6.66210952]])"
      ]
     },
     "execution_count": 181,
     "metadata": {},
     "output_type": "execute_result"
    }
   ],
   "source": [
    "predict_test"
   ]
  },
  {
   "cell_type": "code",
   "execution_count": 182,
   "id": "d3f95fa9-695c-4809-b918-35df3d1d2686",
   "metadata": {},
   "outputs": [],
   "source": [
    "error_test = y_test - predict_test"
   ]
  },
  {
   "cell_type": "code",
   "execution_count": 183,
   "id": "ea657bf5-6b67-46af-bf9a-fed39eabdd30",
   "metadata": {},
   "outputs": [
    {
     "data": {
      "text/html": [
       "<div>\n",
       "<style scoped>\n",
       "    .dataframe tbody tr th:only-of-type {\n",
       "        vertical-align: middle;\n",
       "    }\n",
       "\n",
       "    .dataframe tbody tr th {\n",
       "        vertical-align: top;\n",
       "    }\n",
       "\n",
       "    .dataframe thead th {\n",
       "        text-align: right;\n",
       "    }\n",
       "</style>\n",
       "<table border=\"1\" class=\"dataframe\">\n",
       "  <thead>\n",
       "    <tr style=\"text-align: right;\">\n",
       "      <th></th>\n",
       "      <th>Price</th>\n",
       "    </tr>\n",
       "  </thead>\n",
       "  <tbody>\n",
       "    <tr>\n",
       "      <th>5</th>\n",
       "      <td>0.680708</td>\n",
       "    </tr>\n",
       "    <tr>\n",
       "      <th>21</th>\n",
       "      <td>0.081478</td>\n",
       "    </tr>\n",
       "    <tr>\n",
       "      <th>22</th>\n",
       "      <td>-0.066914</td>\n",
       "    </tr>\n",
       "    <tr>\n",
       "      <th>18</th>\n",
       "      <td>0.358611</td>\n",
       "    </tr>\n",
       "    <tr>\n",
       "      <th>15</th>\n",
       "      <td>-0.316210</td>\n",
       "    </tr>\n",
       "  </tbody>\n",
       "</table>\n",
       "</div>"
      ],
      "text/plain": [
       "       Price\n",
       "5   0.680708\n",
       "21  0.081478\n",
       "22 -0.066914\n",
       "18  0.358611\n",
       "15 -0.316210"
      ]
     },
     "execution_count": 183,
     "metadata": {},
     "output_type": "execute_result"
    }
   ],
   "source": [
    "error_test"
   ]
  },
  {
   "cell_type": "code",
   "execution_count": 184,
   "id": "68c0a037-7cd6-4779-9999-d51376861810",
   "metadata": {},
   "outputs": [],
   "source": [
    "from sklearn.metrics import mean_squared_error, r2_score, mean_absolute_error, mean_absolute_percentage_error\n",
    "from math import sqrt"
   ]
  },
  {
   "cell_type": "code",
   "execution_count": 185,
   "id": "ed087e0f-9936-4725-a1b8-d97d64016f83",
   "metadata": {},
   "outputs": [
    {
     "name": "stdout",
     "output_type": "stream",
     "text": [
      "Evaluation metrics for train data\n",
      "\n",
      "\n",
      "Mean square error for train data (MSE) : 0.09206131850370818\n",
      "Root Mean square error for train data (RMSE) : 0.30341608148499344\n",
      "Root Mean absolute error for train data (MAE) : 0.2385327927780813\n",
      "Root Mean absolute percentage error for train data (MAPE) : 0.03472631686583838\n",
      "R2 value for train data : 0.7643043140887541\n"
     ]
    }
   ],
   "source": [
    "print(\"Evaluation metrics for train data\")\n",
    "print('\\n')\n",
    "# Actual value, prediction \n",
    "mse_train = mean_squared_error(y_train, predict_train)\n",
    "print(\"Mean square error for train data (MSE) :\", mse_train)\n",
    "\n",
    "rmse_train = sqrt(mse_train)\n",
    "print(\"Root Mean square error for train data (RMSE) :\", rmse_train)\n",
    "\n",
    "mae_train = mean_absolute_error(y_train, predict_train)\n",
    "print(\"Root Mean absolute error for train data (MAE) :\", mae_train)\n",
    "\n",
    "mape_train = mean_absolute_percentage_error(y_train, predict_train)\n",
    "print(\"Root Mean absolute percentage error for train data (MAPE) :\", mape_train)\n",
    "\n",
    "r_square = r2_score(y_train, predict_train)\n",
    "print(\"R2 value for train data :\", r_square)"
   ]
  },
  {
   "cell_type": "code",
   "execution_count": 186,
   "id": "bd4afac3-1d46-4538-9eb4-21575f53040b",
   "metadata": {},
   "outputs": [
    {
     "name": "stdout",
     "output_type": "stream",
     "text": [
      "Evaluation metrics for test data\n",
      "\n",
      "\n",
      "Mean square error for test data (MSE) : 0.14061402365690406\n",
      "Root Mean square error for test data (RMSE) : 0.3749853645902785\n",
      "Root Mean absolute error for test data (MAE) : 0.3007840026314552\n",
      "Root Mean absolute percentage error for test data (MAPE) : 0.04249695308584827\n",
      "R2 value for test data : 0.6965309340203842\n"
     ]
    }
   ],
   "source": [
    "print(\"Evaluation metrics for test data\")\n",
    "print('\\n')\n",
    "# Actual value, prediction \n",
    "mse_test = mean_squared_error(y_test, predict_test)\n",
    "print(\"Mean square error for test data (MSE) :\", mse_test)\n",
    "\n",
    "rmse_test = sqrt(mse_test)\n",
    "print(\"Root Mean square error for test data (RMSE) :\", rmse_test)\n",
    "\n",
    "mae_test = mean_absolute_error(y_test, predict_test)\n",
    "print(\"Root Mean absolute error for test data (MAE) :\", mae_test)\n",
    "\n",
    "mape_test = mean_absolute_percentage_error(y_test, predict_test)\n",
    "print(\"Root Mean absolute percentage error for test data (MAPE) :\", mape_test)\n",
    "\n",
    "\n",
    "r_square_test = r2_score(y_test, predict_test)\n",
    "print(\"R2 value for test data :\", r_square_test)"
   ]
  },
  {
   "cell_type": "code",
   "execution_count": null,
   "id": "a67afb6e-5f60-4821-b934-33565bc39b7f",
   "metadata": {},
   "outputs": [],
   "source": []
  },
  {
   "cell_type": "code",
   "execution_count": null,
   "id": "848c6d98-93b6-45c2-9f98-48001c216a6a",
   "metadata": {},
   "outputs": [],
   "source": []
  }
 ],
 "metadata": {
  "kernelspec": {
   "display_name": "Python 3 (ipykernel)",
   "language": "python",
   "name": "python3"
  },
  "language_info": {
   "codemirror_mode": {
    "name": "ipython",
    "version": 3
   },
   "file_extension": ".py",
   "mimetype": "text/x-python",
   "name": "python",
   "nbconvert_exporter": "python",
   "pygments_lexer": "ipython3",
   "version": "3.9.13"
  }
 },
 "nbformat": 4,
 "nbformat_minor": 5
}
