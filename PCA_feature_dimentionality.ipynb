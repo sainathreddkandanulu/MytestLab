{
 "cells": [
  {
   "cell_type": "code",
   "execution_count": 1,
   "id": "fb30d7ba-22e4-4e65-976a-d7958171db91",
   "metadata": {},
   "outputs": [],
   "source": [
    "import pandas as pd\n",
    "import matplotlib.pyplot as plt\n",
    "import seaborn as sns\n",
    "%matplotlib inline"
   ]
  },
  {
   "cell_type": "code",
   "execution_count": 2,
   "id": "920b1f2b-46b5-4aa2-a803-bb70c3877ae1",
   "metadata": {},
   "outputs": [],
   "source": [
    "import sklearn\n",
    "from sklearn.datasets import load_iris"
   ]
  },
  {
   "cell_type": "code",
   "execution_count": 3,
   "id": "2bd2dc26-5866-4d7c-b16a-81609cd51caf",
   "metadata": {},
   "outputs": [],
   "source": [
    "data = load_iris()"
   ]
  },
  {
   "cell_type": "code",
   "execution_count": 6,
   "id": "76021286-1093-4b36-a886-f20dbe70b456",
   "metadata": {},
   "outputs": [],
   "source": [
    "X= data.data\n",
    "y = data.target"
   ]
  },
  {
   "cell_type": "code",
   "execution_count": 7,
   "id": "6acb6047-5de6-4e06-8358-6bbb5fcd0a25",
   "metadata": {},
   "outputs": [],
   "source": [
    "from sklearn.model_selection import train_test_split\n",
    "X_train, X_test,y_train,y_test = train_test_split(X,y,test_size=0.2, random_state = 1)"
   ]
  },
  {
   "cell_type": "raw",
   "id": "5800f9e1-f958-46de-8de4-467f64a9139c",
   "metadata": {},
   "source": [
    "print(X_train.shape)"
   ]
  },
  {
   "cell_type": "code",
   "execution_count": 11,
   "id": "fa01a787-18ca-40e4-abc3-067020c3d97a",
   "metadata": {},
   "outputs": [],
   "source": [
    "from sklearn.linear_model import LogisticRegression\n",
    "lr = LogisticRegression()"
   ]
  },
  {
   "cell_type": "code",
   "execution_count": 14,
   "id": "2a5d1e26-42c6-426f-9891-aa1fc01c2e32",
   "metadata": {},
   "outputs": [
    {
     "name": "stderr",
     "output_type": "stream",
     "text": [
      "C:\\Users\\kandanulus\\Anaconda3\\lib\\site-packages\\sklearn\\linear_model\\_logistic.py:814: ConvergenceWarning: lbfgs failed to converge (status=1):\n",
      "STOP: TOTAL NO. of ITERATIONS REACHED LIMIT.\n",
      "\n",
      "Increase the number of iterations (max_iter) or scale the data as shown in:\n",
      "    https://scikit-learn.org/stable/modules/preprocessing.html\n",
      "Please also refer to the documentation for alternative solver options:\n",
      "    https://scikit-learn.org/stable/modules/linear_model.html#logistic-regression\n",
      "  n_iter_i = _check_optimize_result(\n"
     ]
    },
    {
     "data": {
      "text/plain": [
       "LogisticRegression()"
      ]
     },
     "execution_count": 14,
     "metadata": {},
     "output_type": "execute_result"
    }
   ],
   "source": [
    "lr.fit(X_train,y_train)"
   ]
  },
  {
   "cell_type": "code",
   "execution_count": 17,
   "id": "1cad3b47-36c5-4892-be80-d265ce1d5445",
   "metadata": {},
   "outputs": [],
   "source": [
    "y_predict = lr.predict(X_test)"
   ]
  },
  {
   "cell_type": "code",
   "execution_count": 19,
   "id": "a009e7c8-fcce-442b-ba8c-3bcf02368834",
   "metadata": {},
   "outputs": [],
   "source": [
    "from sklearn.metrics import accuracy_score\n",
    "accuracy = accuracy_score(y_predict,y_test)"
   ]
  },
  {
   "cell_type": "code",
   "execution_count": 20,
   "id": "f8428178-2d01-45f6-964c-eb8f6a3713c2",
   "metadata": {},
   "outputs": [
    {
     "name": "stdout",
     "output_type": "stream",
     "text": [
      "0.9666666666666667\n"
     ]
    }
   ],
   "source": [
    "print(accuracy)"
   ]
  },
  {
   "cell_type": "code",
   "execution_count": 22,
   "id": "0176905b-fe4a-4a0c-a4d2-6a2cdeeae76a",
   "metadata": {},
   "outputs": [],
   "source": [
    "from sklearn.decomposition import PCA"
   ]
  },
  {
   "cell_type": "code",
   "execution_count": 23,
   "id": "5ab07e15-634b-4d9f-a450-1c0242a331bc",
   "metadata": {},
   "outputs": [],
   "source": [
    "sklearn_pca= PCA(n_components=0.95)"
   ]
  },
  {
   "cell_type": "code",
   "execution_count": 26,
   "id": "22ca0b0c-9c6d-4331-a66a-01f2608db5dc",
   "metadata": {},
   "outputs": [
    {
     "data": {
      "text/plain": [
       "PCA(n_components=0.95)"
      ]
     },
     "execution_count": 26,
     "metadata": {},
     "output_type": "execute_result"
    }
   ],
   "source": [
    "sklearn_pca.fit(X_train)"
   ]
  },
  {
   "cell_type": "code",
   "execution_count": 31,
   "id": "dddd6881-5c86-4977-a27e-8e376aebb952",
   "metadata": {},
   "outputs": [],
   "source": [
    "X_train_transformed = sklearn_pca.transform(X_train)"
   ]
  },
  {
   "cell_type": "code",
   "execution_count": 33,
   "id": "81f198f3-3b8e-4307-a7f9-6fffd8e7f74a",
   "metadata": {},
   "outputs": [
    {
     "name": "stdout",
     "output_type": "stream",
     "text": [
      "(120, 2)\n"
     ]
    }
   ],
   "source": [
    "print(X_train_transformed.shape)"
   ]
  },
  {
   "cell_type": "code",
   "execution_count": 34,
   "id": "b31ae63c-fb43-41cf-8b1a-39f10937dfd2",
   "metadata": {},
   "outputs": [
    {
     "name": "stdout",
     "output_type": "stream",
     "text": [
      "(30, 4)\n"
     ]
    }
   ],
   "source": [
    "print(X_test.shape)"
   ]
  },
  {
   "cell_type": "code",
   "execution_count": 41,
   "id": "a302130d-71e8-4854-a96a-773a15e202c9",
   "metadata": {},
   "outputs": [
    {
     "name": "stdout",
     "output_type": "stream",
     "text": [
      "(30, 2)\n"
     ]
    }
   ],
   "source": [
    "X_test_transformed = sklearn_pca.transform(X_test)\n",
    "print(X_test_transformed.shape)"
   ]
  },
  {
   "cell_type": "code",
   "execution_count": 39,
   "id": "bdf69e1b-6cc5-4e27-a42d-5797c10c4310",
   "metadata": {},
   "outputs": [],
   "source": [
    "lr = LogisticRegression(penalty = 'l2')"
   ]
  },
  {
   "cell_type": "code",
   "execution_count": 40,
   "id": "7655c76c-c03f-4c48-b41b-cca77df03330",
   "metadata": {},
   "outputs": [
    {
     "data": {
      "text/plain": [
       "LogisticRegression()"
      ]
     },
     "execution_count": 40,
     "metadata": {},
     "output_type": "execute_result"
    }
   ],
   "source": [
    "lr.fit(X_train_transformed,y_train)"
   ]
  },
  {
   "cell_type": "code",
   "execution_count": 43,
   "id": "8ecca8de-8775-44bb-889c-dbd84bbe9385",
   "metadata": {},
   "outputs": [],
   "source": [
    "y_predict = lr.predict(X_test_transformed)"
   ]
  },
  {
   "cell_type": "code",
   "execution_count": 44,
   "id": "75844f0f-00a2-4f0d-8f3a-beef40770584",
   "metadata": {},
   "outputs": [],
   "source": [
    "from sklearn.metrics import accuracy_score\n",
    "accuracy = accuracy_score(y_predict,y_test)"
   ]
  },
  {
   "cell_type": "code",
   "execution_count": 45,
   "id": "242b4215-1391-4cb0-899c-419cb815a87b",
   "metadata": {},
   "outputs": [
    {
     "name": "stdout",
     "output_type": "stream",
     "text": [
      "0.9666666666666667\n"
     ]
    }
   ],
   "source": [
    "print(accuracy)"
   ]
  },
  {
   "cell_type": "markdown",
   "id": "0842515e-d118-4175-835b-8fc672186723",
   "metadata": {},
   "source": [
    "# Linear Discreminate Analysis\n",
    "# 1/21/2023"
   ]
  },
  {
   "cell_type": "code",
   "execution_count": 46,
   "id": "76148039-865b-4a72-86ba-2a8555abc8a2",
   "metadata": {},
   "outputs": [],
   "source": [
    "from mlxtend.data import iris_data\n",
    "from mlxtend.preprocessing import standardize\n",
    "from mlxtend.feature_extraction import LinearDiscriminantAnalysis"
   ]
  },
  {
   "cell_type": "code",
   "execution_count": 47,
   "id": "c14e50dd-1d1c-4d26-b470-1c18529aeb66",
   "metadata": {},
   "outputs": [],
   "source": [
    "X,y = iris_data()\n",
    "X = standardize(X)"
   ]
  },
  {
   "cell_type": "code",
   "execution_count": 50,
   "id": "27b6afab-4f1c-49f9-ad25-f8567fe06f75",
   "metadata": {},
   "outputs": [],
   "source": [
    "lda = LinearDiscriminantAnalysis(n_discriminants=2)"
   ]
  },
  {
   "cell_type": "code",
   "execution_count": 54,
   "id": "438d59ff-b8b1-4652-a0cb-fb7c5cf4e33e",
   "metadata": {},
   "outputs": [
    {
     "data": {
      "text/plain": [
       "array([[-1.78399213, -0.02138789],\n",
       "       [-1.56599117, -0.39039612],\n",
       "       [-1.65167828, -0.21283157],\n",
       "       [-1.49902607, -0.34511877],\n",
       "       [-1.80228426,  0.05273823],\n",
       "       [-1.71663551,  0.39464792],\n",
       "       [-1.59735842,  0.01042189],\n",
       "       [-1.68044277, -0.12436278],\n",
       "       [-1.43923591, -0.46313164],\n",
       "       [-1.61313608, -0.45035938],\n",
       "       [-1.86185948,  0.09639322],\n",
       "       [-1.59518554, -0.15321155],\n",
       "       [-1.60779243, -0.49470966],\n",
       "       [-1.66471505, -0.40561391],\n",
       "       [-2.19058476,  0.40508613],\n",
       "       [-2.05091937,  0.822049  ],\n",
       "       [-1.91304693,  0.51189714],\n",
       "       [-1.72411369,  0.08315742],\n",
       "       [-1.79437621,  0.21551296],\n",
       "       [-1.78411878,  0.27552817],\n",
       "       [-1.65454582, -0.18391446],\n",
       "       [-1.68787102,  0.30617912],\n",
       "       [-1.92638692,  0.17091452],\n",
       "       [-1.3843096 ,  0.0565224 ],\n",
       "       [-1.44787697, -0.24114847],\n",
       "       [-1.48586265, -0.4492525 ],\n",
       "       [-1.51158303,  0.05541552],\n",
       "       [-1.75296647, -0.05093196],\n",
       "       [-1.76570001, -0.095514  ],\n",
       "       [-1.50436972, -0.30076849],\n",
       "       [-1.48607759, -0.37489461],\n",
       "       [-1.63299464,  0.08380076],\n",
       "       [-2.03106081,  0.28788886],\n",
       "       [-2.11088611,  0.49494552],\n",
       "       [-1.61313608, -0.45035938],\n",
       "       [-1.75501271, -0.18421457],\n",
       "       [-1.90540375,  0.00699736],\n",
       "       [-1.61313608, -0.45035938],\n",
       "       [-1.52470808, -0.35992498],\n",
       "       [-1.69851996, -0.12459455],\n",
       "       [-1.75513935,  0.11270149],\n",
       "       [-1.22832161, -0.77287192],\n",
       "       [-1.59744671, -0.21213628],\n",
       "       [-1.42819545,  0.33840048],\n",
       "       [-1.52782891,  0.26282425],\n",
       "       [-1.48803554, -0.28561905],\n",
       "       [-1.79489437,  0.14167056],\n",
       "       [-1.58449824, -0.24191212],\n",
       "       [-1.84378229,  0.09662498],\n",
       "       [-1.69317631, -0.16894483],\n",
       "       [ 0.32058479,  0.03976303],\n",
       "       [ 0.39072066,  0.20432354],\n",
       "       [ 0.53311545,  0.01202113],\n",
       "       [ 0.51546804, -0.52116882],\n",
       "       [ 0.56722359, -0.12079794],\n",
       "       [ 0.54298136, -0.29872212],\n",
       "       [ 0.53051269,  0.32437035],\n",
       "       [ 0.06420654, -0.55433363],\n",
       "       [ 0.39302019, -0.25622596],\n",
       "       [ 0.43499794, -0.0910385 ],\n",
       "       [ 0.28981233, -0.90876743],\n",
       "       [ 0.40653668,  0.14563058],\n",
       "       [ 0.28181607, -0.90985791],\n",
       "       [ 0.59238744, -0.17983414],\n",
       "       [ 0.08276354,  0.03921476],\n",
       "       [ 0.2638771 ,  0.05450089],\n",
       "       [ 0.60807681,  0.05838896],\n",
       "       [ 0.18522673, -0.56923492],\n",
       "       [ 0.7905682 , -0.53415646],\n",
       "       [ 0.25579248, -0.55339018],\n",
       "       [ 0.80805051,  0.43118136],\n",
       "       [ 0.22515832, -0.15308765],\n",
       "       [ 0.85979448, -0.42995439],\n",
       "       [ 0.50899987, -0.4628191 ],\n",
       "       [ 0.28186601, -0.16782551],\n",
       "       [ 0.31832361, -0.0191617 ],\n",
       "       [ 0.55131928, -0.28466316],\n",
       "       [ 0.77449889,  0.11836861],\n",
       "       [ 0.57213737, -0.01643246],\n",
       "       [-0.0549439 , -0.46702367],\n",
       "       [ 0.26113613, -0.59774046],\n",
       "       [ 0.15215482, -0.67297346],\n",
       "       [ 0.20677791, -0.3015197 ],\n",
       "       [ 0.99937158, -0.2355497 ],\n",
       "       [ 0.64423119,  0.05885249],\n",
       "       [ 0.45016923,  0.45758461],\n",
       "       [ 0.47106412,  0.07110928],\n",
       "       [ 0.56726195, -0.64027217],\n",
       "       [ 0.2919085 , -0.03345242],\n",
       "       [ 0.44272941, -0.37338011],\n",
       "       [ 0.54289307, -0.52128029],\n",
       "       [ 0.50691527, -0.07662748],\n",
       "       [ 0.29225008, -0.40472636],\n",
       "       [ 0.08249867, -0.62845975],\n",
       "       [ 0.4501193 , -0.28444778],\n",
       "       [ 0.26305572, -0.16754179],\n",
       "       [ 0.35930348, -0.13689084],\n",
       "       [ 0.31802039, -0.16736198],\n",
       "       [-0.09574727, -0.28842059],\n",
       "       [ 0.34656994, -0.18147289],\n",
       "       [ 1.70775582,  0.8842181 ],\n",
       "       [ 1.2151613 ,  0.07854975],\n",
       "       [ 1.38362961,  0.271812  ],\n",
       "       [ 1.23767255, -0.02592721],\n",
       "       [ 1.50286834,  0.40706021],\n",
       "       [ 1.63696365,  0.06546703],\n",
       "       [ 1.03622061, -0.10036983],\n",
       "       [ 1.40062064, -0.23343102],\n",
       "       [ 1.40904676, -0.3810563 ],\n",
       "       [ 1.48505602,  1.07450296],\n",
       "       [ 0.96665283,  0.55094445],\n",
       "       [ 1.20490387,  0.01853454],\n",
       "       [ 1.24144976,  0.38975653],\n",
       "       [ 1.31675271,  0.06485042],\n",
       "       [ 1.47818421,  0.67517062],\n",
       "       [ 1.26257107,  0.80618752],\n",
       "       [ 1.11604599,  0.07681591],\n",
       "       [ 1.43691324,  0.73162308],\n",
       "       [ 2.03142918, -0.10918847],\n",
       "       [ 1.07223686, -0.68025446],\n",
       "       [ 1.36859654,  0.68777946],\n",
       "       [ 1.1766191 ,  0.31607755],\n",
       "       [ 1.6808495 , -0.21641106],\n",
       "       [ 0.96669119,  0.03147023],\n",
       "       [ 1.24862472,  0.55304674],\n",
       "       [ 1.16228131,  0.07642072],\n",
       "       [ 0.89929621,  0.13490865],\n",
       "       [ 0.89373762,  0.25361682],\n",
       "       [ 1.43560001,  0.21358258],\n",
       "       [ 1.01705734, -0.22183398],\n",
       "       [ 1.3805855 , -0.14438722],\n",
       "       [ 1.1336934 ,  0.61000586],\n",
       "       [ 1.49547846,  0.31812788],\n",
       "       [ 0.84889225, -0.26689595],\n",
       "       [ 1.14342109, -0.66532796],\n",
       "       [ 1.49312908,  0.4208874 ],\n",
       "       [ 1.41509664,  0.97081637],\n",
       "       [ 1.09775387,  0.15094203],\n",
       "       [ 0.86271196,  0.28316089],\n",
       "       [ 1.1379004 ,  0.49273142],\n",
       "       [ 1.45189583,  0.74820625],\n",
       "       [ 1.11034872,  0.78975895],\n",
       "       [ 1.2151613 ,  0.07854975],\n",
       "       [ 1.48487944,  0.62938661],\n",
       "       [ 1.4881385 ,  0.97122795],\n",
       "       [ 1.23197528,  0.68701582],\n",
       "       [ 1.14841112, -0.04108548],\n",
       "       [ 1.08849432,  0.37384344],\n",
       "       [ 1.27508967,  0.92512745],\n",
       "       [ 1.02809771,  0.19545574]])"
      ]
     },
     "execution_count": 54,
     "metadata": {},
     "output_type": "execute_result"
    }
   ],
   "source": [
    "lda.fit(X,y)\n",
    "X_lda = lda.transform(X)\n",
    "X_lda"
   ]
  },
  {
   "cell_type": "code",
   "execution_count": null,
   "id": "648937cb-2b25-4440-aacd-18e89a0971df",
   "metadata": {},
   "outputs": [],
   "source": []
  }
 ],
 "metadata": {
  "kernelspec": {
   "display_name": "Python 3 (ipykernel)",
   "language": "python",
   "name": "python3"
  },
  "language_info": {
   "codemirror_mode": {
    "name": "ipython",
    "version": 3
   },
   "file_extension": ".py",
   "mimetype": "text/x-python",
   "name": "python",
   "nbconvert_exporter": "python",
   "pygments_lexer": "ipython3",
   "version": "3.9.13"
  }
 },
 "nbformat": 4,
 "nbformat_minor": 5
}
