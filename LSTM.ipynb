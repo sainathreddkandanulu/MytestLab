{
 "cells": [
  {
   "cell_type": "code",
   "execution_count": 2,
   "id": "f61a02ee-d603-48e6-ac8b-9872feafbb00",
   "metadata": {},
   "outputs": [],
   "source": [
    "import pandas as pd\n",
    "import numpy as np\n",
    "import matplotlib.pyplot as plt\n",
    "import seaborn as sns"
   ]
  },
  {
   "cell_type": "code",
   "execution_count": 5,
   "id": "4a3e302d-36ed-4fee-82df-43ddbec31d9a",
   "metadata": {},
   "outputs": [],
   "source": [
    "import os\n"
   ]
  },
  {
   "cell_type": "code",
   "execution_count": 6,
   "id": "78468ae0-d561-4064-847d-5184469b0328",
   "metadata": {},
   "outputs": [
    {
     "data": {
      "text/plain": [
       "'C:\\\\Users\\\\kandanulus\\\\MyTestlab'"
      ]
     },
     "execution_count": 6,
     "metadata": {},
     "output_type": "execute_result"
    }
   ],
   "source": [
    "pwd()"
   ]
  },
  {
   "cell_type": "code",
   "execution_count": 7,
   "id": "9122e246-c9f3-46f9-ae0a-d54b4a1120b4",
   "metadata": {},
   "outputs": [],
   "source": [
    "os.chdir('C:\\\\Users\\\\kandanulus\\\\MyTestlab\\\\DPL\\\\Lesson7\\\\NSE-TATAGLOBAL')"
   ]
  },
  {
   "cell_type": "code",
   "execution_count": 8,
   "id": "25f1cee7-c9d3-4e16-9363-5e5d5375deb3",
   "metadata": {},
   "outputs": [],
   "source": [
    "data_train=pd.read_csv('NSE-TATAGLOBAL.csv')"
   ]
  },
  {
   "cell_type": "code",
   "execution_count": 9,
   "id": "fe8d6631-5b9f-4d03-b8dd-8b4c52503806",
   "metadata": {},
   "outputs": [
    {
     "data": {
      "text/plain": [
       "'C:\\\\Users\\\\kandanulus\\\\MyTestlab\\\\DPL\\\\Lesson7\\\\NSE-TATAGLOBAL'"
      ]
     },
     "execution_count": 9,
     "metadata": {},
     "output_type": "execute_result"
    }
   ],
   "source": [
    "pwd()"
   ]
  },
  {
   "cell_type": "code",
   "execution_count": 10,
   "id": "4d0e8952-4267-4e7c-922d-7990d164eae3",
   "metadata": {},
   "outputs": [
    {
     "data": {
      "text/html": [
       "<div>\n",
       "<style scoped>\n",
       "    .dataframe tbody tr th:only-of-type {\n",
       "        vertical-align: middle;\n",
       "    }\n",
       "\n",
       "    .dataframe tbody tr th {\n",
       "        vertical-align: top;\n",
       "    }\n",
       "\n",
       "    .dataframe thead th {\n",
       "        text-align: right;\n",
       "    }\n",
       "</style>\n",
       "<table border=\"1\" class=\"dataframe\">\n",
       "  <thead>\n",
       "    <tr style=\"text-align: right;\">\n",
       "      <th></th>\n",
       "      <th>Date</th>\n",
       "      <th>Open</th>\n",
       "      <th>High</th>\n",
       "      <th>Low</th>\n",
       "      <th>Last</th>\n",
       "      <th>Close</th>\n",
       "      <th>Total Trade Quantity</th>\n",
       "      <th>Turnover (Lacs)</th>\n",
       "    </tr>\n",
       "  </thead>\n",
       "  <tbody>\n",
       "    <tr>\n",
       "      <th>0</th>\n",
       "      <td>2018-09-28</td>\n",
       "      <td>234.05</td>\n",
       "      <td>235.95</td>\n",
       "      <td>230.20</td>\n",
       "      <td>233.50</td>\n",
       "      <td>233.75</td>\n",
       "      <td>3069914</td>\n",
       "      <td>7162.35</td>\n",
       "    </tr>\n",
       "    <tr>\n",
       "      <th>1</th>\n",
       "      <td>2018-09-27</td>\n",
       "      <td>234.55</td>\n",
       "      <td>236.80</td>\n",
       "      <td>231.10</td>\n",
       "      <td>233.80</td>\n",
       "      <td>233.25</td>\n",
       "      <td>5082859</td>\n",
       "      <td>11859.95</td>\n",
       "    </tr>\n",
       "    <tr>\n",
       "      <th>2</th>\n",
       "      <td>2018-09-26</td>\n",
       "      <td>240.00</td>\n",
       "      <td>240.00</td>\n",
       "      <td>232.50</td>\n",
       "      <td>235.00</td>\n",
       "      <td>234.25</td>\n",
       "      <td>2240909</td>\n",
       "      <td>5248.60</td>\n",
       "    </tr>\n",
       "    <tr>\n",
       "      <th>3</th>\n",
       "      <td>2018-09-25</td>\n",
       "      <td>233.30</td>\n",
       "      <td>236.75</td>\n",
       "      <td>232.00</td>\n",
       "      <td>236.25</td>\n",
       "      <td>236.10</td>\n",
       "      <td>2349368</td>\n",
       "      <td>5503.90</td>\n",
       "    </tr>\n",
       "    <tr>\n",
       "      <th>4</th>\n",
       "      <td>2018-09-24</td>\n",
       "      <td>233.55</td>\n",
       "      <td>239.20</td>\n",
       "      <td>230.75</td>\n",
       "      <td>234.00</td>\n",
       "      <td>233.30</td>\n",
       "      <td>3423509</td>\n",
       "      <td>7999.55</td>\n",
       "    </tr>\n",
       "    <tr>\n",
       "      <th>...</th>\n",
       "      <td>...</td>\n",
       "      <td>...</td>\n",
       "      <td>...</td>\n",
       "      <td>...</td>\n",
       "      <td>...</td>\n",
       "      <td>...</td>\n",
       "      <td>...</td>\n",
       "      <td>...</td>\n",
       "    </tr>\n",
       "    <tr>\n",
       "      <th>2030</th>\n",
       "      <td>2010-07-27</td>\n",
       "      <td>117.60</td>\n",
       "      <td>119.50</td>\n",
       "      <td>112.00</td>\n",
       "      <td>118.80</td>\n",
       "      <td>118.65</td>\n",
       "      <td>586100</td>\n",
       "      <td>694.98</td>\n",
       "    </tr>\n",
       "    <tr>\n",
       "      <th>2031</th>\n",
       "      <td>2010-07-26</td>\n",
       "      <td>120.10</td>\n",
       "      <td>121.00</td>\n",
       "      <td>117.10</td>\n",
       "      <td>117.10</td>\n",
       "      <td>117.60</td>\n",
       "      <td>658440</td>\n",
       "      <td>780.01</td>\n",
       "    </tr>\n",
       "    <tr>\n",
       "      <th>2032</th>\n",
       "      <td>2010-07-23</td>\n",
       "      <td>121.80</td>\n",
       "      <td>121.95</td>\n",
       "      <td>120.25</td>\n",
       "      <td>120.35</td>\n",
       "      <td>120.65</td>\n",
       "      <td>281312</td>\n",
       "      <td>340.31</td>\n",
       "    </tr>\n",
       "    <tr>\n",
       "      <th>2033</th>\n",
       "      <td>2010-07-22</td>\n",
       "      <td>120.30</td>\n",
       "      <td>122.00</td>\n",
       "      <td>120.25</td>\n",
       "      <td>120.75</td>\n",
       "      <td>120.90</td>\n",
       "      <td>293312</td>\n",
       "      <td>355.17</td>\n",
       "    </tr>\n",
       "    <tr>\n",
       "      <th>2034</th>\n",
       "      <td>2010-07-21</td>\n",
       "      <td>122.10</td>\n",
       "      <td>123.00</td>\n",
       "      <td>121.05</td>\n",
       "      <td>121.10</td>\n",
       "      <td>121.55</td>\n",
       "      <td>658666</td>\n",
       "      <td>803.56</td>\n",
       "    </tr>\n",
       "  </tbody>\n",
       "</table>\n",
       "<p>2035 rows × 8 columns</p>\n",
       "</div>"
      ],
      "text/plain": [
       "            Date    Open    High     Low    Last   Close  \\\n",
       "0     2018-09-28  234.05  235.95  230.20  233.50  233.75   \n",
       "1     2018-09-27  234.55  236.80  231.10  233.80  233.25   \n",
       "2     2018-09-26  240.00  240.00  232.50  235.00  234.25   \n",
       "3     2018-09-25  233.30  236.75  232.00  236.25  236.10   \n",
       "4     2018-09-24  233.55  239.20  230.75  234.00  233.30   \n",
       "...          ...     ...     ...     ...     ...     ...   \n",
       "2030  2010-07-27  117.60  119.50  112.00  118.80  118.65   \n",
       "2031  2010-07-26  120.10  121.00  117.10  117.10  117.60   \n",
       "2032  2010-07-23  121.80  121.95  120.25  120.35  120.65   \n",
       "2033  2010-07-22  120.30  122.00  120.25  120.75  120.90   \n",
       "2034  2010-07-21  122.10  123.00  121.05  121.10  121.55   \n",
       "\n",
       "      Total Trade Quantity  Turnover (Lacs)  \n",
       "0                  3069914          7162.35  \n",
       "1                  5082859         11859.95  \n",
       "2                  2240909          5248.60  \n",
       "3                  2349368          5503.90  \n",
       "4                  3423509          7999.55  \n",
       "...                    ...              ...  \n",
       "2030                586100           694.98  \n",
       "2031                658440           780.01  \n",
       "2032                281312           340.31  \n",
       "2033                293312           355.17  \n",
       "2034                658666           803.56  \n",
       "\n",
       "[2035 rows x 8 columns]"
      ]
     },
     "execution_count": 10,
     "metadata": {},
     "output_type": "execute_result"
    }
   ],
   "source": [
    "data_train"
   ]
  },
  {
   "cell_type": "code",
   "execution_count": 14,
   "id": "dbf1fc72-a627-4a00-a68e-31e5b89edddc",
   "metadata": {},
   "outputs": [
    {
     "data": {
      "text/html": [
       "<div>\n",
       "<style scoped>\n",
       "    .dataframe tbody tr th:only-of-type {\n",
       "        vertical-align: middle;\n",
       "    }\n",
       "\n",
       "    .dataframe tbody tr th {\n",
       "        vertical-align: top;\n",
       "    }\n",
       "\n",
       "    .dataframe thead th {\n",
       "        text-align: right;\n",
       "    }\n",
       "</style>\n",
       "<table border=\"1\" class=\"dataframe\">\n",
       "  <thead>\n",
       "    <tr style=\"text-align: right;\">\n",
       "      <th></th>\n",
       "      <th>Open</th>\n",
       "      <th>High</th>\n",
       "      <th>Low</th>\n",
       "      <th>Last</th>\n",
       "      <th>Close</th>\n",
       "      <th>Total Trade Quantity</th>\n",
       "      <th>Turnover (Lacs)</th>\n",
       "    </tr>\n",
       "  </thead>\n",
       "  <tbody>\n",
       "    <tr>\n",
       "      <th>count</th>\n",
       "      <td>2035.000000</td>\n",
       "      <td>2035.000000</td>\n",
       "      <td>2035.000000</td>\n",
       "      <td>2035.000000</td>\n",
       "      <td>2035.00000</td>\n",
       "      <td>2.035000e+03</td>\n",
       "      <td>2035.000000</td>\n",
       "    </tr>\n",
       "    <tr>\n",
       "      <th>mean</th>\n",
       "      <td>149.713735</td>\n",
       "      <td>151.992826</td>\n",
       "      <td>147.293931</td>\n",
       "      <td>149.474251</td>\n",
       "      <td>149.45027</td>\n",
       "      <td>2.335681e+06</td>\n",
       "      <td>3899.980565</td>\n",
       "    </tr>\n",
       "    <tr>\n",
       "      <th>std</th>\n",
       "      <td>48.664509</td>\n",
       "      <td>49.413109</td>\n",
       "      <td>47.931958</td>\n",
       "      <td>48.732570</td>\n",
       "      <td>48.71204</td>\n",
       "      <td>2.091778e+06</td>\n",
       "      <td>4570.767877</td>\n",
       "    </tr>\n",
       "    <tr>\n",
       "      <th>min</th>\n",
       "      <td>81.100000</td>\n",
       "      <td>82.800000</td>\n",
       "      <td>80.000000</td>\n",
       "      <td>81.000000</td>\n",
       "      <td>80.95000</td>\n",
       "      <td>3.961000e+04</td>\n",
       "      <td>37.040000</td>\n",
       "    </tr>\n",
       "    <tr>\n",
       "      <th>25%</th>\n",
       "      <td>120.025000</td>\n",
       "      <td>122.100000</td>\n",
       "      <td>118.300000</td>\n",
       "      <td>120.075000</td>\n",
       "      <td>120.05000</td>\n",
       "      <td>1.146444e+06</td>\n",
       "      <td>1427.460000</td>\n",
       "    </tr>\n",
       "    <tr>\n",
       "      <th>50%</th>\n",
       "      <td>141.500000</td>\n",
       "      <td>143.400000</td>\n",
       "      <td>139.600000</td>\n",
       "      <td>141.100000</td>\n",
       "      <td>141.25000</td>\n",
       "      <td>1.783456e+06</td>\n",
       "      <td>2512.030000</td>\n",
       "    </tr>\n",
       "    <tr>\n",
       "      <th>75%</th>\n",
       "      <td>157.175000</td>\n",
       "      <td>159.400000</td>\n",
       "      <td>155.150000</td>\n",
       "      <td>156.925000</td>\n",
       "      <td>156.90000</td>\n",
       "      <td>2.813594e+06</td>\n",
       "      <td>4539.015000</td>\n",
       "    </tr>\n",
       "    <tr>\n",
       "      <th>max</th>\n",
       "      <td>327.700000</td>\n",
       "      <td>328.750000</td>\n",
       "      <td>321.650000</td>\n",
       "      <td>325.950000</td>\n",
       "      <td>325.75000</td>\n",
       "      <td>2.919102e+07</td>\n",
       "      <td>55755.080000</td>\n",
       "    </tr>\n",
       "  </tbody>\n",
       "</table>\n",
       "</div>"
      ],
      "text/plain": [
       "              Open         High          Low         Last       Close  \\\n",
       "count  2035.000000  2035.000000  2035.000000  2035.000000  2035.00000   \n",
       "mean    149.713735   151.992826   147.293931   149.474251   149.45027   \n",
       "std      48.664509    49.413109    47.931958    48.732570    48.71204   \n",
       "min      81.100000    82.800000    80.000000    81.000000    80.95000   \n",
       "25%     120.025000   122.100000   118.300000   120.075000   120.05000   \n",
       "50%     141.500000   143.400000   139.600000   141.100000   141.25000   \n",
       "75%     157.175000   159.400000   155.150000   156.925000   156.90000   \n",
       "max     327.700000   328.750000   321.650000   325.950000   325.75000   \n",
       "\n",
       "       Total Trade Quantity  Turnover (Lacs)  \n",
       "count          2.035000e+03      2035.000000  \n",
       "mean           2.335681e+06      3899.980565  \n",
       "std            2.091778e+06      4570.767877  \n",
       "min            3.961000e+04        37.040000  \n",
       "25%            1.146444e+06      1427.460000  \n",
       "50%            1.783456e+06      2512.030000  \n",
       "75%            2.813594e+06      4539.015000  \n",
       "max            2.919102e+07     55755.080000  "
      ]
     },
     "execution_count": 14,
     "metadata": {},
     "output_type": "execute_result"
    }
   ],
   "source": [
    "data_train.describe()"
   ]
  },
  {
   "cell_type": "code",
   "execution_count": 15,
   "id": "1d1b85fb-9e5f-4535-a1ea-b7ddef383b43",
   "metadata": {},
   "outputs": [],
   "source": [
    "training_set=data_train.iloc[:,1:2].values"
   ]
  },
  {
   "cell_type": "code",
   "execution_count": 13,
   "id": "d13cdbd1-5955-43ba-bfc4-33d8b6ce6135",
   "metadata": {},
   "outputs": [],
   "source": [
    "# Data processing\n",
    "# scale data in 0-1\n",
    "from sklearn.preprocessing import MinMaxScaler\n",
    "sc=MinMaxScaler(feature_range=(0,1))\n",
    "training_set_scaled=sc.fit_transform(training_set)"
   ]
  },
  {
   "cell_type": "code",
   "execution_count": 46,
   "id": "89e32e06-acd3-452b-ba2f-f8f36a142390",
   "metadata": {},
   "outputs": [
    {
     "data": {
      "text/plain": [
       "array([[0.6202352 ],\n",
       "       [0.62226277],\n",
       "       [0.64436334],\n",
       "       ...,\n",
       "       [0.16504461],\n",
       "       [0.15896188],\n",
       "       [0.16626115]])"
      ]
     },
     "execution_count": 46,
     "metadata": {},
     "output_type": "execute_result"
    }
   ],
   "source": [
    "training_set_scaled"
   ]
  },
  {
   "cell_type": "code",
   "execution_count": 51,
   "id": "a2a6ebe2-c45e-4200-94d0-d0276e628997",
   "metadata": {},
   "outputs": [],
   "source": [
    "# Data prepare\n",
    "X_train=[]\n",
    "y_train=[]\n",
    "for i in range(60,2035):\n",
    "    X_train.append(training_set_scaled[i-60:i,0]) # 0 to 60 ---0-59,1-61\n",
    "    y_train.append(training_set_scaled[i,0]) # 60,61\n",
    "X_train,y_train=np.array(X_train),np.array(y_train)    "
   ]
  },
  {
   "cell_type": "code",
   "execution_count": 43,
   "id": "cb1139a6-4a4c-4107-9a19-205b37dc99aa",
   "metadata": {},
   "outputs": [
    {
     "data": {
      "text/plain": [
       "(1975, 60)"
      ]
     },
     "execution_count": 43,
     "metadata": {},
     "output_type": "execute_result"
    }
   ],
   "source": [
    "X_train.shape"
   ]
  },
  {
   "cell_type": "code",
   "execution_count": 53,
   "id": "c020187e-0324-4e34-8f06-b10484c657b9",
   "metadata": {},
   "outputs": [
    {
     "data": {
      "text/plain": [
       "(1975,)"
      ]
     },
     "execution_count": 53,
     "metadata": {},
     "output_type": "execute_result"
    }
   ],
   "source": [
    "y_train.shape"
   ]
  },
  {
   "cell_type": "code",
   "execution_count": 49,
   "id": "c0cfed4c-f9d8-41e0-8ab7-2eb8cd1fb3a4",
   "metadata": {},
   "outputs": [],
   "source": [
    "# LSTM require always 3-D data\n",
    "#Reshape\n",
    "X_train=np.reshape(X_train,(X_train.shape[0],X_train.shape[1],1))"
   ]
  },
  {
   "cell_type": "code",
   "execution_count": 50,
   "id": "8a1bba42-894e-474c-af6f-f77c12b05344",
   "metadata": {},
   "outputs": [
    {
     "data": {
      "text/plain": [
       "(1975, 60, 1)"
      ]
     },
     "execution_count": 50,
     "metadata": {},
     "output_type": "execute_result"
    }
   ],
   "source": [
    "X_train.shape"
   ]
  },
  {
   "cell_type": "code",
   "execution_count": 55,
   "id": "3b27a78d-ffac-4d18-926f-ca356b24f153",
   "metadata": {},
   "outputs": [],
   "source": [
    "#Build the LSTM\n",
    "from keras.models import Sequential\n",
    "from keras.layers import Dense,LSTM,Dropout"
   ]
  },
  {
   "cell_type": "code",
   "execution_count": 57,
   "id": "642a2b71-7d0a-44d9-bf94-97e90aa9f3ba",
   "metadata": {},
   "outputs": [],
   "source": [
    "model=Sequential()\n",
    "#Add first LSTM Layer\n",
    "model=Sequential()\n",
    "# Add first LSTM Layer\n",
    "model.add(LSTM(units=50,return_sequences=True,input_shape=(X_train.shape[1],1)))\n",
    "model.add(Dropout(0.2))\n",
    "# Add second LSTM Layer\n",
    "model.add(LSTM(units=50,return_sequences=True))\n",
    "model.add(Dropout(0.2))\n",
    "# Add third LSTM Layer\n",
    "model.add(LSTM(units=50,return_sequences=True))\n",
    "model.add(Dropout(0.2))\n",
    "# Add fourth LSTM Layer\n",
    "model.add(LSTM(units=50))\n",
    "model.add(Dropout(0.2))\n",
    "# Adding the output layer\n",
    "model.add(Dense(units=1))"
   ]
  },
  {
   "cell_type": "code",
   "execution_count": 58,
   "id": "e10d01b8-0787-4f3a-9a1c-3f792ac40e69",
   "metadata": {},
   "outputs": [
    {
     "name": "stdout",
     "output_type": "stream",
     "text": [
      "Model: \"sequential_2\"\n",
      "_________________________________________________________________\n",
      " Layer (type)                Output Shape              Param #   \n",
      "=================================================================\n",
      " lstm_1 (LSTM)               (None, 60, 50)            10400     \n",
      "                                                                 \n",
      " dropout (Dropout)           (None, 60, 50)            0         \n",
      "                                                                 \n",
      " lstm_2 (LSTM)               (None, 60, 50)            20200     \n",
      "                                                                 \n",
      " dropout_1 (Dropout)         (None, 60, 50)            0         \n",
      "                                                                 \n",
      " lstm_3 (LSTM)               (None, 60, 50)            20200     \n",
      "                                                                 \n",
      " dropout_2 (Dropout)         (None, 60, 50)            0         \n",
      "                                                                 \n",
      " lstm_4 (LSTM)               (None, 50)                20200     \n",
      "                                                                 \n",
      " dropout_3 (Dropout)         (None, 50)                0         \n",
      "                                                                 \n",
      " dense (Dense)               (None, 1)                 51        \n",
      "                                                                 \n",
      "=================================================================\n",
      "Total params: 71,051\n",
      "Trainable params: 71,051\n",
      "Non-trainable params: 0\n",
      "_________________________________________________________________\n"
     ]
    }
   ],
   "source": [
    "model.summary()"
   ]
  },
  {
   "cell_type": "code",
   "execution_count": 63,
   "id": "39972f14-0573-4d22-8596-8fac544aac9b",
   "metadata": {},
   "outputs": [],
   "source": [
    "# Compile the model\n",
    "model.compile(optimizer='adam',loss='mean_squared_error')"
   ]
  },
  {
   "cell_type": "code",
   "execution_count": 64,
   "id": "2cd0b5c7-9f1b-465a-985d-365825a2f55a",
   "metadata": {},
   "outputs": [
    {
     "name": "stdout",
     "output_type": "stream",
     "text": [
      "Epoch 1/10\n",
      "62/62 [==============================] - 20s 124ms/step - loss: 0.0105\n",
      "Epoch 2/10\n",
      "62/62 [==============================] - 7s 117ms/step - loss: 0.0030\n",
      "Epoch 3/10\n",
      "62/62 [==============================] - 8s 134ms/step - loss: 0.0027\n",
      "Epoch 4/10\n",
      "62/62 [==============================] - 8s 128ms/step - loss: 0.0025\n",
      "Epoch 5/10\n",
      "62/62 [==============================] - 9s 138ms/step - loss: 0.0025\n",
      "Epoch 6/10\n",
      "62/62 [==============================] - 9s 145ms/step - loss: 0.0025\n",
      "Epoch 7/10\n",
      "62/62 [==============================] - 8s 136ms/step - loss: 0.0022\n",
      "Epoch 8/10\n",
      "62/62 [==============================] - 9s 143ms/step - loss: 0.0024\n",
      "Epoch 9/10\n",
      "62/62 [==============================] - 9s 146ms/step - loss: 0.0020\n",
      "Epoch 10/10\n",
      "62/62 [==============================] - 9s 146ms/step - loss: 0.0019\n"
     ]
    },
    {
     "data": {
      "text/plain": [
       "<keras.callbacks.History at 0x1680e0c98e0>"
      ]
     },
     "execution_count": 64,
     "metadata": {},
     "output_type": "execute_result"
    }
   ],
   "source": [
    "#Run the model\n",
    "model.fit(X_train,y_train, epochs=10)"
   ]
  },
  {
   "cell_type": "code",
   "execution_count": 3,
   "id": "12be04a8-57d2-4197-8085-ff528246eecf",
   "metadata": {},
   "outputs": [
    {
     "ename": "FileNotFoundError",
     "evalue": "[Errno 2] No such file or directory: 'tatatest.csv'",
     "output_type": "error",
     "traceback": [
      "\u001b[1;31m---------------------------------------------------------------------------\u001b[0m",
      "\u001b[1;31mFileNotFoundError\u001b[0m                         Traceback (most recent call last)",
      "Input \u001b[1;32mIn [3]\u001b[0m, in \u001b[0;36m<cell line: 2>\u001b[1;34m()\u001b[0m\n\u001b[0;32m      1\u001b[0m \u001b[38;5;66;03m# Make the Prediction and will visualize the result\u001b[39;00m\n\u001b[1;32m----> 2\u001b[0m data_test\u001b[38;5;241m=\u001b[39m\u001b[43mpd\u001b[49m\u001b[38;5;241;43m.\u001b[39;49m\u001b[43mread_csv\u001b[49m\u001b[43m(\u001b[49m\u001b[38;5;124;43m'\u001b[39;49m\u001b[38;5;124;43mtatatest.csv\u001b[39;49m\u001b[38;5;124;43m'\u001b[39;49m\u001b[43m)\u001b[49m\n",
      "File \u001b[1;32m~\\Anaconda3\\lib\\site-packages\\pandas\\util\\_decorators.py:311\u001b[0m, in \u001b[0;36mdeprecate_nonkeyword_arguments.<locals>.decorate.<locals>.wrapper\u001b[1;34m(*args, **kwargs)\u001b[0m\n\u001b[0;32m    305\u001b[0m \u001b[38;5;28;01mif\u001b[39;00m \u001b[38;5;28mlen\u001b[39m(args) \u001b[38;5;241m>\u001b[39m num_allow_args:\n\u001b[0;32m    306\u001b[0m     warnings\u001b[38;5;241m.\u001b[39mwarn(\n\u001b[0;32m    307\u001b[0m         msg\u001b[38;5;241m.\u001b[39mformat(arguments\u001b[38;5;241m=\u001b[39marguments),\n\u001b[0;32m    308\u001b[0m         \u001b[38;5;167;01mFutureWarning\u001b[39;00m,\n\u001b[0;32m    309\u001b[0m         stacklevel\u001b[38;5;241m=\u001b[39mstacklevel,\n\u001b[0;32m    310\u001b[0m     )\n\u001b[1;32m--> 311\u001b[0m \u001b[38;5;28;01mreturn\u001b[39;00m func(\u001b[38;5;241m*\u001b[39margs, \u001b[38;5;241m*\u001b[39m\u001b[38;5;241m*\u001b[39mkwargs)\n",
      "File \u001b[1;32m~\\Anaconda3\\lib\\site-packages\\pandas\\io\\parsers\\readers.py:680\u001b[0m, in \u001b[0;36mread_csv\u001b[1;34m(filepath_or_buffer, sep, delimiter, header, names, index_col, usecols, squeeze, prefix, mangle_dupe_cols, dtype, engine, converters, true_values, false_values, skipinitialspace, skiprows, skipfooter, nrows, na_values, keep_default_na, na_filter, verbose, skip_blank_lines, parse_dates, infer_datetime_format, keep_date_col, date_parser, dayfirst, cache_dates, iterator, chunksize, compression, thousands, decimal, lineterminator, quotechar, quoting, doublequote, escapechar, comment, encoding, encoding_errors, dialect, error_bad_lines, warn_bad_lines, on_bad_lines, delim_whitespace, low_memory, memory_map, float_precision, storage_options)\u001b[0m\n\u001b[0;32m    665\u001b[0m kwds_defaults \u001b[38;5;241m=\u001b[39m _refine_defaults_read(\n\u001b[0;32m    666\u001b[0m     dialect,\n\u001b[0;32m    667\u001b[0m     delimiter,\n\u001b[1;32m   (...)\u001b[0m\n\u001b[0;32m    676\u001b[0m     defaults\u001b[38;5;241m=\u001b[39m{\u001b[38;5;124m\"\u001b[39m\u001b[38;5;124mdelimiter\u001b[39m\u001b[38;5;124m\"\u001b[39m: \u001b[38;5;124m\"\u001b[39m\u001b[38;5;124m,\u001b[39m\u001b[38;5;124m\"\u001b[39m},\n\u001b[0;32m    677\u001b[0m )\n\u001b[0;32m    678\u001b[0m kwds\u001b[38;5;241m.\u001b[39mupdate(kwds_defaults)\n\u001b[1;32m--> 680\u001b[0m \u001b[38;5;28;01mreturn\u001b[39;00m \u001b[43m_read\u001b[49m\u001b[43m(\u001b[49m\u001b[43mfilepath_or_buffer\u001b[49m\u001b[43m,\u001b[49m\u001b[43m \u001b[49m\u001b[43mkwds\u001b[49m\u001b[43m)\u001b[49m\n",
      "File \u001b[1;32m~\\Anaconda3\\lib\\site-packages\\pandas\\io\\parsers\\readers.py:575\u001b[0m, in \u001b[0;36m_read\u001b[1;34m(filepath_or_buffer, kwds)\u001b[0m\n\u001b[0;32m    572\u001b[0m _validate_names(kwds\u001b[38;5;241m.\u001b[39mget(\u001b[38;5;124m\"\u001b[39m\u001b[38;5;124mnames\u001b[39m\u001b[38;5;124m\"\u001b[39m, \u001b[38;5;28;01mNone\u001b[39;00m))\n\u001b[0;32m    574\u001b[0m \u001b[38;5;66;03m# Create the parser.\u001b[39;00m\n\u001b[1;32m--> 575\u001b[0m parser \u001b[38;5;241m=\u001b[39m TextFileReader(filepath_or_buffer, \u001b[38;5;241m*\u001b[39m\u001b[38;5;241m*\u001b[39mkwds)\n\u001b[0;32m    577\u001b[0m \u001b[38;5;28;01mif\u001b[39;00m chunksize \u001b[38;5;129;01mor\u001b[39;00m iterator:\n\u001b[0;32m    578\u001b[0m     \u001b[38;5;28;01mreturn\u001b[39;00m parser\n",
      "File \u001b[1;32m~\\Anaconda3\\lib\\site-packages\\pandas\\io\\parsers\\readers.py:933\u001b[0m, in \u001b[0;36mTextFileReader.__init__\u001b[1;34m(self, f, engine, **kwds)\u001b[0m\n\u001b[0;32m    930\u001b[0m     \u001b[38;5;28mself\u001b[39m\u001b[38;5;241m.\u001b[39moptions[\u001b[38;5;124m\"\u001b[39m\u001b[38;5;124mhas_index_names\u001b[39m\u001b[38;5;124m\"\u001b[39m] \u001b[38;5;241m=\u001b[39m kwds[\u001b[38;5;124m\"\u001b[39m\u001b[38;5;124mhas_index_names\u001b[39m\u001b[38;5;124m\"\u001b[39m]\n\u001b[0;32m    932\u001b[0m \u001b[38;5;28mself\u001b[39m\u001b[38;5;241m.\u001b[39mhandles: IOHandles \u001b[38;5;241m|\u001b[39m \u001b[38;5;28;01mNone\u001b[39;00m \u001b[38;5;241m=\u001b[39m \u001b[38;5;28;01mNone\u001b[39;00m\n\u001b[1;32m--> 933\u001b[0m \u001b[38;5;28mself\u001b[39m\u001b[38;5;241m.\u001b[39m_engine \u001b[38;5;241m=\u001b[39m \u001b[38;5;28;43mself\u001b[39;49m\u001b[38;5;241;43m.\u001b[39;49m\u001b[43m_make_engine\u001b[49m\u001b[43m(\u001b[49m\u001b[43mf\u001b[49m\u001b[43m,\u001b[49m\u001b[43m \u001b[49m\u001b[38;5;28;43mself\u001b[39;49m\u001b[38;5;241;43m.\u001b[39;49m\u001b[43mengine\u001b[49m\u001b[43m)\u001b[49m\n",
      "File \u001b[1;32m~\\Anaconda3\\lib\\site-packages\\pandas\\io\\parsers\\readers.py:1217\u001b[0m, in \u001b[0;36mTextFileReader._make_engine\u001b[1;34m(self, f, engine)\u001b[0m\n\u001b[0;32m   1213\u001b[0m     mode \u001b[38;5;241m=\u001b[39m \u001b[38;5;124m\"\u001b[39m\u001b[38;5;124mrb\u001b[39m\u001b[38;5;124m\"\u001b[39m\n\u001b[0;32m   1214\u001b[0m \u001b[38;5;66;03m# error: No overload variant of \"get_handle\" matches argument types\u001b[39;00m\n\u001b[0;32m   1215\u001b[0m \u001b[38;5;66;03m# \"Union[str, PathLike[str], ReadCsvBuffer[bytes], ReadCsvBuffer[str]]\"\u001b[39;00m\n\u001b[0;32m   1216\u001b[0m \u001b[38;5;66;03m# , \"str\", \"bool\", \"Any\", \"Any\", \"Any\", \"Any\", \"Any\"\u001b[39;00m\n\u001b[1;32m-> 1217\u001b[0m \u001b[38;5;28mself\u001b[39m\u001b[38;5;241m.\u001b[39mhandles \u001b[38;5;241m=\u001b[39m \u001b[43mget_handle\u001b[49m\u001b[43m(\u001b[49m\u001b[43m  \u001b[49m\u001b[38;5;66;43;03m# type: ignore[call-overload]\u001b[39;49;00m\n\u001b[0;32m   1218\u001b[0m \u001b[43m    \u001b[49m\u001b[43mf\u001b[49m\u001b[43m,\u001b[49m\n\u001b[0;32m   1219\u001b[0m \u001b[43m    \u001b[49m\u001b[43mmode\u001b[49m\u001b[43m,\u001b[49m\n\u001b[0;32m   1220\u001b[0m \u001b[43m    \u001b[49m\u001b[43mencoding\u001b[49m\u001b[38;5;241;43m=\u001b[39;49m\u001b[38;5;28;43mself\u001b[39;49m\u001b[38;5;241;43m.\u001b[39;49m\u001b[43moptions\u001b[49m\u001b[38;5;241;43m.\u001b[39;49m\u001b[43mget\u001b[49m\u001b[43m(\u001b[49m\u001b[38;5;124;43m\"\u001b[39;49m\u001b[38;5;124;43mencoding\u001b[39;49m\u001b[38;5;124;43m\"\u001b[39;49m\u001b[43m,\u001b[49m\u001b[43m \u001b[49m\u001b[38;5;28;43;01mNone\u001b[39;49;00m\u001b[43m)\u001b[49m\u001b[43m,\u001b[49m\n\u001b[0;32m   1221\u001b[0m \u001b[43m    \u001b[49m\u001b[43mcompression\u001b[49m\u001b[38;5;241;43m=\u001b[39;49m\u001b[38;5;28;43mself\u001b[39;49m\u001b[38;5;241;43m.\u001b[39;49m\u001b[43moptions\u001b[49m\u001b[38;5;241;43m.\u001b[39;49m\u001b[43mget\u001b[49m\u001b[43m(\u001b[49m\u001b[38;5;124;43m\"\u001b[39;49m\u001b[38;5;124;43mcompression\u001b[39;49m\u001b[38;5;124;43m\"\u001b[39;49m\u001b[43m,\u001b[49m\u001b[43m \u001b[49m\u001b[38;5;28;43;01mNone\u001b[39;49;00m\u001b[43m)\u001b[49m\u001b[43m,\u001b[49m\n\u001b[0;32m   1222\u001b[0m \u001b[43m    \u001b[49m\u001b[43mmemory_map\u001b[49m\u001b[38;5;241;43m=\u001b[39;49m\u001b[38;5;28;43mself\u001b[39;49m\u001b[38;5;241;43m.\u001b[39;49m\u001b[43moptions\u001b[49m\u001b[38;5;241;43m.\u001b[39;49m\u001b[43mget\u001b[49m\u001b[43m(\u001b[49m\u001b[38;5;124;43m\"\u001b[39;49m\u001b[38;5;124;43mmemory_map\u001b[39;49m\u001b[38;5;124;43m\"\u001b[39;49m\u001b[43m,\u001b[49m\u001b[43m \u001b[49m\u001b[38;5;28;43;01mFalse\u001b[39;49;00m\u001b[43m)\u001b[49m\u001b[43m,\u001b[49m\n\u001b[0;32m   1223\u001b[0m \u001b[43m    \u001b[49m\u001b[43mis_text\u001b[49m\u001b[38;5;241;43m=\u001b[39;49m\u001b[43mis_text\u001b[49m\u001b[43m,\u001b[49m\n\u001b[0;32m   1224\u001b[0m \u001b[43m    \u001b[49m\u001b[43merrors\u001b[49m\u001b[38;5;241;43m=\u001b[39;49m\u001b[38;5;28;43mself\u001b[39;49m\u001b[38;5;241;43m.\u001b[39;49m\u001b[43moptions\u001b[49m\u001b[38;5;241;43m.\u001b[39;49m\u001b[43mget\u001b[49m\u001b[43m(\u001b[49m\u001b[38;5;124;43m\"\u001b[39;49m\u001b[38;5;124;43mencoding_errors\u001b[39;49m\u001b[38;5;124;43m\"\u001b[39;49m\u001b[43m,\u001b[49m\u001b[43m \u001b[49m\u001b[38;5;124;43m\"\u001b[39;49m\u001b[38;5;124;43mstrict\u001b[39;49m\u001b[38;5;124;43m\"\u001b[39;49m\u001b[43m)\u001b[49m\u001b[43m,\u001b[49m\n\u001b[0;32m   1225\u001b[0m \u001b[43m    \u001b[49m\u001b[43mstorage_options\u001b[49m\u001b[38;5;241;43m=\u001b[39;49m\u001b[38;5;28;43mself\u001b[39;49m\u001b[38;5;241;43m.\u001b[39;49m\u001b[43moptions\u001b[49m\u001b[38;5;241;43m.\u001b[39;49m\u001b[43mget\u001b[49m\u001b[43m(\u001b[49m\u001b[38;5;124;43m\"\u001b[39;49m\u001b[38;5;124;43mstorage_options\u001b[39;49m\u001b[38;5;124;43m\"\u001b[39;49m\u001b[43m,\u001b[49m\u001b[43m \u001b[49m\u001b[38;5;28;43;01mNone\u001b[39;49;00m\u001b[43m)\u001b[49m\u001b[43m,\u001b[49m\n\u001b[0;32m   1226\u001b[0m \u001b[43m\u001b[49m\u001b[43m)\u001b[49m\n\u001b[0;32m   1227\u001b[0m \u001b[38;5;28;01massert\u001b[39;00m \u001b[38;5;28mself\u001b[39m\u001b[38;5;241m.\u001b[39mhandles \u001b[38;5;129;01mis\u001b[39;00m \u001b[38;5;129;01mnot\u001b[39;00m \u001b[38;5;28;01mNone\u001b[39;00m\n\u001b[0;32m   1228\u001b[0m f \u001b[38;5;241m=\u001b[39m \u001b[38;5;28mself\u001b[39m\u001b[38;5;241m.\u001b[39mhandles\u001b[38;5;241m.\u001b[39mhandle\n",
      "File \u001b[1;32m~\\Anaconda3\\lib\\site-packages\\pandas\\io\\common.py:789\u001b[0m, in \u001b[0;36mget_handle\u001b[1;34m(path_or_buf, mode, encoding, compression, memory_map, is_text, errors, storage_options)\u001b[0m\n\u001b[0;32m    784\u001b[0m \u001b[38;5;28;01melif\u001b[39;00m \u001b[38;5;28misinstance\u001b[39m(handle, \u001b[38;5;28mstr\u001b[39m):\n\u001b[0;32m    785\u001b[0m     \u001b[38;5;66;03m# Check whether the filename is to be opened in binary mode.\u001b[39;00m\n\u001b[0;32m    786\u001b[0m     \u001b[38;5;66;03m# Binary mode does not support 'encoding' and 'newline'.\u001b[39;00m\n\u001b[0;32m    787\u001b[0m     \u001b[38;5;28;01mif\u001b[39;00m ioargs\u001b[38;5;241m.\u001b[39mencoding \u001b[38;5;129;01mand\u001b[39;00m \u001b[38;5;124m\"\u001b[39m\u001b[38;5;124mb\u001b[39m\u001b[38;5;124m\"\u001b[39m \u001b[38;5;129;01mnot\u001b[39;00m \u001b[38;5;129;01min\u001b[39;00m ioargs\u001b[38;5;241m.\u001b[39mmode:\n\u001b[0;32m    788\u001b[0m         \u001b[38;5;66;03m# Encoding\u001b[39;00m\n\u001b[1;32m--> 789\u001b[0m         handle \u001b[38;5;241m=\u001b[39m \u001b[38;5;28;43mopen\u001b[39;49m\u001b[43m(\u001b[49m\n\u001b[0;32m    790\u001b[0m \u001b[43m            \u001b[49m\u001b[43mhandle\u001b[49m\u001b[43m,\u001b[49m\n\u001b[0;32m    791\u001b[0m \u001b[43m            \u001b[49m\u001b[43mioargs\u001b[49m\u001b[38;5;241;43m.\u001b[39;49m\u001b[43mmode\u001b[49m\u001b[43m,\u001b[49m\n\u001b[0;32m    792\u001b[0m \u001b[43m            \u001b[49m\u001b[43mencoding\u001b[49m\u001b[38;5;241;43m=\u001b[39;49m\u001b[43mioargs\u001b[49m\u001b[38;5;241;43m.\u001b[39;49m\u001b[43mencoding\u001b[49m\u001b[43m,\u001b[49m\n\u001b[0;32m    793\u001b[0m \u001b[43m            \u001b[49m\u001b[43merrors\u001b[49m\u001b[38;5;241;43m=\u001b[39;49m\u001b[43merrors\u001b[49m\u001b[43m,\u001b[49m\n\u001b[0;32m    794\u001b[0m \u001b[43m            \u001b[49m\u001b[43mnewline\u001b[49m\u001b[38;5;241;43m=\u001b[39;49m\u001b[38;5;124;43m\"\u001b[39;49m\u001b[38;5;124;43m\"\u001b[39;49m\u001b[43m,\u001b[49m\n\u001b[0;32m    795\u001b[0m \u001b[43m        \u001b[49m\u001b[43m)\u001b[49m\n\u001b[0;32m    796\u001b[0m     \u001b[38;5;28;01melse\u001b[39;00m:\n\u001b[0;32m    797\u001b[0m         \u001b[38;5;66;03m# Binary mode\u001b[39;00m\n\u001b[0;32m    798\u001b[0m         handle \u001b[38;5;241m=\u001b[39m \u001b[38;5;28mopen\u001b[39m(handle, ioargs\u001b[38;5;241m.\u001b[39mmode)\n",
      "\u001b[1;31mFileNotFoundError\u001b[0m: [Errno 2] No such file or directory: 'tatatest.csv'"
     ]
    }
   ],
   "source": [
    "# Make the Prediction and will visualize the result\n",
    "data_test=pd.read_csv('tatatest.csv')"
   ]
  },
  {
   "cell_type": "code",
   "execution_count": 67,
   "id": "f6e1de44-47cd-4397-b3f6-68f2acc062a3",
   "metadata": {},
   "outputs": [],
   "source": [
    "os.chdir('C:\\\\Users\\\\kandanulus\\\\MyTestlab\\\\DPL\\\\Lesson7\\\\tatatest')"
   ]
  },
  {
   "cell_type": "code",
   "execution_count": 68,
   "id": "7c7d4567-65ec-4926-b225-37bdde6be9e0",
   "metadata": {},
   "outputs": [],
   "source": [
    "data_test=pd.read_csv('tatatest.csv')"
   ]
  },
  {
   "cell_type": "code",
   "execution_count": 70,
   "id": "1618f0db-c72b-47c9-b5ff-b59034754607",
   "metadata": {},
   "outputs": [
    {
     "data": {
      "text/html": [
       "<div>\n",
       "<style scoped>\n",
       "    .dataframe tbody tr th:only-of-type {\n",
       "        vertical-align: middle;\n",
       "    }\n",
       "\n",
       "    .dataframe tbody tr th {\n",
       "        vertical-align: top;\n",
       "    }\n",
       "\n",
       "    .dataframe thead th {\n",
       "        text-align: right;\n",
       "    }\n",
       "</style>\n",
       "<table border=\"1\" class=\"dataframe\">\n",
       "  <thead>\n",
       "    <tr style=\"text-align: right;\">\n",
       "      <th></th>\n",
       "      <th>Date</th>\n",
       "      <th>Open</th>\n",
       "      <th>High</th>\n",
       "      <th>Low</th>\n",
       "      <th>Last</th>\n",
       "      <th>Close</th>\n",
       "      <th>Total Trade Quantity</th>\n",
       "      <th>Turnover (Lacs)</th>\n",
       "    </tr>\n",
       "  </thead>\n",
       "  <tbody>\n",
       "    <tr>\n",
       "      <th>0</th>\n",
       "      <td>2018-10-24</td>\n",
       "      <td>220.10</td>\n",
       "      <td>221.25</td>\n",
       "      <td>217.05</td>\n",
       "      <td>219.55</td>\n",
       "      <td>219.80</td>\n",
       "      <td>2171956</td>\n",
       "      <td>4771.34</td>\n",
       "    </tr>\n",
       "    <tr>\n",
       "      <th>1</th>\n",
       "      <td>2018-10-23</td>\n",
       "      <td>221.10</td>\n",
       "      <td>222.20</td>\n",
       "      <td>214.75</td>\n",
       "      <td>219.55</td>\n",
       "      <td>218.30</td>\n",
       "      <td>1416279</td>\n",
       "      <td>3092.15</td>\n",
       "    </tr>\n",
       "    <tr>\n",
       "      <th>2</th>\n",
       "      <td>2018-10-22</td>\n",
       "      <td>229.45</td>\n",
       "      <td>231.60</td>\n",
       "      <td>222.00</td>\n",
       "      <td>223.05</td>\n",
       "      <td>223.25</td>\n",
       "      <td>3529711</td>\n",
       "      <td>8028.37</td>\n",
       "    </tr>\n",
       "    <tr>\n",
       "      <th>3</th>\n",
       "      <td>2018-10-19</td>\n",
       "      <td>230.30</td>\n",
       "      <td>232.70</td>\n",
       "      <td>225.50</td>\n",
       "      <td>227.75</td>\n",
       "      <td>227.20</td>\n",
       "      <td>1527904</td>\n",
       "      <td>3490.78</td>\n",
       "    </tr>\n",
       "    <tr>\n",
       "      <th>4</th>\n",
       "      <td>2018-10-17</td>\n",
       "      <td>237.70</td>\n",
       "      <td>240.80</td>\n",
       "      <td>229.45</td>\n",
       "      <td>231.30</td>\n",
       "      <td>231.10</td>\n",
       "      <td>2945914</td>\n",
       "      <td>6961.65</td>\n",
       "    </tr>\n",
       "    <tr>\n",
       "      <th>5</th>\n",
       "      <td>2018-10-16</td>\n",
       "      <td>237.10</td>\n",
       "      <td>237.70</td>\n",
       "      <td>233.05</td>\n",
       "      <td>234.40</td>\n",
       "      <td>235.45</td>\n",
       "      <td>1723113</td>\n",
       "      <td>4052.25</td>\n",
       "    </tr>\n",
       "    <tr>\n",
       "      <th>6</th>\n",
       "      <td>2018-10-15</td>\n",
       "      <td>229.70</td>\n",
       "      <td>237.00</td>\n",
       "      <td>226.80</td>\n",
       "      <td>234.80</td>\n",
       "      <td>234.90</td>\n",
       "      <td>1224339</td>\n",
       "      <td>2845.68</td>\n",
       "    </tr>\n",
       "    <tr>\n",
       "      <th>7</th>\n",
       "      <td>2018-10-12</td>\n",
       "      <td>226.25</td>\n",
       "      <td>232.35</td>\n",
       "      <td>225.50</td>\n",
       "      <td>228.70</td>\n",
       "      <td>229.10</td>\n",
       "      <td>1165527</td>\n",
       "      <td>2675.91</td>\n",
       "    </tr>\n",
       "    <tr>\n",
       "      <th>8</th>\n",
       "      <td>2018-10-11</td>\n",
       "      <td>215.00</td>\n",
       "      <td>229.70</td>\n",
       "      <td>215.00</td>\n",
       "      <td>225.60</td>\n",
       "      <td>224.60</td>\n",
       "      <td>1293881</td>\n",
       "      <td>2890.85</td>\n",
       "    </tr>\n",
       "    <tr>\n",
       "      <th>9</th>\n",
       "      <td>2018-10-10</td>\n",
       "      <td>215.00</td>\n",
       "      <td>229.65</td>\n",
       "      <td>215.00</td>\n",
       "      <td>228.25</td>\n",
       "      <td>228.40</td>\n",
       "      <td>2919278</td>\n",
       "      <td>6557.95</td>\n",
       "    </tr>\n",
       "    <tr>\n",
       "      <th>10</th>\n",
       "      <td>2018-10-09</td>\n",
       "      <td>215.50</td>\n",
       "      <td>219.15</td>\n",
       "      <td>209.60</td>\n",
       "      <td>215.00</td>\n",
       "      <td>216.50</td>\n",
       "      <td>1844462</td>\n",
       "      <td>3940.70</td>\n",
       "    </tr>\n",
       "    <tr>\n",
       "      <th>11</th>\n",
       "      <td>2018-10-08</td>\n",
       "      <td>208.00</td>\n",
       "      <td>222.25</td>\n",
       "      <td>206.85</td>\n",
       "      <td>216.00</td>\n",
       "      <td>215.15</td>\n",
       "      <td>4642146</td>\n",
       "      <td>10062.83</td>\n",
       "    </tr>\n",
       "    <tr>\n",
       "      <th>12</th>\n",
       "      <td>2018-10-05</td>\n",
       "      <td>217.00</td>\n",
       "      <td>218.60</td>\n",
       "      <td>205.90</td>\n",
       "      <td>210.25</td>\n",
       "      <td>209.20</td>\n",
       "      <td>3519515</td>\n",
       "      <td>7407.06</td>\n",
       "    </tr>\n",
       "    <tr>\n",
       "      <th>13</th>\n",
       "      <td>2018-10-04</td>\n",
       "      <td>223.50</td>\n",
       "      <td>227.80</td>\n",
       "      <td>216.15</td>\n",
       "      <td>217.25</td>\n",
       "      <td>218.20</td>\n",
       "      <td>1728786</td>\n",
       "      <td>3815.79</td>\n",
       "    </tr>\n",
       "    <tr>\n",
       "      <th>14</th>\n",
       "      <td>2018-10-03</td>\n",
       "      <td>230.00</td>\n",
       "      <td>237.50</td>\n",
       "      <td>225.75</td>\n",
       "      <td>226.45</td>\n",
       "      <td>227.60</td>\n",
       "      <td>1708590</td>\n",
       "      <td>3960.27</td>\n",
       "    </tr>\n",
       "    <tr>\n",
       "      <th>15</th>\n",
       "      <td>2018-10-01</td>\n",
       "      <td>234.55</td>\n",
       "      <td>234.60</td>\n",
       "      <td>221.05</td>\n",
       "      <td>230.30</td>\n",
       "      <td>230.90</td>\n",
       "      <td>1534749</td>\n",
       "      <td>3486.05</td>\n",
       "    </tr>\n",
       "  </tbody>\n",
       "</table>\n",
       "</div>"
      ],
      "text/plain": [
       "          Date    Open    High     Low    Last   Close  Total Trade Quantity  \\\n",
       "0   2018-10-24  220.10  221.25  217.05  219.55  219.80               2171956   \n",
       "1   2018-10-23  221.10  222.20  214.75  219.55  218.30               1416279   \n",
       "2   2018-10-22  229.45  231.60  222.00  223.05  223.25               3529711   \n",
       "3   2018-10-19  230.30  232.70  225.50  227.75  227.20               1527904   \n",
       "4   2018-10-17  237.70  240.80  229.45  231.30  231.10               2945914   \n",
       "5   2018-10-16  237.10  237.70  233.05  234.40  235.45               1723113   \n",
       "6   2018-10-15  229.70  237.00  226.80  234.80  234.90               1224339   \n",
       "7   2018-10-12  226.25  232.35  225.50  228.70  229.10               1165527   \n",
       "8   2018-10-11  215.00  229.70  215.00  225.60  224.60               1293881   \n",
       "9   2018-10-10  215.00  229.65  215.00  228.25  228.40               2919278   \n",
       "10  2018-10-09  215.50  219.15  209.60  215.00  216.50               1844462   \n",
       "11  2018-10-08  208.00  222.25  206.85  216.00  215.15               4642146   \n",
       "12  2018-10-05  217.00  218.60  205.90  210.25  209.20               3519515   \n",
       "13  2018-10-04  223.50  227.80  216.15  217.25  218.20               1728786   \n",
       "14  2018-10-03  230.00  237.50  225.75  226.45  227.60               1708590   \n",
       "15  2018-10-01  234.55  234.60  221.05  230.30  230.90               1534749   \n",
       "\n",
       "    Turnover (Lacs)  \n",
       "0           4771.34  \n",
       "1           3092.15  \n",
       "2           8028.37  \n",
       "3           3490.78  \n",
       "4           6961.65  \n",
       "5           4052.25  \n",
       "6           2845.68  \n",
       "7           2675.91  \n",
       "8           2890.85  \n",
       "9           6557.95  \n",
       "10          3940.70  \n",
       "11         10062.83  \n",
       "12          7407.06  \n",
       "13          3815.79  \n",
       "14          3960.27  \n",
       "15          3486.05  "
      ]
     },
     "execution_count": 70,
     "metadata": {},
     "output_type": "execute_result"
    }
   ],
   "source": [
    "data_test"
   ]
  },
  {
   "cell_type": "code",
   "execution_count": 73,
   "id": "2059c737-16fa-4350-8448-b5ca4f005330",
   "metadata": {},
   "outputs": [
    {
     "ename": "TypeError",
     "evalue": "'tuple' object is not callable",
     "output_type": "error",
     "traceback": [
      "\u001b[1;31m---------------------------------------------------------------------------\u001b[0m",
      "\u001b[1;31mTypeError\u001b[0m                                 Traceback (most recent call last)",
      "Input \u001b[1;32mIn [73]\u001b[0m, in \u001b[0;36m<cell line: 1>\u001b[1;34m()\u001b[0m\n\u001b[1;32m----> 1\u001b[0m \u001b[43mdata_test\u001b[49m\u001b[38;5;241;43m.\u001b[39;49m\u001b[43mshape\u001b[49m\u001b[43m(\u001b[49m\u001b[43m)\u001b[49m\n",
      "\u001b[1;31mTypeError\u001b[0m: 'tuple' object is not callable"
     ]
    }
   ],
   "source": [
    "data_test.shape()"
   ]
  },
  {
   "cell_type": "code",
   "execution_count": 74,
   "id": "338f5efe-f76d-494b-ab50-6e8f4695596a",
   "metadata": {},
   "outputs": [],
   "source": [
    "test_set=data_test.iloc[:,1:2].values"
   ]
  },
  {
   "cell_type": "code",
   "execution_count": 75,
   "id": "66bed806-35b7-4805-b582-f47a55e44475",
   "metadata": {},
   "outputs": [
    {
     "data": {
      "text/plain": [
       "array([[220.1 ],\n",
       "       [221.1 ],\n",
       "       [229.45],\n",
       "       [230.3 ],\n",
       "       [237.7 ],\n",
       "       [237.1 ],\n",
       "       [229.7 ],\n",
       "       [226.25],\n",
       "       [215.  ],\n",
       "       [215.  ],\n",
       "       [215.5 ],\n",
       "       [208.  ],\n",
       "       [217.  ],\n",
       "       [223.5 ],\n",
       "       [230.  ],\n",
       "       [234.55]])"
      ]
     },
     "execution_count": 75,
     "metadata": {},
     "output_type": "execute_result"
    }
   ],
   "source": [
    "test_set"
   ]
  },
  {
   "cell_type": "code",
   "execution_count": 81,
   "id": "59269de9-0a77-4ee0-bcc6-74d02f392861",
   "metadata": {},
   "outputs": [],
   "source": [
    "#Concat/Mege the training&test data\n",
    "dataset_total=pd.concat((data_train['Open'],data_test['Open']),axis=0)"
   ]
  },
  {
   "cell_type": "code",
   "execution_count": 79,
   "id": "c6a61860-137b-49c4-a9cf-18decfcabfb2",
   "metadata": {},
   "outputs": [
    {
     "data": {
      "text/plain": [
       "(2051,)"
      ]
     },
     "execution_count": 79,
     "metadata": {},
     "output_type": "execute_result"
    }
   ],
   "source": [
    "dataset_total.shape"
   ]
  },
  {
   "cell_type": "code",
   "execution_count": 86,
   "id": "2552d166-9299-4bf5-b656-b6acb9814c70",
   "metadata": {},
   "outputs": [
    {
     "data": {
      "text/plain": [
       "1975"
      ]
     },
     "execution_count": 86,
     "metadata": {},
     "output_type": "execute_result"
    }
   ],
   "source": [
    "len(dataset_total) - len(data_test) - 60"
   ]
  },
  {
   "cell_type": "code",
   "execution_count": 87,
   "id": "12f6899f-ca88-438e-9370-b3acca069748",
   "metadata": {},
   "outputs": [
    {
     "data": {
      "text/plain": [
       "array([131.9 , 134.5 , 134.5 , 134.75, 130.1 , 128.  , 125.  , 124.4 ,\n",
       "       121.3 , 122.3 , 123.3 , 124.6 , 126.35, 123.45, 121.6 , 123.  ,\n",
       "       124.55, 122.5 , 122.8 , 124.  , 124.85, 126.15, 128.5 , 127.7 ,\n",
       "       128.  , 124.  , 123.25, 122.5 , 124.2 , 121.65, 117.  , 118.8 ,\n",
       "       119.  , 118.2 , 116.  , 118.45, 114.  , 112.  , 110.  , 110.15,\n",
       "       111.9 , 115.95, 113.4 , 113.  , 113.75, 112.9 , 112.  , 114.1 ,\n",
       "       117.  , 118.5 , 118.3 , 117.3 , 116.5 , 112.5 , 118.  , 117.6 ,\n",
       "       120.1 , 121.8 , 120.3 , 122.1 , 220.1 , 221.1 , 229.45, 230.3 ,\n",
       "       237.7 , 237.1 , 229.7 , 226.25, 215.  , 215.  , 215.5 , 208.  ,\n",
       "       217.  , 223.5 , 230.  , 234.55])"
      ]
     },
     "execution_count": 87,
     "metadata": {},
     "output_type": "execute_result"
    }
   ],
   "source": [
    "dataset_total[1975:].values"
   ]
  },
  {
   "cell_type": "code",
   "execution_count": 84,
   "id": "ec259447-5b44-4136-b096-bd38b5d2aa43",
   "metadata": {},
   "outputs": [],
   "source": [
    "inputs = dataset_total[len(dataset_total) - len(data_test) - 60:].values\n",
    "inputs = inputs.reshape(-1,1)\n",
    "inputs = sc.transform(inputs)\n",
    "X_test = []\n",
    "for i in range(60, 76):\n",
    "    X_test.append(inputs[i-60:i, 0])\n",
    "X_test = np.array(X_test)\n",
    "X_test = np.reshape(X_test, (X_test.shape[0], X_test.shape[1], 1))"
   ]
  },
  {
   "cell_type": "code",
   "execution_count": 85,
   "id": "5635f25f-ccf0-4fdf-ab1f-21f511df052c",
   "metadata": {},
   "outputs": [
    {
     "name": "stdout",
     "output_type": "stream",
     "text": [
      "1/1 [==============================] - 3s 3s/step\n"
     ]
    }
   ],
   "source": [
    "predicted_stock_price = model.predict(X_test)\n",
    "predicted_stock_price = sc.inverse_transform(predicted_stock_price)"
   ]
  },
  {
   "cell_type": "code",
   "execution_count": 88,
   "id": "5e6f029c-d972-43f9-8d4d-1197f5b7d80d",
   "metadata": {},
   "outputs": [
    {
     "data": {
      "text/plain": [
       "array([[112.50956],\n",
       "       [113.73567],\n",
       "       [116.58756],\n",
       "       [121.76174],\n",
       "       [129.5814 ],\n",
       "       [139.9942 ],\n",
       "       [152.53932],\n",
       "       [166.35605],\n",
       "       [180.37605],\n",
       "       [193.4458 ],\n",
       "       [204.62933],\n",
       "       [213.34618],\n",
       "       [219.30179],\n",
       "       [222.60979],\n",
       "       [223.69043],\n",
       "       [223.14963]], dtype=float32)"
      ]
     },
     "execution_count": 88,
     "metadata": {},
     "output_type": "execute_result"
    }
   ],
   "source": [
    "predicted_stock_price"
   ]
  },
  {
   "cell_type": "code",
   "execution_count": 90,
   "id": "b2b9f6ee-e9e4-4da3-ae16-5e839d4c2c6a",
   "metadata": {},
   "outputs": [
    {
     "data": {
      "image/png": "[encoded data removed]",
      "text/plain": [
       "<Figure size 432x288 with 1 Axes>"
      ]
     },
     "metadata": {
      "needs_background": "light"
     },
     "output_type": "display_data"
    }
   ],
   "source": [
    "# visualize the data\n",
    "plt.plot(test_set,label='Real Stock Prices')\n",
    "plt.plot(predicted_stock_price,color='blue',label='predicted')\n",
    "plt.legend()\n",
    "plt.show()"
   ]
  },
  {
   "cell_type": "code",
   "execution_count": null,
   "id": "8b5b014c-b8fc-485a-ac3e-88baa682949e",
   "metadata": {},
   "outputs": [],
   "source": []
  }
 ],
 "metadata": {
  "kernelspec": {
   "display_name": "Python 3 (ipykernel)",
   "language": "python",
   "name": "python3"
  },
  "language_info": {
   "codemirror_mode": {
    "name": "ipython",
    "version": 3
   },
   "file_extension": ".py",
   "mimetype": "text/x-python",
   "name": "python",
   "nbconvert_exporter": "python",
   "pygments_lexer": "ipython3",
   "version": "3.9.12"
  }
 },
 "nbformat": 4,
 "nbformat_minor": 5
}
