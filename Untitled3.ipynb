{
 "cells": [
  {
   "cell_type": "code",
   "execution_count": 2,
   "id": "59dc187a-784d-40ed-9eff-5bdc3e65bb1e",
   "metadata": {},
   "outputs": [
    {
     "ename": "ModuleNotFoundError",
     "evalue": "No module named 'cv2.cv'",
     "output_type": "error",
     "traceback": [
      "\u001b[1;31m---------------------------------------------------------------------------\u001b[0m",
      "\u001b[1;31mModuleNotFoundError\u001b[0m                       Traceback (most recent call last)",
      "\u001b[1;32m~\\AppData\\Local\\Temp\\ipykernel_14712\\342878332.py\u001b[0m in \u001b[0;36m<module>\u001b[1;34m\u001b[0m\n\u001b[0;32m      1\u001b[0m \u001b[1;32mimport\u001b[0m \u001b[0mcv2\u001b[0m\u001b[1;33m\u001b[0m\u001b[1;33m\u001b[0m\u001b[0m\n\u001b[1;32m----> 2\u001b[1;33m \u001b[1;32mimport\u001b[0m \u001b[0mcv2\u001b[0m\u001b[1;33m.\u001b[0m\u001b[0mcv\u001b[0m \u001b[1;32mas\u001b[0m \u001b[0mcv\u001b[0m\u001b[1;33m\u001b[0m\u001b[1;33m\u001b[0m\u001b[0m\n\u001b[0m\u001b[0;32m      3\u001b[0m \u001b[1;32mimport\u001b[0m \u001b[0mnumpy\u001b[0m \u001b[1;32mas\u001b[0m \u001b[0mnp\u001b[0m\u001b[1;33m\u001b[0m\u001b[1;33m\u001b[0m\u001b[0m\n\u001b[0;32m      4\u001b[0m \u001b[1;33m\u001b[0m\u001b[0m\n\u001b[0;32m      5\u001b[0m \u001b[0mkernel\u001b[0m \u001b[1;33m=\u001b[0m \u001b[0mnp\u001b[0m\u001b[1;33m.\u001b[0m\u001b[0mones\u001b[0m\u001b[1;33m(\u001b[0m\u001b[1;33m(\u001b[0m\u001b[1;36m5\u001b[0m\u001b[1;33m,\u001b[0m\u001b[1;36m5\u001b[0m\u001b[1;33m)\u001b[0m\u001b[1;33m,\u001b[0m\u001b[0mnp\u001b[0m\u001b[1;33m.\u001b[0m\u001b[0muint8\u001b[0m\u001b[1;33m)\u001b[0m\u001b[1;33m\u001b[0m\u001b[1;33m\u001b[0m\u001b[0m\n",
      "\u001b[1;31mModuleNotFoundError\u001b[0m: No module named 'cv2.cv'"
     ]
    }
   ],
   "source": [
    "import cv2\n",
    "import cv2.cv as cv\n",
    "import numpy as np\n",
    "\n",
    "kernel = np.ones((5,5),np.uint8)\n",
    "\n",
    "# Take input from webcam\n",
    "cap = cv2.VideoCapture(-1)\n",
    "\n",
    "# Reduce the size of video to 320x240 so rpi can process faster\n",
    "cap.set(3,320)\n",
    "cap.set(4,240)\n",
    "\n",
    "def nothing(x):\n",
    "    pass\n",
    "# Creating a windows for later use\n",
    "cv2.namedWindow('HueComp')\n",
    "cv2.namedWindow('SatComp')\n",
    "cv2.namedWindow('ValComp')\n",
    "cv2.namedWindow('closing')\n",
    "cv2.namedWindow('tracking')\n",
    "\n",
    "\n",
    "# Creating track bar for min and max for hue, saturation and value\n",
    "# You can adjust the defaults as you like\n",
    "cv2.createTrackbar('hmin', 'HueComp',12,179,nothing)\n",
    "cv2.createTrackbar('hmax', 'HueComp',37,179,nothing)\n",
    "\n",
    "cv2.createTrackbar('smin', 'SatComp',96,255,nothing)\n",
    "cv2.createTrackbar('smax', 'SatComp',255,255,nothing)\n",
    "\n",
    "cv2.createTrackbar('vmin', 'ValComp',186,255,nothing)\n",
    "cv2.createTrackbar('vmax', 'ValComp',255,255,nothing)\n",
    "\n",
    "# My experimental values\n",
    "# hmn = 12\n",
    "# hmx = 37\n",
    "# smn = 145\n",
    "# smx = 255\n",
    "# vmn = 186\n",
    "# vmx = 255\n",
    "\n"
   ]
  },
  {
   "cell_type": "code",
   "execution_count": 3,
   "id": "9e2a38d6-83b2-469f-a8f0-f51fec2c6c6c",
   "metadata": {},
   "outputs": [
    {
     "data": {
      "text/plain": [
       "'4.6.0'"
      ]
     },
     "execution_count": 3,
     "metadata": {},
     "output_type": "execute_result"
    }
   ],
   "source": [
    "cv2.__version__"
   ]
  },
  {
   "cell_type": "code",
   "execution_count": null,
   "id": "e5858415-969d-4fd8-8afa-f0b00d44c62e",
   "metadata": {},
   "outputs": [],
   "source": [
    "pip install opencv-python==4.6.0.66"
   ]
  },
  {
   "cell_type": "code",
   "execution_count": null,
   "id": "d40514f6-a430-48c8-a61b-4cc46e8b20bd",
   "metadata": {},
   "outputs": [],
   "source": [
    "pip install opencv-python"
   ]
  },
  {
   "cell_type": "code",
   "execution_count": 1,
   "id": "d0d9e65a-c9b5-485b-a505-a71f8e928176",
   "metadata": {},
   "outputs": [
    {
     "name": "stdout",
     "output_type": "stream",
     "text": [
      "^C\n",
      "\n",
      "Note: you may need to restart the kernel to use updated packages.\n"
     ]
    }
   ],
   "source": [
    "conda install -c conda-forge opencv"
   ]
  },
  {
   "cell_type": "code",
   "execution_count": null,
   "id": "07a5229e-4b31-4858-8a81-6dc74107d63c",
   "metadata": {},
   "outputs": [],
   "source": []
  }
 ],
 "metadata": {
  "kernelspec": {
   "display_name": "Python 3 (ipykernel)",
   "language": "python",
   "name": "python3"
  },
  "language_info": {
   "codemirror_mode": {
    "name": "ipython",
    "version": 3
   },
   "file_extension": ".py",
   "mimetype": "text/x-python",
   "name": "python",
   "nbconvert_exporter": "python",
   "pygments_lexer": "ipython3",
   "version": "3.9.13"
  }
 },
 "nbformat": 4,
 "nbformat_minor": 5
}
