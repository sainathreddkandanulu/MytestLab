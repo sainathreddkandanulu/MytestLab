{
 "cells": [
  {
   "cell_type": "code",
   "execution_count": 4,
   "id": "17859df2-26bf-414b-a3a0-c5e3072fd0e5",
   "metadata": {},
   "outputs": [],
   "source": [
    "import cv2\n",
    "import numpy as np\n",
    "import os\n",
    "import sys    \n",
    "#import termios\n",
    "#import fcntl\n",
    "#import RPi.GPIO as gpio\n",
    "import time"
   ]
  },
  {
   "cell_type": "code",
   "execution_count": 9,
   "id": "8d7de8f5-6d46-4228-afa8-22a08bcd79dc",
   "metadata": {},
   "outputs": [
    {
     "data": {
      "text/plain": [
       "True"
      ]
     },
     "execution_count": 9,
     "metadata": {},
     "output_type": "execute_result"
    }
   ],
   "source": [
    "cap = cv2.VideoCapture(0)\n",
    "cap.set(3,640)\n",
    "cap.set(4,480)\n"
   ]
  },
  {
   "cell_type": "code",
   "execution_count": 6,
   "id": "aa6055f0-13b8-4fe1-8bd3-74e8ba72a54a",
   "metadata": {},
   "outputs": [
    {
     "data": {
      "text/plain": [
       "< cv2.VideoCapture 000001F69EDBC030>"
      ]
     },
     "execution_count": 6,
     "metadata": {},
     "output_type": "execute_result"
    }
   ],
   "source": [
    "cap"
   ]
  },
  {
   "cell_type": "code",
   "execution_count": 7,
   "id": "88352d0d-507a-4da9-a306-cfc4d02cf75d",
   "metadata": {},
   "outputs": [
    {
     "data": {
      "text/plain": [
       "True"
      ]
     },
     "execution_count": 7,
     "metadata": {},
     "output_type": "execute_result"
    }
   ],
   "source": [
    "cap.set(3,640)"
   ]
  },
  {
   "cell_type": "code",
   "execution_count": 10,
   "id": "946fef90-d177-40ca-bd79-dbf3d4a92b85",
   "metadata": {},
   "outputs": [],
   "source": [
    "def getch():\n",
    "    import sys, tty\n",
    "    init()\n",
    "    # Take each frame\n",
    "    _, frame = cap.read()\n",
    "\n",
    "    # Convert BGR to HSV\n",
    "    hsv = cv2.cvtColor(frame, cv2.COLOR_BGR2HSV)\n",
    "\n",
    "    # define range of yellow color in HSV for tennis ball\n",
    "    lower_yellow = np.array([30, 60, 165], dtype=np.uint8)\n",
    "    upper_yellow = np.array([40, 120, 255], dtype=np.uint8)\n",
    "\n",
    "\n",
    "    # Threshold the HSV image to get only yellow colors\n",
    "    mask = cv2.inRange(hsv, lower_yellow, upper_yellow)\n",
    "\n",
    "    moments = cv2.moments(mask)\n",
    "    area = moments['m00']\n",
    "\n",
    "    if(area > 100000): \n",
    "        #determine the x and y coordinates of the center of the object \n",
    "        #we are tracking by dividing the 1, 0 and 0, 1 moments by the area \n",
    "        x = moments['m10'] / area\n",
    "        y = moments['m01'] / area\n",
    "\n",
    "        print = 'x: ' + str(int(x)) + ' y: ' + str(int(y)) + ' area: ' + str(area)\n",
    "        frame = cv2.circle(frame,(int(x), int(y)), 2, (255, 255, 255), 20)\n",
    "        move_pet(round(x, -1),y,round(area, -5))\n",
    "        time.sleep(0.15)\n",
    "    \n",
    "    #cv2.imshow('mask',mask)\n",
    "    if cv2.waitKey(1) & 0xFF == ord('q'):\n",
    "        clean_up()\n",
    "        sys.exit()"
   ]
  },
  {
   "cell_type": "code",
   "execution_count": 11,
   "id": "5593c498-384c-4de8-866e-ac7a881c835b",
   "metadata": {},
   "outputs": [
    {
     "ename": "ModuleNotFoundError",
     "evalue": "No module named 'termios'",
     "output_type": "error",
     "traceback": [
      "\u001b[1;31m---------------------------------------------------------------------------\u001b[0m",
      "\u001b[1;31mModuleNotFoundError\u001b[0m                       Traceback (most recent call last)",
      "\u001b[1;32m~\\AppData\\Local\\Temp\\ipykernel_25648\\2813971935.py\u001b[0m in \u001b[0;36m<module>\u001b[1;34m\u001b[0m\n\u001b[0;32m     85\u001b[0m \u001b[1;33m\u001b[0m\u001b[0m\n\u001b[0;32m     86\u001b[0m \u001b[1;32mif\u001b[0m \u001b[0m__name__\u001b[0m \u001b[1;33m==\u001b[0m \u001b[1;34m\"__main__\"\u001b[0m\u001b[1;33m:\u001b[0m\u001b[1;33m\u001b[0m\u001b[1;33m\u001b[0m\u001b[0m\n\u001b[1;32m---> 87\u001b[1;33m     \u001b[0mmain\u001b[0m\u001b[1;33m(\u001b[0m\u001b[1;33m)\u001b[0m\u001b[1;33m\u001b[0m\u001b[1;33m\u001b[0m\u001b[0m\n\u001b[0m",
      "\u001b[1;32m~\\AppData\\Local\\Temp\\ipykernel_25648\\2813971935.py\u001b[0m in \u001b[0;36mmain\u001b[1;34m()\u001b[0m\n\u001b[0;32m     79\u001b[0m \u001b[1;32mdef\u001b[0m \u001b[0mmain\u001b[0m\u001b[1;33m(\u001b[0m\u001b[1;33m)\u001b[0m\u001b[1;33m:\u001b[0m\u001b[1;33m\u001b[0m\u001b[1;33m\u001b[0m\u001b[0m\n\u001b[0;32m     80\u001b[0m     \u001b[1;32mwhile\u001b[0m \u001b[1;32mTrue\u001b[0m\u001b[1;33m:\u001b[0m\u001b[1;33m\u001b[0m\u001b[1;33m\u001b[0m\u001b[0m\n\u001b[1;32m---> 81\u001b[1;33m         \u001b[0mgetch\u001b[0m\u001b[1;33m(\u001b[0m\u001b[1;33m)\u001b[0m\u001b[1;33m\u001b[0m\u001b[1;33m\u001b[0m\u001b[0m\n\u001b[0m\u001b[0;32m     82\u001b[0m     \u001b[0mcv2\u001b[0m\u001b[1;33m.\u001b[0m\u001b[0mdestroyAllWindows\u001b[0m\u001b[1;33m(\u001b[0m\u001b[1;33m)\u001b[0m\u001b[1;33m\u001b[0m\u001b[1;33m\u001b[0m\u001b[0m\n\u001b[0;32m     83\u001b[0m \u001b[1;33m\u001b[0m\u001b[0m\n",
      "\u001b[1;32m~\\AppData\\Local\\Temp\\ipykernel_25648\\2694010350.py\u001b[0m in \u001b[0;36mgetch\u001b[1;34m()\u001b[0m\n\u001b[0;32m      1\u001b[0m \u001b[1;32mdef\u001b[0m \u001b[0mgetch\u001b[0m\u001b[1;33m(\u001b[0m\u001b[1;33m)\u001b[0m\u001b[1;33m:\u001b[0m\u001b[1;33m\u001b[0m\u001b[1;33m\u001b[0m\u001b[0m\n\u001b[1;32m----> 2\u001b[1;33m     \u001b[1;32mimport\u001b[0m \u001b[0msys\u001b[0m\u001b[1;33m,\u001b[0m \u001b[0mtty\u001b[0m\u001b[1;33m\u001b[0m\u001b[1;33m\u001b[0m\u001b[0m\n\u001b[0m\u001b[0;32m      3\u001b[0m     \u001b[0minit\u001b[0m\u001b[1;33m(\u001b[0m\u001b[1;33m)\u001b[0m\u001b[1;33m\u001b[0m\u001b[1;33m\u001b[0m\u001b[0m\n\u001b[0;32m      4\u001b[0m     \u001b[1;31m# Take each frame\u001b[0m\u001b[1;33m\u001b[0m\u001b[1;33m\u001b[0m\u001b[0m\n\u001b[0;32m      5\u001b[0m     \u001b[0m_\u001b[0m\u001b[1;33m,\u001b[0m \u001b[0mframe\u001b[0m \u001b[1;33m=\u001b[0m \u001b[0mcap\u001b[0m\u001b[1;33m.\u001b[0m\u001b[0mread\u001b[0m\u001b[1;33m(\u001b[0m\u001b[1;33m)\u001b[0m\u001b[1;33m\u001b[0m\u001b[1;33m\u001b[0m\u001b[0m\n",
      "\u001b[1;32m~\\Anaconda3\\envs\\cv\\lib\\tty.py\u001b[0m in \u001b[0;36m<module>\u001b[1;34m\u001b[0m\n\u001b[0;32m      3\u001b[0m \u001b[1;31m# Author: Steen Lumholt.\u001b[0m\u001b[1;33m\u001b[0m\u001b[1;33m\u001b[0m\u001b[0m\n\u001b[0;32m      4\u001b[0m \u001b[1;33m\u001b[0m\u001b[0m\n\u001b[1;32m----> 5\u001b[1;33m \u001b[1;32mfrom\u001b[0m \u001b[0mtermios\u001b[0m \u001b[1;32mimport\u001b[0m \u001b[1;33m*\u001b[0m\u001b[1;33m\u001b[0m\u001b[1;33m\u001b[0m\u001b[0m\n\u001b[0m\u001b[0;32m      6\u001b[0m \u001b[1;33m\u001b[0m\u001b[0m\n\u001b[0;32m      7\u001b[0m \u001b[0m__all__\u001b[0m \u001b[1;33m=\u001b[0m \u001b[1;33m[\u001b[0m\u001b[1;34m\"setraw\"\u001b[0m\u001b[1;33m,\u001b[0m \u001b[1;34m\"setcbreak\"\u001b[0m\u001b[1;33m]\u001b[0m\u001b[1;33m\u001b[0m\u001b[1;33m\u001b[0m\u001b[0m\n",
      "\u001b[1;31mModuleNotFoundError\u001b[0m: No module named 'termios'"
     ]
    }
   ],
   "source": [
    "def move_pet(x,y,area):\n",
    "    if x > 330:\n",
    "       pivot_right((x-320)/(320*12))\n",
    "    elif x < 310:\n",
    "       pivot_left((320-x)/(320*12))\n",
    "    elif ((310 <= x <= 330) and area<1500000):\n",
    "       forward(0.05)\n",
    "    elif ((310 <= x <= 330) and area>4000000):\n",
    "       reverse(0.05)\n",
    "\n",
    "def init():\n",
    "    gpio.setmode(gpio.BOARD)\n",
    "    gpio.setup(7, gpio.OUT)\n",
    "    gpio.setup(11, gpio.OUT)\n",
    "    gpio.setup(13, gpio.OUT)\n",
    "    gpio.setup(15, gpio.OUT)\n",
    "    gpio.setup(16, gpio.OUT)\n",
    "    gpio.setup(18, gpio.OUT)\n",
    "    gpio.setup(21, gpio.IN)\n",
    "    gpio.output(16, True)    \n",
    "\n",
    "def forward(tf):\n",
    "    gpio.output(7, False)\n",
    "    gpio.output(11, True)\n",
    "    gpio.output(13, True)\n",
    "    gpio.output(15, False)\n",
    "    time.sleep(tf)\n",
    "    clean_up()\n",
    "    \n",
    "\n",
    "def reverse(tf):\n",
    "    gpio.output(7, True)\n",
    "    gpio.output(11, False)\n",
    "    gpio.output(13, False)\n",
    "    gpio.output(15, True)\n",
    "    time.sleep(tf)\n",
    "    clean_up()\n",
    "\n",
    "def turn_left(tf):\n",
    "    gpio.output(7, False)\n",
    "    gpio.output(11, False)\n",
    "    gpio.output(13, True)\n",
    "    gpio.output(15, False)\n",
    "    time.sleep(tf)\n",
    "    clean_up()\n",
    "\n",
    "def turn_right(tf):\n",
    "    gpio.output(7, False)\n",
    "    gpio.output(11, True)\n",
    "    gpio.output(13, False)\n",
    "    gpio.output(15, False)\n",
    "    time.sleep(tf)\n",
    "    clean_up()\n",
    "\n",
    "def pivot_left(tf):\n",
    "    gpio.output(7, False)\n",
    "    gpio.output(11, True)\n",
    "    gpio.output(13, False)\n",
    "    gpio.output(15, True)\n",
    "    time.sleep(tf)\n",
    "    clean_up()\n",
    "\n",
    "def pivot_right(tf):\n",
    "    gpio.output(7, True)\n",
    "    gpio.output(11, False)\n",
    "    gpio.output(13, True)\n",
    "    gpio.output(15, False)\n",
    "    time.sleep(tf)\n",
    "    clean_up()\n",
    "\n",
    "def clean_up():\n",
    "    gpio.output(7, False)\n",
    "    gpio.output(11, False)\n",
    "    gpio.output(13, False)\n",
    "    gpio.output(15, False)\n",
    "    gpio.output(16, False)\n",
    "    gpio.cleanup()   \n",
    "\n",
    "def main():\n",
    "    while True:\n",
    "        getch()\n",
    "    cv2.destroyAllWindows()\n",
    "\n",
    "\n",
    "\n",
    "if __name__ == \"__main__\":\n",
    "    main()"
   ]
  },
  {
   "cell_type": "code",
   "execution_count": null,
   "id": "28baffb2-d18c-4028-a43d-af74b5dbc37c",
   "metadata": {},
   "outputs": [],
   "source": []
  }
 ],
 "metadata": {
  "kernelspec": {
   "display_name": "Python 3 (ipykernel)",
   "language": "python",
   "name": "python3"
  },
  "language_info": {
   "codemirror_mode": {
    "name": "ipython",
    "version": 3
   },
   "file_extension": ".py",
   "mimetype": "text/x-python",
   "name": "python",
   "nbconvert_exporter": "python",
   "pygments_lexer": "ipython3",
   "version": "3.9.13"
  },
  "toc-autonumbering": true,
  "toc-showcode": true
 },
 "nbformat": 4,
 "nbformat_minor": 5
}
