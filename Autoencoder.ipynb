{
 "cells": [
  {
   "cell_type": "markdown",
   "id": "856b067d-dfda-4476-96a3-088353655b94",
   "metadata": {},
   "source": [
    "# Auto encoder - neural network - unsupervised learning\n",
    "# why not PCA - Autoencoder can cosider non linear images where as PCA is only linear two dimention array.\n",
    "\n",
    "#1.Vanilla Autoencoder\n",
    "#2.Multilayer\n",
    "#3.Convolutional Autoencoder\n",
    "#4.Regularised Autoencoder\n",
    "#5.Variational Autoencoder"
   ]
  },
  {
   "cell_type": "code",
   "execution_count": 25,
   "id": "dec664c9-651e-4fc7-997e-05cc19772b1c",
   "metadata": {},
   "outputs": [],
   "source": [
    "import keras\n",
    "import numpy as np\n",
    "import matplotlib.pyplot as plt\n",
    "%matplotlib inline\n",
    "from keras.layers import Layer\n",
    "from keras.datasets import mnist\n",
    "from keras.models import Model\n",
    "from keras.layers import Input, add\n",
    "from keras.layers.core import  Dense, Dropout, Activation, Flatten, Reshape\n",
    "from keras import regularizers\n",
    "from keras.regularizers import l2\n",
    "from keras.layers.convolutional import Conv2D, MaxPooling2D, UpSampling2D, ZeroPadding2D\n",
    "from keras.utils import np_utils"
   ]
  },
  {
   "cell_type": "code",
   "execution_count": 26,
   "id": "d3a6dd1e-9a57-45f6-ab39-34673d31fc6f",
   "metadata": {},
   "outputs": [],
   "source": [
    "#Load the data\n",
    "(X_train,_),(X_test,_)=mnist.load_data()"
   ]
  },
  {
   "cell_type": "code",
   "execution_count": 3,
   "id": "b68af91d-3cf9-456c-8fe6-593a464a64b6",
   "metadata": {},
   "outputs": [
    {
     "data": {
      "text/plain": [
       "(60000, 28, 28)"
      ]
     },
     "execution_count": 3,
     "metadata": {},
     "output_type": "execute_result"
    }
   ],
   "source": [
    "X_train.shape"
   ]
  },
  {
   "cell_type": "code",
   "execution_count": 27,
   "id": "ca19c25a-6f8c-4d43-9ee6-4a1b88ecc9ef",
   "metadata": {},
   "outputs": [],
   "source": [
    "X_train=X_train.reshape(X_train.shape[0],28,28,1)\n",
    "X_test=X_test.reshape(X_test.shape[0],28,28,1)"
   ]
  },
  {
   "cell_type": "code",
   "execution_count": 5,
   "id": "26f6dc49-c885-4499-8e54-4148ebc75d70",
   "metadata": {},
   "outputs": [
    {
     "data": {
      "text/plain": [
       "(60000, 28, 28, 1)"
      ]
     },
     "execution_count": 5,
     "metadata": {},
     "output_type": "execute_result"
    }
   ],
   "source": [
    "X_train.shape"
   ]
  },
  {
   "cell_type": "code",
   "execution_count": 28,
   "id": "600bfb67-7698-4d20-8243-5bb8c348fbf2",
   "metadata": {},
   "outputs": [],
   "source": [
    "#Normalize data\n",
    "X_train = X_train.astype(\"float32\")/255\n",
    "X_test = X_test.astype(\"float32\")/255"
   ]
  },
  {
   "cell_type": "code",
   "execution_count": 29,
   "id": "707e640a-eeed-4372-b484-546c0476c1fb",
   "metadata": {},
   "outputs": [],
   "source": [
    "X_train=X_train.reshape((len(X_train),np.prod(X_train.shape[1:])))\n",
    "X_test=X_test.reshape((len(X_test),np.prod(X_test.shape[1:])))"
   ]
  },
  {
   "cell_type": "code",
   "execution_count": 30,
   "id": "589c9c51-6a8b-4d3d-a61b-452c085b6e74",
   "metadata": {},
   "outputs": [
    {
     "data": {
      "text/plain": [
       "(60000, 784)"
      ]
     },
     "execution_count": 30,
     "metadata": {},
     "output_type": "execute_result"
    }
   ],
   "source": [
    "X_train.shape"
   ]
  },
  {
   "cell_type": "code",
   "execution_count": 31,
   "id": "cb7252d1-bb30-4ab4-95ac-a121c3b4e4b5",
   "metadata": {},
   "outputs": [],
   "source": [
    "input_size=784\n",
    "hidden_size=64\n",
    "output_size=784"
   ]
  },
  {
   "cell_type": "code",
   "execution_count": 32,
   "id": "27af92fc-ad03-43bc-905f-421625ab70d6",
   "metadata": {},
   "outputs": [],
   "source": [
    "x=Input(shape=(input_size,))\n",
    "h=Dense(hidden_size,activation='relu')(x)\n",
    "r=Dense(output_size,activation='sigmoid')(h)\n",
    "\n",
    "ae=Model(inputs=x,outputs=r)"
   ]
  },
  {
   "cell_type": "code",
   "execution_count": 33,
   "id": "7326e500-0aff-4af3-ab1a-31788343a989",
   "metadata": {},
   "outputs": [],
   "source": [
    "ae.compile(optimizer='adam', loss='mse')"
   ]
  },
  {
   "cell_type": "code",
   "execution_count": 34,
   "id": "409f0c07-37f8-4123-98f6-d3ade669cdc7",
   "metadata": {},
   "outputs": [
    {
     "name": "stdout",
     "output_type": "stream",
     "text": [
      "Epoch 1/25\n",
      "469/469 [==============================] - 3s 5ms/step - loss: 0.0445 - val_loss: 0.0226\n",
      "Epoch 2/25\n",
      "469/469 [==============================] - 2s 5ms/step - loss: 0.0174 - val_loss: 0.0130\n",
      "Epoch 3/25\n",
      "469/469 [==============================] - 2s 5ms/step - loss: 0.0110 - val_loss: 0.0087\n",
      "Epoch 4/25\n",
      "469/469 [==============================] - 2s 4ms/step - loss: 0.0078 - val_loss: 0.0066\n",
      "Epoch 5/25\n",
      "469/469 [==============================] - 2s 5ms/step - loss: 0.0062 - val_loss: 0.0055\n",
      "Epoch 6/25\n",
      "469/469 [==============================] - 3s 5ms/step - loss: 0.0053 - val_loss: 0.0049\n",
      "Epoch 7/25\n",
      "469/469 [==============================] - 3s 6ms/step - loss: 0.0049 - val_loss: 0.0046\n",
      "Epoch 8/25\n",
      "469/469 [==============================] - 3s 6ms/step - loss: 0.0046 - val_loss: 0.0044\n",
      "Epoch 9/25\n",
      "469/469 [==============================] - 2s 5ms/step - loss: 0.0044 - val_loss: 0.0042\n",
      "Epoch 10/25\n",
      "469/469 [==============================] - 2s 4ms/step - loss: 0.0043 - val_loss: 0.0041\n",
      "Epoch 11/25\n",
      "469/469 [==============================] - 2s 5ms/step - loss: 0.0042 - val_loss: 0.0041\n",
      "Epoch 12/25\n",
      "469/469 [==============================] - 2s 5ms/step - loss: 0.0042 - val_loss: 0.0040\n",
      "Epoch 13/25\n",
      "469/469 [==============================] - 2s 5ms/step - loss: 0.0041 - val_loss: 0.0040\n",
      "Epoch 14/25\n",
      "469/469 [==============================] - 2s 5ms/step - loss: 0.0041 - val_loss: 0.0040\n",
      "Epoch 15/25\n",
      "469/469 [==============================] - 3s 6ms/step - loss: 0.0040 - val_loss: 0.0039\n",
      "Epoch 16/25\n",
      "469/469 [==============================] - 3s 6ms/step - loss: 0.0040 - val_loss: 0.0039\n",
      "Epoch 17/25\n",
      "469/469 [==============================] - 3s 6ms/step - loss: 0.0040 - val_loss: 0.0039\n",
      "Epoch 18/25\n",
      "469/469 [==============================] - 2s 5ms/step - loss: 0.0040 - val_loss: 0.0038\n",
      "Epoch 19/25\n",
      "469/469 [==============================] - 3s 6ms/step - loss: 0.0039 - val_loss: 0.0038\n",
      "Epoch 20/25\n",
      "469/469 [==============================] - 2s 5ms/step - loss: 0.0039 - val_loss: 0.0039\n",
      "Epoch 21/25\n",
      "469/469 [==============================] - 2s 5ms/step - loss: 0.0039 - val_loss: 0.0038\n",
      "Epoch 22/25\n",
      "469/469 [==============================] - 2s 5ms/step - loss: 0.0039 - val_loss: 0.0038\n",
      "Epoch 23/25\n",
      "469/469 [==============================] - 2s 5ms/step - loss: 0.0039 - val_loss: 0.0038\n",
      "Epoch 24/25\n",
      "469/469 [==============================] - 2s 5ms/step - loss: 0.0039 - val_loss: 0.0038\n",
      "Epoch 25/25\n",
      "469/469 [==============================] - 3s 6ms/step - loss: 0.0038 - val_loss: 0.0037\n"
     ]
    }
   ],
   "source": [
    "epochs = 25\n",
    "batch_size = 128\n",
    "history = ae.fit(X_train, X_train, batch_size=batch_size, epochs=epochs, verbose=1, validation_data=(X_test, X_test))"
   ]
  },
  {
   "cell_type": "code",
   "execution_count": 37,
   "id": "d371063a-8167-4716-8125-6d3e09a04fd3",
   "metadata": {},
   "outputs": [
    {
     "name": "stdout",
     "output_type": "stream",
     "text": [
      "313/313 [==============================] - 1s 2ms/step\n"
     ]
    }
   ],
   "source": [
    "decoded_imgs = ae.predict(X_test)"
   ]
  },
  {
   "cell_type": "code",
   "execution_count": 51,
   "id": "083a7f57-b4dc-45b5-8f10-f8fe7211372d",
   "metadata": {},
   "outputs": [
    {
     "name": "stdout",
     "output_type": "stream",
     "text": [
      "313/313 [==============================] - 1s 2ms/step\n"
     ]
    },
    {
     "data": {
      "image/png": "[encoded data removed]",
      "text/plain": [
       "<Figure size 1440x576 with 10 Axes>"
      ]
     },
     "metadata": {
      "needs_background": "light"
     },
     "output_type": "display_data"
    }
   ],
   "source": [
    "conv_encoder=Model(x,h)\n",
    "encoded_imgs=conv_encoder.predict(X_test)\n",
    "n = 10\n",
    "plt.figure(figsize=(20, 8))\n",
    "for i in range(n):\n",
    "    # display original\n",
    "    ax = plt.subplot(1, n, i+1)\n",
    "    plt.imshow(encoded_imgs[i].reshape(4,16).T)\n",
    "    plt.gray()\n",
    "    ax.get_xaxis().set_visible(False)\n",
    "    ax.get_yaxis().set_visible(False)\n",
    "        \n",
    "plt.show()"
   ]
  },
  {
   "cell_type": "code",
   "execution_count": 52,
   "id": "38e8e91b-c3db-45f0-9a5a-4e7e26a4ff4a",
   "metadata": {},
   "outputs": [
    {
     "data": {
      "image/png": "[encoded data removed]",
      "text/plain": [
       "<Figure size 1440x432 with 20 Axes>"
      ]
     },
     "metadata": {
      "needs_background": "light"
     },
     "output_type": "display_data"
    }
   ],
   "source": [
    "n = 10\n",
    "plt.figure(figsize=(20, 6))\n",
    "for i in range(n):\n",
    "    # display original\n",
    "    ax = plt.subplot(3, n, i+1)\n",
    "    plt.imshow(X_test[i].reshape(28, 28))\n",
    "    plt.gray()\n",
    "    ax.get_xaxis().set_visible(False)\n",
    "    ax.get_yaxis().set_visible(False)\n",
    "    \n",
    "    # display reconstruction\n",
    "    ax = plt.subplot(3, n, i+n+1)\n",
    "    plt.imshow(decoded_imgs[i].reshape(28, 28))\n",
    "    plt.gray()\n",
    "    ax.get_xaxis().set_visible(False)\n",
    "    ax.get_yaxis().set_visible(False)\n",
    "    \n",
    "plt.show()"
   ]
  },
  {
   "cell_type": "code",
   "execution_count": 44,
   "id": "435204ca-2d58-4e13-963f-0214c0524da5",
   "metadata": {},
   "outputs": [],
   "source": [
    "# Multilayer Autoencoder\n",
    "input_size=784\n",
    "hidden_size=128\n",
    "code_size=64\n",
    "# Encoder\n",
    "x=Input(shape=(input_size,))\n",
    "hidden_1=Dense(hidden_size,activation='relu')(x)\n",
    "h=Dense(code_size,activation='relu')(hidden_1)\n",
    "# Decoder\n",
    "hidden_2=Dense(hidden_size,activation='relu')(h)\n",
    "r=Dense(input_size,activation='sigmoid')(hidden_2)\n",
    "ae1=Model(inputs=x,outputs=r)"
   ]
  },
  {
   "cell_type": "code",
   "execution_count": 45,
   "id": "219bfde4-9006-4748-9e30-e443360b015f",
   "metadata": {},
   "outputs": [
    {
     "name": "stdout",
     "output_type": "stream",
     "text": [
      "Model: \"model_2\"\n",
      "_________________________________________________________________\n",
      " Layer (type)                Output Shape              Param #   \n",
      "=================================================================\n",
      " input_5 (InputLayer)        [(None, 784)]             0         \n",
      "                                                                 \n",
      " dense_6 (Dense)             (None, 128)               100480    \n",
      "                                                                 \n",
      " dense_7 (Dense)             (None, 64)                8256      \n",
      "                                                                 \n",
      " dense_8 (Dense)             (None, 128)               8320      \n",
      "                                                                 \n",
      " dense_9 (Dense)             (None, 784)               101136    \n",
      "                                                                 \n",
      "=================================================================\n",
      "Total params: 218,192\n",
      "Trainable params: 218,192\n",
      "Non-trainable params: 0\n",
      "_________________________________________________________________\n"
     ]
    }
   ],
   "source": [
    "ae1.summary()"
   ]
  },
  {
   "cell_type": "code",
   "execution_count": 46,
   "id": "44e1f147-034b-418b-9554-f3a67405f3c6",
   "metadata": {},
   "outputs": [],
   "source": [
    "ae1.compile(optimizer='adam', loss='mse')"
   ]
  },
  {
   "cell_type": "code",
   "execution_count": 47,
   "id": "c1a07c36-f2df-4d52-b23a-b2f5145c9457",
   "metadata": {},
   "outputs": [
    {
     "name": "stdout",
     "output_type": "stream",
     "text": [
      "Epoch 1/5\n",
      "469/469 [==============================] - 5s 9ms/step - loss: 0.0422 - val_loss: 0.0201\n",
      "Epoch 2/5\n",
      "469/469 [==============================] - 4s 8ms/step - loss: 0.0164 - val_loss: 0.0131\n",
      "Epoch 3/5\n",
      "469/469 [==============================] - 4s 8ms/step - loss: 0.0121 - val_loss: 0.0106\n",
      "Epoch 4/5\n",
      "469/469 [==============================] - 4s 8ms/step - loss: 0.0103 - val_loss: 0.0093\n",
      "Epoch 5/5\n",
      "469/469 [==============================] - 3s 7ms/step - loss: 0.0092 - val_loss: 0.0085\n"
     ]
    }
   ],
   "source": [
    "epochs=5\n",
    "batch_size=128\n",
    "history = ae1.fit(X_train, X_train, batch_size=batch_size, epochs=epochs, verbose=1, validation_data=(X_test, X_test))"
   ]
  },
  {
   "cell_type": "code",
   "execution_count": 49,
   "id": "67ed8818-2f01-4e29-85a3-5d8f79986ca6",
   "metadata": {},
   "outputs": [
    {
     "name": "stdout",
     "output_type": "stream",
     "text": [
      "313/313 [==============================] - 1s 2ms/step - loss: 0.0085\n"
     ]
    },
    {
     "data": {
      "text/plain": [
       "0.008498740382492542"
      ]
     },
     "execution_count": 49,
     "metadata": {},
     "output_type": "execute_result"
    }
   ],
   "source": [
    "ae1.evaluate(X_test,X_test)"
   ]
  },
  {
   "cell_type": "code",
   "execution_count": 50,
   "id": "f026da3e-7fed-4a30-bebd-4a8e83bda991",
   "metadata": {},
   "outputs": [
    {
     "name": "stdout",
     "output_type": "stream",
     "text": [
      "313/313 [==============================] - 1s 2ms/step\n"
     ]
    }
   ],
   "source": [
    "decoded_imgs = ae1.predict(X_test)"
   ]
  },
  {
   "cell_type": "code",
   "execution_count": 53,
   "id": "f84cd041-fa13-417b-aab8-448de0c08b1a",
   "metadata": {},
   "outputs": [],
   "source": [
    "# Covolutional Autoencoder\n",
    "nb_classes=10\n",
    "# Load the data\n",
    "(X_train,y_train),(X_test,y_test)=mnist.load_data()\n",
    "X_train=X_train.reshape(X_train.shape[0],28,28,1)\n",
    "X_test=X_test.reshape(X_test.shape[0],28,28,1)\n",
    "X_train = X_train.astype(\"float32\")/255\n",
    "X_test = X_test.astype(\"float32\")/255\n"
   ]
  },
  {
   "cell_type": "code",
   "execution_count": 54,
   "id": "912e144b-20a8-4b74-b968-2efb8c78b120",
   "metadata": {},
   "outputs": [
    {
     "data": {
      "text/plain": [
       "(60000, 28, 28, 1)"
      ]
     },
     "execution_count": 54,
     "metadata": {},
     "output_type": "execute_result"
    }
   ],
   "source": [
    "X_train.shape"
   ]
  },
  {
   "cell_type": "code",
   "execution_count": 55,
   "id": "de4d6b99-9718-4bc2-bb64-deafd84f860b",
   "metadata": {},
   "outputs": [],
   "source": [
    "y_train=np_utils.to_categorical(y_train,nb_classes)\n",
    "y_test=np_utils.to_categorical(y_test,nb_classes)"
   ]
  },
  {
   "cell_type": "code",
   "execution_count": 73,
   "id": "49da5af1-535e-4bee-b9f3-647c62764ae0",
   "metadata": {},
   "outputs": [],
   "source": [
    "#Create the network\n",
    "x=Input(shape=(28,28,1))\n",
    "\n",
    "# Encoder\n",
    "conv1_1=Conv2D(16,(3,3),activation='relu',padding='same')(x)\n",
    "pool1=MaxPooling2D((2,2),padding='same')(conv1_1)\n",
    "conv1_2=Conv2D(8,(3,3),activation='relu',padding='same')(pool1)\n",
    "pool2=MaxPooling2D((2,2),padding='same')(conv1_2)\n",
    "conv1_3=Conv2D(8,(3,3),activation='relu',padding='same')(pool2)\n",
    "h=MaxPooling2D((2,2),padding='same')(conv1_3)\n",
    "\n",
    "\n",
    "# Decoder \n",
    "conv2_1=Conv2D(8,(3,3),activation='relu',padding='same')(h)\n",
    "up1=UpSampling2D((2,2))(conv2_1)\n",
    "conv2_2=Conv2D(8,(3,3),activation='relu',padding='same')(up1)\n",
    "up2=UpSampling2D((2,2))(conv2_2)\n",
    "conv2_3=Conv2D(16,(3,3),activation='relu')(up2)\n",
    "up3=UpSampling2D((2,2))(conv2_3)\n",
    "r=Conv2D(1,(3,3),activation='sigmoid',padding='same')(up3)\n",
    "ae2=Model(inputs=x,outputs=r) \n",
    "\n"
   ]
  },
  {
   "cell_type": "code",
   "execution_count": 74,
   "id": "d9700516-02f2-4857-a01b-39251c1f6c04",
   "metadata": {},
   "outputs": [
    {
     "name": "stdout",
     "output_type": "stream",
     "text": [
      "Model: \"model_12\"\n",
      "_________________________________________________________________\n",
      " Layer (type)                Output Shape              Param #   \n",
      "=================================================================\n",
      " input_12 (InputLayer)       [(None, 28, 28, 1)]       0         \n",
      "                                                                 \n",
      " conv2d_45 (Conv2D)          (None, 28, 28, 16)        160       \n",
      "                                                                 \n",
      " max_pooling2d_18 (MaxPoolin  (None, 14, 14, 16)       0         \n",
      " g2D)                                                            \n",
      "                                                                 \n",
      " conv2d_46 (Conv2D)          (None, 14, 14, 8)         1160      \n",
      "                                                                 \n",
      " max_pooling2d_19 (MaxPoolin  (None, 7, 7, 8)          0         \n",
      " g2D)                                                            \n",
      "                                                                 \n",
      " conv2d_47 (Conv2D)          (None, 7, 7, 8)           584       \n",
      "                                                                 \n",
      " max_pooling2d_20 (MaxPoolin  (None, 4, 4, 8)          0         \n",
      " g2D)                                                            \n",
      "                                                                 \n",
      " conv2d_48 (Conv2D)          (None, 4, 4, 8)           584       \n",
      "                                                                 \n",
      " up_sampling2d_18 (UpSamplin  (None, 8, 8, 8)          0         \n",
      " g2D)                                                            \n",
      "                                                                 \n",
      " conv2d_49 (Conv2D)          (None, 8, 8, 8)           584       \n",
      "                                                                 \n",
      " up_sampling2d_19 (UpSamplin  (None, 16, 16, 8)        0         \n",
      " g2D)                                                            \n",
      "                                                                 \n",
      " conv2d_50 (Conv2D)          (None, 14, 14, 16)        1168      \n",
      "                                                                 \n",
      " up_sampling2d_20 (UpSamplin  (None, 28, 28, 16)       0         \n",
      " g2D)                                                            \n",
      "                                                                 \n",
      " conv2d_51 (Conv2D)          (None, 28, 28, 1)         145       \n",
      "                                                                 \n",
      "=================================================================\n",
      "Total params: 4,385\n",
      "Trainable params: 4,385\n",
      "Non-trainable params: 0\n",
      "_________________________________________________________________\n"
     ]
    }
   ],
   "source": [
    "ae2.summary()"
   ]
  },
  {
   "cell_type": "code",
   "execution_count": 75,
   "id": "d4ea79af-ec10-4090-a174-85600046caa1",
   "metadata": {},
   "outputs": [],
   "source": [
    "ae2.compile(optimizer='adadelta', loss='binary_crossentropy')"
   ]
  },
  {
   "cell_type": "code",
   "execution_count": 76,
   "id": "afd01c3f-d7cf-46b5-a1ed-c46f44a22fb1",
   "metadata": {},
   "outputs": [
    {
     "name": "stdout",
     "output_type": "stream",
     "text": [
      "Epoch 1/3\n",
      "469/469 [==============================] - 81s 170ms/step - loss: 0.6922 - val_loss: 0.6910\n",
      "Epoch 2/3\n",
      "469/469 [==============================] - 77s 164ms/step - loss: 0.6894 - val_loss: 0.6875\n",
      "Epoch 3/3\n",
      "469/469 [==============================] - 75s 161ms/step - loss: 0.6846 - val_loss: 0.6811\n"
     ]
    }
   ],
   "source": [
    "epochs=3\n",
    "batch_size=128\n",
    "history = ae2.fit(X_train, X_train, batch_size=batch_size, epochs=epochs, verbose=1, validation_data=(X_test, X_test))"
   ]
  },
  {
   "cell_type": "code",
   "execution_count": 66,
   "id": "67c55e0a-93ef-453c-9be0-8c57ce24c459",
   "metadata": {},
   "outputs": [
    {
     "name": "stdout",
     "output_type": "stream",
     "text": [
      "313/313 [==============================] - 4s 13ms/step\n"
     ]
    }
   ],
   "source": [
    "decoded_imgs = ae2.predict(X_test)"
   ]
  },
  {
   "cell_type": "code",
   "execution_count": 77,
   "id": "cf3a3311-0594-49cb-a63f-05006477f701",
   "metadata": {},
   "outputs": [
    {
     "ename": "ValueError",
     "evalue": "cannot reshape array of size 900 into shape (28,28)",
     "output_type": "error",
     "traceback": [
      "\u001b[1;31m---------------------------------------------------------------------------\u001b[0m",
      "\u001b[1;31mValueError\u001b[0m                                Traceback (most recent call last)",
      "Input \u001b[1;32mIn [77]\u001b[0m, in \u001b[0;36m<cell line: 3>\u001b[1;34m()\u001b[0m\n\u001b[0;32m     11\u001b[0m \u001b[38;5;66;03m# display reconstruction\u001b[39;00m\n\u001b[0;32m     12\u001b[0m ax \u001b[38;5;241m=\u001b[39m plt\u001b[38;5;241m.\u001b[39msubplot(\u001b[38;5;241m3\u001b[39m, n, i\u001b[38;5;241m+\u001b[39mn\u001b[38;5;241m+\u001b[39m\u001b[38;5;241m1\u001b[39m)\n\u001b[1;32m---> 13\u001b[0m plt\u001b[38;5;241m.\u001b[39mimshow(\u001b[43mdecoded_imgs\u001b[49m\u001b[43m[\u001b[49m\u001b[43mi\u001b[49m\u001b[43m]\u001b[49m\u001b[38;5;241;43m.\u001b[39;49m\u001b[43mreshape\u001b[49m\u001b[43m(\u001b[49m\u001b[38;5;241;43m28\u001b[39;49m\u001b[43m,\u001b[49m\u001b[43m \u001b[49m\u001b[38;5;241;43m28\u001b[39;49m\u001b[43m)\u001b[49m)\n\u001b[0;32m     14\u001b[0m plt\u001b[38;5;241m.\u001b[39mgray()\n\u001b[0;32m     15\u001b[0m ax\u001b[38;5;241m.\u001b[39mget_xaxis()\u001b[38;5;241m.\u001b[39mset_visible(\u001b[38;5;28;01mFalse\u001b[39;00m)\n",
      "\u001b[1;31mValueError\u001b[0m: cannot reshape array of size 900 into shape (28,28)"
     ]
    },
    {
     "data": {
      "image/png": "[encoded data removed]",
      "text/plain": [
       "<Figure size 1440x432 with 2 Axes>"
      ]
     },
     "metadata": {
      "needs_background": "light"
     },
     "output_type": "display_data"
    }
   ],
   "source": [
    "n = 10\n",
    "plt.figure(figsize=(20, 6))\n",
    "for i in range(n):\n",
    "    # display original\n",
    "    ax = plt.subplot(3, n, i+1)\n",
    "    plt.imshow(X_test[i].reshape(28, 28))\n",
    "    plt.gray()\n",
    "    ax.get_xaxis().set_visible(False)\n",
    "    ax.get_yaxis().set_visible(False)\n",
    "    \n",
    "    # display reconstruction\n",
    "    ax = plt.subplot(3, n, i+n+1)\n",
    "    plt.imshow(decoded_imgs[i].reshape(28, 28))\n",
    "    plt.gray()\n",
    "    ax.get_xaxis().set_visible(False)\n",
    "    ax.get_yaxis().set_visible(False)\n",
    "    \n",
    "plt.show()"
   ]
  },
  {
   "cell_type": "code",
   "execution_count": null,
   "id": "cfa9f103-1cc2-4f98-b765-774aea4b97bf",
   "metadata": {},
   "outputs": [],
   "source": []
  }
 ],
 "metadata": {
  "kernelspec": {
   "display_name": "Python 3 (ipykernel)",
   "language": "python",
   "name": "python3"
  },
  "language_info": {
   "codemirror_mode": {
    "name": "ipython",
    "version": 3
   },
   "file_extension": ".py",
   "mimetype": "text/x-python",
   "name": "python",
   "nbconvert_exporter": "python",
   "pygments_lexer": "ipython3",
   "version": "3.9.13"
  }
 },
 "nbformat": 4,
 "nbformat_minor": 5
}
